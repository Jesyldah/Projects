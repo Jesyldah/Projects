{
  "nbformat": 4,
  "nbformat_minor": 0,
  "metadata": {
    "colab": {
      "name": "Project: Apache Spark DataFrames-Jesyldah.ipynb",
      "provenance": [],
      "collapsed_sections": [],
      "toc_visible": true,
      "authorship_tag": "ABX9TyMSKqg90jy5sr6SJT1t1Vbq",
      "include_colab_link": true
    },
    "kernelspec": {
      "name": "python3",
      "display_name": "Python 3"
    },
    "language_info": {
      "name": "python"
    }
  },
  "cells": [
    {
      "cell_type": "markdown",
      "metadata": {
        "id": "view-in-github",
        "colab_type": "text"
      },
      "source": [
        "<a href=\"https://colab.research.google.com/github/Jesyldah/Projects/blob/main/Project_Apache_Spark_DataFrames_Jesyldah.ipynb\" target=\"_parent\"><img src=\"https://colab.research.google.com/assets/colab-badge.svg\" alt=\"Open In Colab\"/></a>"
      ]
    },
    {
      "cell_type": "markdown",
      "metadata": {
        "id": "5rsuJFNzL2_i"
      },
      "source": [
        "# Apache Spark DataFrames Project"
      ]
    },
    {
      "cell_type": "markdown",
      "metadata": {
        "id": "80rRdHccL9Kb"
      },
      "source": [
        "## 1. Defining the Question\n"
      ]
    },
    {
      "cell_type": "markdown",
      "metadata": {
        "id": "i738ch8vL9X6"
      },
      "source": [
        "### a) Specifying the Data Analysis Question"
      ]
    },
    {
      "cell_type": "markdown",
      "metadata": {
        "id": "Kjfl9wpBOT79"
      },
      "source": [
        "Perform an analysis on Safaricom stock market data from the years 2012-2016"
      ]
    },
    {
      "cell_type": "markdown",
      "metadata": {
        "id": "pEB73eSyL9bf"
      },
      "source": [
        "### b) Defining the Metric for Success"
      ]
    },
    {
      "cell_type": "markdown",
      "metadata": {
        "id": "X0D_yIhZObOU"
      },
      "source": [
        "The analysis question will be answered by answering questions about some stock market data on Safaricom from the years 2012-2016"
      ]
    },
    {
      "cell_type": "markdown",
      "metadata": {
        "id": "NjcidHqjL9fX"
      },
      "source": [
        "### c) Understanding the context "
      ]
    },
    {
      "cell_type": "markdown",
      "metadata": {
        "id": "yShyG_a0L9j_"
      },
      "source": [
        "As a Data professional, you need to perform an analysis by answering questions about\n",
        "some stock market data on Safaricom from the years 2012-2016\n",
        "\n",
        "\n",
        "\n"
      ]
    },
    {
      "cell_type": "markdown",
      "metadata": {
        "id": "avtlmOoXL9vv"
      },
      "source": [
        "### d) Recording the Experimental Design"
      ]
    },
    {
      "cell_type": "markdown",
      "metadata": {
        "id": "IP4ITpvoL97t"
      },
      "source": [
        "1. Data Importation and Exploration\n",
        "2. Data Preparation\n",
        "3. Data Analysis\n",
        "\n"
      ]
    },
    {
      "cell_type": "markdown",
      "metadata": {
        "id": "ibxQ6tl5PyxA"
      },
      "source": [
        "### e) Data Relevance"
      ]
    },
    {
      "cell_type": "markdown",
      "metadata": {
        "id": "nCY15xMIPzMB"
      },
      "source": [
        "The dataset includes Safaricom stock market daily data for the period Jan 2012 - Dec 2016, and is therefore relevant in answering the research question\n",
        "\n",
        "The dataset contains the following info on the daily stock trades:\n",
        "* Date - The calender date\n",
        "* Open - Opening price on the stock\n",
        "* High - The maximum value reached by the stock \n",
        "* Low - The minimum price of the stock\n",
        "* Close - Closing price of the stock\n",
        "* Volume - The number of shares that exchange hands for the stock \n",
        "* Adj Close - Price value that incorporates changes resulting from corporate actions such as dividend payments, stock splits, or new share issuance."
      ]
    },
    {
      "cell_type": "markdown",
      "metadata": {
        "id": "-on4OF1VPzX6"
      },
      "source": [
        "## 2. Data Importation and Exploration"
      ]
    },
    {
      "cell_type": "markdown",
      "source": [
        "### Start a spark session and load the stock file while inferring the data types."
      ],
      "metadata": {
        "id": "JycbEVEFbT_7"
      }
    },
    {
      "cell_type": "code",
      "metadata": {
        "id": "Ktyc8nZoQQRI",
        "colab": {
          "base_uri": "https://localhost:8080/"
        },
        "outputId": "bff2486e-7e10-46c6-f076-bad35584766e"
      },
      "source": [
        "# Installing pyspark\n",
        "!pip install pyspark\n"
      ],
      "execution_count": 1,
      "outputs": [
        {
          "output_type": "stream",
          "name": "stdout",
          "text": [
            "Collecting pyspark\n",
            "  Downloading pyspark-3.2.0.tar.gz (281.3 MB)\n",
            "\u001b[K     |████████████████████████████████| 281.3 MB 39 kB/s \n",
            "\u001b[?25hCollecting py4j==0.10.9.2\n",
            "  Downloading py4j-0.10.9.2-py2.py3-none-any.whl (198 kB)\n",
            "\u001b[K     |████████████████████████████████| 198 kB 34.1 MB/s \n",
            "\u001b[?25hBuilding wheels for collected packages: pyspark\n",
            "  Building wheel for pyspark (setup.py) ... \u001b[?25l\u001b[?25hdone\n",
            "  Created wheel for pyspark: filename=pyspark-3.2.0-py2.py3-none-any.whl size=281805912 sha256=75df74c18586bcf362fe53cfdc0a4af473a32a40aa6fb770ec41e0eb49d244ec\n",
            "  Stored in directory: /root/.cache/pip/wheels/0b/de/d2/9be5d59d7331c6c2a7c1b6d1a4f463ce107332b1ecd4e80718\n",
            "Successfully built pyspark\n",
            "Installing collected packages: py4j, pyspark\n",
            "Successfully installed py4j-0.10.9.2 pyspark-3.2.0\n"
          ]
        }
      ]
    },
    {
      "cell_type": "code",
      "metadata": {
        "id": "1PlwTmH0QQkk"
      },
      "source": [
        "# Run a local spark session\n",
        "from pyspark.sql import SparkSession\n",
        "spark = SparkSession.builder.master(\"local[*]\").getOrCreate()\n",
        "sc = spark.sparkContext\n"
      ],
      "execution_count": 2,
      "outputs": []
    },
    {
      "cell_type": "code",
      "metadata": {
        "id": "oVI0vTP0QQy4"
      },
      "source": [
        "# Upload the dataset\n",
        "from google.colab import files\n",
        "files.upload()\n"
      ],
      "execution_count": null,
      "outputs": []
    },
    {
      "cell_type": "code",
      "metadata": {
        "colab": {
          "base_uri": "https://localhost:8080/"
        },
        "id": "-MkjLwaNQRH1",
        "outputId": "a3cdddbc-f8f5-48f1-dafa-00edb28b1a12"
      },
      "source": [
        "# Import SQLContext from the pyspark.sql library\n",
        "from pyspark.sql import SQLContext\n",
        "\n",
        "# Instantiate the SQLContext object and assign it to the variable sqlCtx.\n",
        "# Pass in the SparkContext object `sc`\n",
        "sqlCtx = SQLContext(sc)\n",
        "\n",
        "# Read in the data into a DataFrame object `saf_stock_df`\n",
        "saf_stock_df = sqlCtx.read.format(\"csv\").option(\"header\",\"true\").load(\"saf_stock.csv\")\n",
        "\n",
        "# Print the type\n",
        "print(type(saf_stock_df))\n"
      ],
      "execution_count": 4,
      "outputs": [
        {
          "output_type": "stream",
          "name": "stderr",
          "text": [
            "/usr/local/lib/python3.7/dist-packages/pyspark/sql/context.py:79: FutureWarning: Deprecated in 3.0.0. Use SparkSession.builder.getOrCreate() instead.\n",
            "  FutureWarning\n"
          ]
        },
        {
          "output_type": "stream",
          "name": "stdout",
          "text": [
            "<class 'pyspark.sql.dataframe.DataFrame'>\n"
          ]
        }
      ]
    },
    {
      "cell_type": "markdown",
      "source": [
        "### Determine the column names"
      ],
      "metadata": {
        "id": "2fEe1lf3t82s"
      }
    },
    {
      "cell_type": "code",
      "metadata": {
        "colab": {
          "base_uri": "https://localhost:8080/"
        },
        "id": "_x4ce0XURCLZ",
        "outputId": "eeaf024c-923d-4397-b298-6106aafd735d"
      },
      "source": [
        "# Display the DataFrame columns\n",
        "saf_stock_df.columns\n"
      ],
      "execution_count": 5,
      "outputs": [
        {
          "output_type": "execute_result",
          "data": {
            "text/plain": [
              "['Date', 'Open', 'High', 'Low', 'Close', 'Volume', 'Adj Close']"
            ]
          },
          "metadata": {},
          "execution_count": 5
        }
      ]
    },
    {
      "cell_type": "markdown",
      "source": [
        "The column names are: 'Date', 'Open', 'High', 'Low', 'Close', 'Volume', and 'Adj Close'"
      ],
      "metadata": {
        "id": "dKPAJaDU2lLX"
      }
    },
    {
      "cell_type": "markdown",
      "source": [
        "### Make observations about the schema"
      ],
      "metadata": {
        "id": "F8NMRLdF3AeS"
      }
    },
    {
      "cell_type": "code",
      "metadata": {
        "colab": {
          "base_uri": "https://localhost:8080/"
        },
        "id": "N82wUBC8RCRd",
        "outputId": "faeb905d-aa9b-4e7d-95f3-e6ad31f32155"
      },
      "source": [
        "# Display the schema for the DataFrame\n",
        "saf_stock_df.printSchema()\n"
      ],
      "execution_count": 6,
      "outputs": [
        {
          "output_type": "stream",
          "name": "stdout",
          "text": [
            "root\n",
            " |-- Date: string (nullable = true)\n",
            " |-- Open: string (nullable = true)\n",
            " |-- High: string (nullable = true)\n",
            " |-- Low: string (nullable = true)\n",
            " |-- Close: string (nullable = true)\n",
            " |-- Volume: string (nullable = true)\n",
            " |-- Adj Close: string (nullable = true)\n",
            "\n"
          ]
        }
      ]
    },
    {
      "cell_type": "markdown",
      "source": [
        "The dataframe has 7 columns, all of 'string' datatype and nullable"
      ],
      "metadata": {
        "id": "6vEwCNVH3kqQ"
      }
    },
    {
      "cell_type": "markdown",
      "source": [
        "### Show the first 5 rows"
      ],
      "metadata": {
        "id": "HnoTMJwm3y5L"
      }
    },
    {
      "cell_type": "code",
      "source": [
        "# Display the first 5 rows\n",
        "saf_stock_df.show(5)\n"
      ],
      "metadata": {
        "colab": {
          "base_uri": "https://localhost:8080/"
        },
        "id": "hGHtNoRD3106",
        "outputId": "572471df-79f3-433f-bcb1-cb96888e91f3"
      },
      "execution_count": 7,
      "outputs": [
        {
          "output_type": "stream",
          "name": "stdout",
          "text": [
            "+----------+------------------+---------+---------+------------------+--------+------------------+\n",
            "|      Date|              Open|     High|      Low|             Close|  Volume|         Adj Close|\n",
            "+----------+------------------+---------+---------+------------------+--------+------------------+\n",
            "|2012-01-03|         59.970001|61.060001|59.869999|         60.330002|12668800|52.619234999999996|\n",
            "|2012-01-04|60.209998999999996|60.349998|59.470001|59.709998999999996| 9593300|         52.078475|\n",
            "|2012-01-05|         59.349998|59.619999|58.369999|         59.419998|12768200|         51.825539|\n",
            "|2012-01-06|         59.419998|59.450001|58.869999|              59.0| 8069400|          51.45922|\n",
            "|2012-01-09|         59.029999|59.549999|58.919998|             59.18| 6679300|51.616215000000004|\n",
            "+----------+------------------+---------+---------+------------------+--------+------------------+\n",
            "only showing top 5 rows\n",
            "\n"
          ]
        }
      ]
    },
    {
      "cell_type": "markdown",
      "source": [
        "### Use the describe method to learn about the data frame"
      ],
      "metadata": {
        "id": "EAfIZ9Ty3_cW"
      }
    },
    {
      "cell_type": "code",
      "source": [
        "# Display summary statistics of the dataset\n",
        "saf_stock_df.describe().show()\n"
      ],
      "metadata": {
        "colab": {
          "base_uri": "https://localhost:8080/"
        },
        "id": "TSYLN-Ui4C_J",
        "outputId": "f6c568de-01ec-4053-da68-0acf66cf4fd9"
      },
      "execution_count": null,
      "outputs": [
        {
          "output_type": "stream",
          "name": "stdout",
          "text": [
            "+-------+----------+------------------+-----------------+-----------------+-----------------+-----------------+-----------------+\n",
            "|summary|      Date|              Open|             High|              Low|            Close|           Volume|        Adj Close|\n",
            "+-------+----------+------------------+-----------------+-----------------+-----------------+-----------------+-----------------+\n",
            "|  count|      1258|              1258|             1258|             1258|             1258|             1258|             1258|\n",
            "|   mean|      null| 72.35785375357709|72.83938807631165| 71.9186009594594|72.38844998012726|8222093.481717011|67.23883848728146|\n",
            "| stddev|      null|  6.76809024470826|6.768186808159218|6.744075756255496|6.756859163732991|  4519780.8431556|6.722609449996857|\n",
            "|    min|2012-01-03|56.389998999999996|        57.060001|        56.299999|        56.419998|         10010500|        50.363689|\n",
            "|    max|2016-12-30|         90.800003|        90.970001|            89.25|        90.470001|          9994400|84.91421600000001|\n",
            "+-------+----------+------------------+-----------------+-----------------+-----------------+-----------------+-----------------+\n",
            "\n"
          ]
        }
      ]
    },
    {
      "cell_type": "markdown",
      "source": [
        "The data has a total of 1,258 observations"
      ],
      "metadata": {
        "id": "roe5_F6N5x3W"
      }
    },
    {
      "cell_type": "markdown",
      "metadata": {
        "id": "-q3ITOo5Pzsk"
      },
      "source": [
        "## 3. Data Preparation"
      ]
    },
    {
      "cell_type": "markdown",
      "source": [
        "### Format all the data to 2 decimal places i.e. format_number()"
      ],
      "metadata": {
        "id": "Ec3Ekqrg8veH"
      }
    },
    {
      "cell_type": "code",
      "source": [
        "# Import the format_number() function\n",
        "from pyspark.sql.functions import format_number, col\n",
        "\n",
        "# Import the FloatType datatype\n",
        "from pyspark.sql.types import FloatType\n",
        "\n",
        "# Import the DecimalType datatype\n",
        "from pyspark.sql.types import DecimalType\n",
        "\n",
        "# Select columns to format\n",
        "cols = ['Open', 'High', 'Low', 'Close', 'Adj Close']\n",
        "\n",
        "# Iterate over all the cols and format to 2 d.p\n",
        "for col in cols:\n",
        "  saf_stock_df = saf_stock_df.withColumn(col, format_number(saf_stock_df[col].cast(\"float\"), 2))\n",
        "\n",
        "# Convert 'Volume' column to DecimalType datatype\n",
        "saf_stock_df = saf_stock_df.withColumn('Volume', saf_stock_df.Volume.cast(DecimalType(18, 2)))\n",
        "\n",
        "# Preview the dataset\n",
        "saf_stock_df.show(5)"
      ],
      "metadata": {
        "colab": {
          "base_uri": "https://localhost:8080/"
        },
        "id": "Y2wvaj1D13NA",
        "outputId": "1dcfb888-ca0b-47e0-a9a7-296021e1c5a6"
      },
      "execution_count": 9,
      "outputs": [
        {
          "output_type": "stream",
          "name": "stdout",
          "text": [
            "+----------+-----+-----+-----+-----+-----------+---------+\n",
            "|      Date| Open| High|  Low|Close|     Volume|Adj Close|\n",
            "+----------+-----+-----+-----+-----+-----------+---------+\n",
            "|2012-01-03|59.97|61.06|59.87|60.33|12668800.00|    52.62|\n",
            "|2012-01-04|60.21|60.35|59.47|59.71| 9593300.00|    52.08|\n",
            "|2012-01-05|59.35|59.62|58.37|59.42|12768200.00|    51.83|\n",
            "|2012-01-06|59.42|59.45|58.87|59.00| 8069400.00|    51.46|\n",
            "|2012-01-09|59.03|59.55|58.92|59.18| 6679300.00|    51.62|\n",
            "+----------+-----+-----+-----+-----+-----------+---------+\n",
            "only showing top 5 rows\n",
            "\n"
          ]
        }
      ]
    },
    {
      "cell_type": "markdown",
      "source": [
        "### Create a new data frame with a column called HV Ratio that is the ratio of the High Price versus volume of stock traded for a day\n"
      ],
      "metadata": {
        "id": "EjAinsSPErtn"
      }
    },
    {
      "cell_type": "code",
      "source": [
        "# Create the new column\n",
        "saf_stock_df_new = saf_stock_df.withColumn(\"HV_Ratio\", saf_stock_df.High/saf_stock_df.Volume)\n",
        "\n",
        "# Preview the dataframe\n",
        "saf_stock_df_new.show(5)\n"
      ],
      "metadata": {
        "colab": {
          "base_uri": "https://localhost:8080/"
        },
        "id": "CQo2z5rPEqO9",
        "outputId": "d009d596-8cb8-4716-ae28-dbd4d271786a"
      },
      "execution_count": 13,
      "outputs": [
        {
          "output_type": "stream",
          "name": "stdout",
          "text": [
            "+----------+-----+-----+-----+-----+-----------+---------+--------------------+\n",
            "|      Date| Open| High|  Low|Close|     Volume|Adj Close|            HV_Ratio|\n",
            "+----------+-----+-----+-----+-----+-----------+---------+--------------------+\n",
            "|2012-01-03|59.97|61.06|59.87|60.33|12668800.00|    52.62|4.819714574387472E-6|\n",
            "|2012-01-04|60.21|60.35|59.47|59.71| 9593300.00|    52.08|6.290848821573389...|\n",
            "|2012-01-05|59.35|59.62|58.37|59.42|12768200.00|    51.83|4.669413073103491E-6|\n",
            "|2012-01-06|59.42|59.45|58.87|59.00| 8069400.00|    51.46|7.367338339901356E-6|\n",
            "|2012-01-09|59.03|59.55|58.92|59.18| 6679300.00|    51.62|8.915604928660188E-6|\n",
            "+----------+-----+-----+-----+-----+-----------+---------+--------------------+\n",
            "only showing top 5 rows\n",
            "\n"
          ]
        }
      ]
    },
    {
      "cell_type": "markdown",
      "metadata": {
        "id": "S55bkB9aUvy7"
      },
      "source": [
        "## 4. Data Analysis"
      ]
    },
    {
      "cell_type": "code",
      "source": [
        "# Register the DataFrame saf_stock_df_new as a table named safstock2012_2016.\n",
        "saf_stock_df_new.createOrReplaceTempView('safstock2012_2016')\n",
        "\n",
        "# Query and return the list of tables.\n",
        "tables = sqlCtx.tableNames()\n",
        "\n",
        "# Display the table names\n",
        "print(tables)"
      ],
      "metadata": {
        "colab": {
          "base_uri": "https://localhost:8080/"
        },
        "id": "-5yV15H84wEC",
        "outputId": "3bc6151b-1759-4975-8586-4a4075d9354a"
      },
      "execution_count": 11,
      "outputs": [
        {
          "output_type": "stream",
          "name": "stdout",
          "text": [
            "['safstock2012_2016']\n"
          ]
        }
      ]
    },
    {
      "cell_type": "code",
      "source": [
        "# Preview the table using an sql query\n",
        "sqlCtx.sql('select * from safstock2012_2016').show(5)"
      ],
      "metadata": {
        "colab": {
          "base_uri": "https://localhost:8080/"
        },
        "id": "GR-y0XRe6Ic6",
        "outputId": "89119327-4bfd-4d18-d21f-c5ccee9f43e6"
      },
      "execution_count": 12,
      "outputs": [
        {
          "output_type": "stream",
          "name": "stdout",
          "text": [
            "+----------+-----+-----+-----+-----+-----------+---------+--------------------+\n",
            "|      Date| Open| High|  Low|Close|     Volume|Adj Close|            HV_Ratio|\n",
            "+----------+-----+-----+-----+-----+-----------+---------+--------------------+\n",
            "|2012-01-03|59.97|61.06|59.87|60.33|12668800.00|    52.62|4.819714574387472E-6|\n",
            "|2012-01-04|60.21|60.35|59.47|59.71| 9593300.00|    52.08|6.290848821573389...|\n",
            "|2012-01-05|59.35|59.62|58.37|59.42|12768200.00|    51.83|4.669413073103491E-6|\n",
            "|2012-01-06|59.42|59.45|58.87|59.00| 8069400.00|    51.46|7.367338339901356E-6|\n",
            "|2012-01-09|59.03|59.55|58.92|59.18| 6679300.00|    51.62|8.915604928660188E-6|\n",
            "+----------+-----+-----+-----+-----+-----------+---------+--------------------+\n",
            "only showing top 5 rows\n",
            "\n"
          ]
        }
      ]
    },
    {
      "cell_type": "markdown",
      "metadata": {
        "id": "lpwFiEGhUwjW"
      },
      "source": [
        "### What day had the Peak High in Price?"
      ]
    },
    {
      "cell_type": "code",
      "metadata": {
        "colab": {
          "base_uri": "https://localhost:8080/"
        },
        "id": "xCx7vP5vn2Ww",
        "outputId": "0a7ddb3b-0cad-4480-ca11-a67f17a783c0"
      },
      "source": [
        "# Write the SQL query\n",
        "query1 = 'select Date, max(High) from safstock2012_2016 group by 1 order by 2 desc'\n",
        "\n",
        "# Call sqlCtx.sql() and pass in the query\n",
        "# Display the results\n",
        "sqlCtx.sql(query1).show(1)"
      ],
      "execution_count": 14,
      "outputs": [
        {
          "output_type": "stream",
          "name": "stdout",
          "text": [
            "+----------+---------+\n",
            "|      Date|max(High)|\n",
            "+----------+---------+\n",
            "|2015-01-13|    90.97|\n",
            "+----------+---------+\n",
            "only showing top 1 row\n",
            "\n"
          ]
        }
      ]
    },
    {
      "cell_type": "markdown",
      "source": [
        "2015-01-13 had the peak High price of 90.97"
      ],
      "metadata": {
        "id": "ewJvKLaK78cM"
      }
    },
    {
      "cell_type": "markdown",
      "source": [
        "### What is the mean of the Close column?"
      ],
      "metadata": {
        "id": "Ff6UytJw8EYM"
      }
    },
    {
      "cell_type": "code",
      "metadata": {
        "colab": {
          "base_uri": "https://localhost:8080/"
        },
        "id": "npauCDu5U5Bj",
        "outputId": "ad0c3640-0c61-4dbe-cb9e-16d84ffb5b8e"
      },
      "source": [
        "# Write the SQL query\n",
        "query2 = 'select round(avg(Close),2) as Avg_Close from safstock2012_2016'\n",
        "\n",
        "# Call sqlCtx.sql() and pass in the query\n",
        "# Display the results\n",
        "sqlCtx.sql(query2).show()"
      ],
      "execution_count": 15,
      "outputs": [
        {
          "output_type": "stream",
          "name": "stdout",
          "text": [
            "+---------+\n",
            "|Avg_Close|\n",
            "+---------+\n",
            "|    72.39|\n",
            "+---------+\n",
            "\n"
          ]
        }
      ]
    },
    {
      "cell_type": "markdown",
      "metadata": {
        "id": "m4HDQkt3qtKC"
      },
      "source": [
        "The mean of the Close column is 72.39"
      ]
    },
    {
      "cell_type": "markdown",
      "source": [
        "### What is the max and min of the Volume column?"
      ],
      "metadata": {
        "id": "LWkdLK5P82ca"
      }
    },
    {
      "cell_type": "code",
      "metadata": {
        "colab": {
          "base_uri": "https://localhost:8080/"
        },
        "id": "XHW1-8CiU5LP",
        "outputId": "a28d34f6-53a8-445d-94b6-28c3c0566563"
      },
      "source": [
        "# Write the SQL query\n",
        "query3 = 'select max(Volume) as Max_Volume, min(Volume) as Min_Volume from safstock2012_2016'\n",
        "\n",
        "# Call sqlCtx.sql() and pass in the query\n",
        "# Display the results\n",
        "sqlCtx.sql(query3).show()"
      ],
      "execution_count": null,
      "outputs": [
        {
          "output_type": "stream",
          "name": "stdout",
          "text": [
            "+----------+----------+\n",
            "|Max_Volume|Min_Volume|\n",
            "+----------+----------+\n",
            "|  80898100|   2094900|\n",
            "+----------+----------+\n",
            "\n"
          ]
        }
      ]
    },
    {
      "cell_type": "markdown",
      "source": [
        "The maximum Volume was 80,898,100 and the minimum 2,094,900 shares"
      ],
      "metadata": {
        "id": "i91I771L7L1U"
      }
    },
    {
      "cell_type": "markdown",
      "source": [
        "### How many days was the Close lower than 60 dollars?"
      ],
      "metadata": {
        "id": "V9C_NsPL-IVA"
      }
    },
    {
      "cell_type": "code",
      "metadata": {
        "colab": {
          "base_uri": "https://localhost:8080/"
        },
        "id": "uulpcexvU5Rp",
        "outputId": "dc7e4750-f121-4924-da36-7029f0d84b1e"
      },
      "source": [
        "# Write the SQL query\n",
        "query4 = 'select count(Date) from safstock2012_2016 where Close < 60'\n",
        "\n",
        "# Call sqlCtx.sql() and pass in the query\n",
        "# Display the results\n",
        "sqlCtx.sql(query4).show()"
      ],
      "execution_count": 16,
      "outputs": [
        {
          "output_type": "stream",
          "name": "stdout",
          "text": [
            "+-----------+\n",
            "|count(Date)|\n",
            "+-----------+\n",
            "|         81|\n",
            "+-----------+\n",
            "\n"
          ]
        }
      ]
    },
    {
      "cell_type": "markdown",
      "source": [
        "The Close was lower than 60 dollars for 81 days in the period"
      ],
      "metadata": {
        "id": "Wi1VDDwN7ZpT"
      }
    },
    {
      "cell_type": "markdown",
      "metadata": {
        "id": "NBJIEESxq1-z"
      },
      "source": [
        "### What percentage of the time was the High greater than 80 dollars?"
      ]
    },
    {
      "cell_type": "code",
      "metadata": {
        "colab": {
          "base_uri": "https://localhost:8080/"
        },
        "id": "dbb4JiccaYL8",
        "outputId": "7d6db8a7-4649-45de-d626-d9a57522d2cd"
      },
      "source": [
        "# Write the SQL query\n",
        "query5 = \"\"\"select round(Over_80/Total * 100,2) as Over_80_Prop from \n",
        "          (Select count(Date) as Total, sum(Case when High > 80 then 1 else 0 end) as Over_80 \n",
        "          From safstock2012_2016)\"\"\"\n",
        "\n",
        "# Call sqlCtx.sql() and pass in the query\n",
        "# Display the results\n",
        "sqlCtx.sql(query5).show()"
      ],
      "execution_count": 39,
      "outputs": [
        {
          "output_type": "stream",
          "name": "stdout",
          "text": [
            "+------------+\n",
            "|Over_80_Prop|\n",
            "+------------+\n",
            "|        8.43|\n",
            "+------------+\n",
            "\n"
          ]
        }
      ]
    },
    {
      "cell_type": "markdown",
      "source": [
        "The High was greater than 80 dollars 8.43% of the time"
      ],
      "metadata": {
        "id": "VuqZAhLON6U6"
      }
    },
    {
      "cell_type": "markdown",
      "source": [
        "### What is the Pearson correlation between High and Volume?"
      ],
      "metadata": {
        "id": "0_lqmTDuARPB"
      }
    },
    {
      "cell_type": "code",
      "metadata": {
        "colab": {
          "base_uri": "https://localhost:8080/"
        },
        "id": "UoO237MJlVQc",
        "outputId": "9ee16b5f-5c0a-48de-fcd2-8f1ff540bfed"
      },
      "source": [
        "# Write the SQL query\n",
        "query6 = 'select round(corr(High,Volume),2) as High_Vol_Corr from safstock2012_2016'\n",
        "\n",
        "# Call sqlCtx.sql() and pass in the query\n",
        "# Display the results\n",
        "sqlCtx.sql(query6).show()"
      ],
      "execution_count": 18,
      "outputs": [
        {
          "output_type": "stream",
          "name": "stdout",
          "text": [
            "+-------------+\n",
            "|High_Vol_Corr|\n",
            "+-------------+\n",
            "|        -0.34|\n",
            "+-------------+\n",
            "\n"
          ]
        }
      ]
    },
    {
      "cell_type": "markdown",
      "source": [
        "High and Volume have a negative correlation of -0.34"
      ],
      "metadata": {
        "id": "bGw-a8uqOCVB"
      }
    },
    {
      "cell_type": "markdown",
      "metadata": {
        "id": "yiwJyfmeq71B"
      },
      "source": [
        "### What is the max High per year?"
      ]
    },
    {
      "cell_type": "code",
      "metadata": {
        "colab": {
          "base_uri": "https://localhost:8080/"
        },
        "id": "sb5CbKB4omVo",
        "outputId": "e1a066a4-e05c-4800-d895-9bed275a52de"
      },
      "source": [
        "# Write the SQL query\n",
        "query7 = \"\"\"select substr(Date,1,4) as Year, max(High) as Year_High from safstock2012_2016 \n",
        "        group by 1 order by 1\"\"\"\n",
        "\n",
        "# Call sqlCtx.sql() and pass in the query\n",
        "# Display the results\n",
        "sqlCtx.sql(query7).show()"
      ],
      "execution_count": 38,
      "outputs": [
        {
          "output_type": "stream",
          "name": "stdout",
          "text": [
            "+----+---------+\n",
            "|Year|Year_High|\n",
            "+----+---------+\n",
            "|2012|    77.60|\n",
            "|2013|    81.37|\n",
            "|2014|    88.09|\n",
            "|2015|    90.97|\n",
            "|2016|    75.19|\n",
            "+----+---------+\n",
            "\n"
          ]
        }
      ]
    },
    {
      "cell_type": "markdown",
      "source": [
        "Max high per year is : \n",
        "* 2012: 77.6\n",
        "* 2013: 81.37\n",
        "* 2014: 88.09\n",
        "* 2015: 90.97\n",
        "* 2016: 75.19"
      ],
      "metadata": {
        "id": "FDnN4FkpOJwX"
      }
    },
    {
      "cell_type": "markdown",
      "metadata": {
        "id": "S5CcCvlypaNR"
      },
      "source": [
        "### What is the average Close for each Calendar Month?"
      ]
    },
    {
      "cell_type": "code",
      "metadata": {
        "colab": {
          "base_uri": "https://localhost:8080/"
        },
        "id": "amyKNyQRpzSK",
        "outputId": "9d9a0b12-3c36-42b2-e50c-c54c65800e1a"
      },
      "source": [
        "# Write the SQL query\n",
        "query8 = \"\"\"select substr(Date,6,2) as Month, round(avg(Close),2) as Monthly_Avg_Close \n",
        "            from safstock2012_2016 group by Month order by Month\"\"\"\n",
        "\n",
        "# Call sqlCtx.sql() and pass in the query\n",
        "# Display the results\n",
        "sqlCtx.sql(query8).show()"
      ],
      "execution_count": 37,
      "outputs": [
        {
          "output_type": "stream",
          "name": "stdout",
          "text": [
            "+-----+-----------------+\n",
            "|Month|Monthly_Avg_Close|\n",
            "+-----+-----------------+\n",
            "|   01|            71.45|\n",
            "|   02|            71.31|\n",
            "|   03|            71.78|\n",
            "|   04|            72.97|\n",
            "|   05|            72.31|\n",
            "|   06|             72.5|\n",
            "|   07|            74.44|\n",
            "|   08|            73.03|\n",
            "|   09|            72.18|\n",
            "|   10|            71.58|\n",
            "|   11|            72.11|\n",
            "|   12|            72.85|\n",
            "+-----+-----------------+\n",
            "\n"
          ]
        }
      ]
    },
    {
      "cell_type": "markdown",
      "metadata": {
        "id": "tuFamvfoqxKY"
      },
      "source": [
        "## Challenging your Solution"
      ]
    },
    {
      "cell_type": "markdown",
      "metadata": {
        "id": "gTtqMqeicY-7"
      },
      "source": [
        "What if we just wanted to have a visual of the Volume trend over the years?"
      ]
    },
    {
      "cell_type": "code",
      "metadata": {
        "colab": {
          "base_uri": "https://localhost:8080/",
          "height": 206
        },
        "id": "sVId725mmhe6",
        "outputId": "f86d3f97-93e7-4e44-eb30-8d4f44ec0529"
      },
      "source": [
        "# Convert the Spark DataFrame to a pandas DataFrame\n",
        "pandas_df = saf_stock_df_new.toPandas()\n",
        "\n",
        "#Preview the df\n",
        "pandas_df.head(5)\n"
      ],
      "execution_count": 22,
      "outputs": [
        {
          "output_type": "execute_result",
          "data": {
            "text/html": [
              "<div>\n",
              "<style scoped>\n",
              "    .dataframe tbody tr th:only-of-type {\n",
              "        vertical-align: middle;\n",
              "    }\n",
              "\n",
              "    .dataframe tbody tr th {\n",
              "        vertical-align: top;\n",
              "    }\n",
              "\n",
              "    .dataframe thead th {\n",
              "        text-align: right;\n",
              "    }\n",
              "</style>\n",
              "<table border=\"1\" class=\"dataframe\">\n",
              "  <thead>\n",
              "    <tr style=\"text-align: right;\">\n",
              "      <th></th>\n",
              "      <th>Date</th>\n",
              "      <th>Open</th>\n",
              "      <th>High</th>\n",
              "      <th>Low</th>\n",
              "      <th>Close</th>\n",
              "      <th>Volume</th>\n",
              "      <th>Adj Close</th>\n",
              "      <th>HV_Ratio</th>\n",
              "    </tr>\n",
              "  </thead>\n",
              "  <tbody>\n",
              "    <tr>\n",
              "      <th>0</th>\n",
              "      <td>2012-01-03</td>\n",
              "      <td>59.97</td>\n",
              "      <td>61.06</td>\n",
              "      <td>59.87</td>\n",
              "      <td>60.33</td>\n",
              "      <td>12668800.00</td>\n",
              "      <td>52.62</td>\n",
              "      <td>0.000005</td>\n",
              "    </tr>\n",
              "    <tr>\n",
              "      <th>1</th>\n",
              "      <td>2012-01-04</td>\n",
              "      <td>60.21</td>\n",
              "      <td>60.35</td>\n",
              "      <td>59.47</td>\n",
              "      <td>59.71</td>\n",
              "      <td>9593300.00</td>\n",
              "      <td>52.08</td>\n",
              "      <td>0.000006</td>\n",
              "    </tr>\n",
              "    <tr>\n",
              "      <th>2</th>\n",
              "      <td>2012-01-05</td>\n",
              "      <td>59.35</td>\n",
              "      <td>59.62</td>\n",
              "      <td>58.37</td>\n",
              "      <td>59.42</td>\n",
              "      <td>12768200.00</td>\n",
              "      <td>51.83</td>\n",
              "      <td>0.000005</td>\n",
              "    </tr>\n",
              "    <tr>\n",
              "      <th>3</th>\n",
              "      <td>2012-01-06</td>\n",
              "      <td>59.42</td>\n",
              "      <td>59.45</td>\n",
              "      <td>58.87</td>\n",
              "      <td>59.00</td>\n",
              "      <td>8069400.00</td>\n",
              "      <td>51.46</td>\n",
              "      <td>0.000007</td>\n",
              "    </tr>\n",
              "    <tr>\n",
              "      <th>4</th>\n",
              "      <td>2012-01-09</td>\n",
              "      <td>59.03</td>\n",
              "      <td>59.55</td>\n",
              "      <td>58.92</td>\n",
              "      <td>59.18</td>\n",
              "      <td>6679300.00</td>\n",
              "      <td>51.62</td>\n",
              "      <td>0.000009</td>\n",
              "    </tr>\n",
              "  </tbody>\n",
              "</table>\n",
              "</div>"
            ],
            "text/plain": [
              "         Date   Open   High    Low  Close       Volume Adj Close  HV_Ratio\n",
              "0  2012-01-03  59.97  61.06  59.87  60.33  12668800.00     52.62  0.000005\n",
              "1  2012-01-04  60.21  60.35  59.47  59.71   9593300.00     52.08  0.000006\n",
              "2  2012-01-05  59.35  59.62  58.37  59.42  12768200.00     51.83  0.000005\n",
              "3  2012-01-06  59.42  59.45  58.87  59.00   8069400.00     51.46  0.000007\n",
              "4  2012-01-09  59.03  59.55  58.92  59.18   6679300.00     51.62  0.000009"
            ]
          },
          "metadata": {},
          "execution_count": 22
        }
      ]
    },
    {
      "cell_type": "code",
      "source": [
        "# Plot the Volume trends over the period\n",
        "import matplotlib.pyplot as plt\n",
        "\n",
        "plt.figure(figsize=(20,5))\n",
        "plt.plot(pandas_df['Date'], pandas_df['Volume'], color='red', marker='o')\n",
        "plt.title('Volume Trends', fontsize=14)\n",
        "plt.show()"
      ],
      "metadata": {
        "colab": {
          "base_uri": "https://localhost:8080/",
          "height": 257
        },
        "id": "LcuEuwjICTHm",
        "outputId": "5c01c434-ec16-45c6-cfd6-974010d6aa38"
      },
      "execution_count": 40,
      "outputs": [
        {
          "output_type": "display_data",
          "data": {
            "image/png": "[encoded data removed]",
            "text/plain": [
              "<Figure size 1440x360 with 1 Axes>"
            ]
          },
          "metadata": {
            "needs_background": "light"
          }
        }
      ]
    },
    {
      "cell_type": "markdown",
      "source": [
        "There is a general trend in the volumes  of the tranded stock over the period,with 2 outliers noted from the graph"
      ],
      "metadata": {
        "id": "66r8KTQwH-8_"
      }
    },
    {
      "cell_type": "code",
      "source": [
        "# Write the SQL query\n",
        "query9 = 'select Date, max(Volume) from safstock2012_2016 group by 1 order by 2 desc'\n",
        "\n",
        "# Call sqlCtx.sql() and pass in the query\n",
        "# Display the results\n",
        "sqlCtx.sql(query9).show(5)"
      ],
      "metadata": {
        "colab": {
          "base_uri": "https://localhost:8080/"
        },
        "id": "abEd2UdPG0G1",
        "outputId": "5c81398e-e735-4c90-c74a-68cd615e18a5"
      },
      "execution_count": 33,
      "outputs": [
        {
          "output_type": "stream",
          "name": "stdout",
          "text": [
            "+----------+-----------+\n",
            "|      Date|max(Volume)|\n",
            "+----------+-----------+\n",
            "|2015-10-14|80898100.00|\n",
            "|2015-10-15|46253500.00|\n",
            "|2012-04-23|38007300.00|\n",
            "|2016-05-19|35076700.00|\n",
            "|2012-04-24|30090600.00|\n",
            "+----------+-----------+\n",
            "only showing top 5 rows\n",
            "\n"
          ]
        }
      ]
    },
    {
      "cell_type": "markdown",
      "source": [
        "It would seem that the highest volume of trades attained 80,898,100.00  on 2015-10-14 could have been an outlier, as this is almost double the second highest Volume over the period. \n",
        "There is however something to note: The top 2 highest volumes are in the month of Oct 2015, 1 day apart. Could this be of interest in the analysis?"
      ],
      "metadata": {
        "id": "5MwLgCrgHJX9"
      }
    },
    {
      "cell_type": "markdown",
      "source": [
        "## Findings"
      ],
      "metadata": {
        "id": "DBmzJbSFJ90R"
      }
    },
    {
      "cell_type": "markdown",
      "metadata": {
        "id": "fHkPXoB7qxcQ"
      },
      "source": [
        "* 2015-01-13 had the peak High price of 90.97\n",
        "* The mean of the Close column is 72.39\n",
        "* The maximum Volume was 80,898,100 and the minimum 2,094,900 shares\n",
        "* The Close was lower than 60 dollars for 81 days in the period\n",
        "* The High was greater than 80 dollars 8.43% of the time\n",
        "* High and Volume have a negative correlation of -0.34\n",
        "\n",
        "* Max High per year is:\n",
        "\n",
        "1. 2012:77.6\n",
        "2. 2013:81.37\n",
        "3. 2014:88.09\n",
        "4. 2015:90.97\n",
        "5. 2016:75.19\n",
        "\n",
        "* Average Close for each month:\n",
        "\n",
        "1. Jan:71.45\n",
        "2. Feb:71.31\n",
        "3. Mar:71.78\n",
        "4. Apr:72.97\n",
        "5. May:72.31\n",
        "6. Jun:72.5\n",
        "7. Jul:74.44\n",
        "8. Aug:73.03\n",
        "9. Sep:72.18\n",
        "10. Oct:71.58\n",
        "11. Nov:72.11\n",
        "12. Dec:72.85"
      ]
    },
    {
      "cell_type": "markdown",
      "metadata": {
        "id": "qxX1xqpUqyku"
      },
      "source": [
        "## Summary\n",
        "* There is a general trend in the volumes of the traded stock over the period,with 2 outliers noted from the graph\n",
        "* It would seem that the highest volumes of trades attained 80,898,100.00 on 2015-10-14 could have been an outlier, as this is almost double the second highest Volume over the period. There is however something to note: The top 2 highest volumes are in the month of Oct 2015, 1 day apart. Could this be of interest in the analysis?"
      ]
    },
    {
      "cell_type": "markdown",
      "metadata": {
        "id": "0Wq8JmVjwZIT"
      },
      "source": [
        "## 7. Follow up questions"
      ]
    },
    {
      "cell_type": "markdown",
      "metadata": {
        "id": "osSj5jemwZSe"
      },
      "source": [
        "### a). Did we have the right data?"
      ]
    },
    {
      "cell_type": "markdown",
      "metadata": {
        "id": "vX6o5SRSwZcC"
      },
      "source": [
        "Yes"
      ]
    },
    {
      "cell_type": "markdown",
      "metadata": {
        "id": "5DtAzHEBwZ41"
      },
      "source": [
        "### b). Do we need other data to answer our question?"
      ]
    },
    {
      "cell_type": "markdown",
      "metadata": {
        "id": "zjyL6HAlwnPF"
      },
      "source": [
        "No"
      ]
    },
    {
      "cell_type": "markdown",
      "metadata": {
        "id": "XhjHmTsPwnfY"
      },
      "source": [
        "### c). Did we have the right question?"
      ]
    },
    {
      "cell_type": "markdown",
      "metadata": {
        "id": "3Q6VapCaw4gu"
      },
      "source": [
        "Yes we did"
      ]
    }
  ]
}