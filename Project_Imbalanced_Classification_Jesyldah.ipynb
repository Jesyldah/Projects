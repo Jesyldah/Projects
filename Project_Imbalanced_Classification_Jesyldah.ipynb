{
  "nbformat": 4,
  "nbformat_minor": 0,
  "metadata": {
    "colab": {
      "name": "Project Imbalanced Classification Jesyldah.ipynb",
      "provenance": [],
      "collapsed_sections": [],
      "toc_visible": true,
      "authorship_tag": "ABX9TyN1so+Mpd1t4JYPcYWDYdHx",
      "include_colab_link": true
    },
    "kernelspec": {
      "name": "python3",
      "display_name": "Python 3"
    },
    "language_info": {
      "name": "python"
    }
  },
  "cells": [
    {
      "cell_type": "markdown",
      "metadata": {
        "id": "view-in-github",
        "colab_type": "text"
      },
      "source": [
        "<a href=\"https://colab.research.google.com/github/Jesyldah/Projects/blob/main/Project_Imbalanced_Classification_Jesyldah.ipynb\" target=\"_parent\"><img src=\"https://colab.research.google.com/assets/colab-badge.svg\" alt=\"Open In Colab\"/></a>"
      ]
    },
    {
      "cell_type": "markdown",
      "metadata": {
        "id": "5rsuJFNzL2_i"
      },
      "source": [
        "# Introduction to Regression Project"
      ]
    },
    {
      "cell_type": "markdown",
      "metadata": {
        "id": "80rRdHccL9Kb"
      },
      "source": [
        "## 1. Defining the Question\n"
      ]
    },
    {
      "cell_type": "markdown",
      "metadata": {
        "id": "i738ch8vL9X6"
      },
      "source": [
        "### a) Specifying the Data Analysis Question"
      ]
    },
    {
      "cell_type": "markdown",
      "metadata": {
        "id": "Kjfl9wpBOT79"
      },
      "source": [
        "Predict whether a customer will leave the bank soon, based on past behaviour "
      ]
    },
    {
      "cell_type": "markdown",
      "metadata": {
        "id": "pEB73eSyL9bf"
      },
      "source": [
        "### b) Defining the Metric for Success"
      ]
    },
    {
      "cell_type": "markdown",
      "metadata": {
        "id": "X0D_yIhZObOU"
      },
      "source": [
        "The analysis question will be answered by developing a model that would analyze client's past behavior on termination of contracts and predict whether a customer will leave the bank soon. The models F1 score should be at least 0.59 on the test set"
      ]
    },
    {
      "cell_type": "markdown",
      "metadata": {
        "id": "NjcidHqjL9fX"
      },
      "source": [
        "### c) Understanding the context "
      ]
    },
    {
      "cell_type": "markdown",
      "metadata": {
        "id": "yShyG_a0L9j_"
      },
      "source": [
        "Beta Bank customers are leaving: little by little, chipping away every month. The bankers figured out it’s cheaper to save the existing customers rather than to attract new ones. We need to predict whether a customer will leave the bank soon. You have the data on clients’ past behavior and termination of contracts with the bank\n",
        "\n",
        "\n",
        "\n"
      ]
    },
    {
      "cell_type": "markdown",
      "metadata": {
        "id": "avtlmOoXL9vv"
      },
      "source": [
        "### d) Recording the Experimental Design"
      ]
    },
    {
      "cell_type": "markdown",
      "metadata": {
        "id": "IP4ITpvoL97t"
      },
      "source": [
        "1. Reading in the data from the source so that it is available for analysis\n",
        "2. Explore the data in order to understand the structure of the data\n",
        "3. Prepare the data for analysis:\n",
        "* Checking for and handling missing values\n",
        "* Finding and removing duplicate records\n",
        "* Deleting null columns & rows\n",
        "* Renaming columns\n",
        "* Checking for uniformity of data in the columns, correcting errors in values and datatypes\n",
        "4. Modeling\n",
        "* Standardize the dataset features\n",
        "* Define and train the model\n",
        "* Hyparameter Tuning\n",
        "* Make predictions using the model\n",
        "5. Model Evaluation\n",
        "* Sanity check\n",
        "* F1 score\n",
        "* Challenge the model\n",
        "6. Findings and Recommendations\n",
        "\n"
      ]
    },
    {
      "cell_type": "markdown",
      "metadata": {
        "id": "ibxQ6tl5PyxA"
      },
      "source": [
        "### e) Data Relevance"
      ]
    },
    {
      "cell_type": "markdown",
      "metadata": {
        "id": "nCY15xMIPzMB"
      },
      "source": [
        "The dataset includes clients’ past behavior and termination of contracts with the bank and is therefore relevant in answering the research question\n"
      ]
    },
    {
      "cell_type": "markdown",
      "metadata": {
        "id": "-on4OF1VPzX6"
      },
      "source": [
        "## 2. Reading the Data"
      ]
    },
    {
      "cell_type": "code",
      "metadata": {
        "id": "Ktyc8nZoQQRI"
      },
      "source": [
        "# Importing our libraries\n",
        "\n",
        "import pandas as pd\n",
        "\n",
        "import numpy as np"
      ],
      "execution_count": 103,
      "outputs": []
    },
    {
      "cell_type": "code",
      "metadata": {
        "id": "1PlwTmH0QQkk"
      },
      "source": [
        "# Load the dataset\n",
        "\n",
        "# Dataset url = https://bit.ly/2XZK7Bo\n",
        "\n",
        "bank_df = pd.read_csv('https://bit.ly/2XZK7Bo')"
      ],
      "execution_count": 104,
      "outputs": []
    },
    {
      "cell_type": "code",
      "metadata": {
        "colab": {
          "base_uri": "https://localhost:8080/",
          "height": 224
        },
        "id": "oVI0vTP0QQy4",
        "outputId": "f6df5197-c44c-4d95-c85b-0ea6d6c4e831"
      },
      "source": [
        "# Checking the first 5 rows of data\n",
        "\n",
        "bank_df.head()"
      ],
      "execution_count": 105,
      "outputs": [
        {
          "output_type": "execute_result",
          "data": {
            "text/html": [
              "<div>\n",
              "<style scoped>\n",
              "    .dataframe tbody tr th:only-of-type {\n",
              "        vertical-align: middle;\n",
              "    }\n",
              "\n",
              "    .dataframe tbody tr th {\n",
              "        vertical-align: top;\n",
              "    }\n",
              "\n",
              "    .dataframe thead th {\n",
              "        text-align: right;\n",
              "    }\n",
              "</style>\n",
              "<table border=\"1\" class=\"dataframe\">\n",
              "  <thead>\n",
              "    <tr style=\"text-align: right;\">\n",
              "      <th></th>\n",
              "      <th>RowNumber</th>\n",
              "      <th>CustomerId</th>\n",
              "      <th>Surname</th>\n",
              "      <th>CreditScore</th>\n",
              "      <th>Geography</th>\n",
              "      <th>Gender</th>\n",
              "      <th>Age</th>\n",
              "      <th>Tenure</th>\n",
              "      <th>Balance</th>\n",
              "      <th>NumOfProducts</th>\n",
              "      <th>HasCrCard</th>\n",
              "      <th>IsActiveMember</th>\n",
              "      <th>EstimatedSalary</th>\n",
              "      <th>Exited</th>\n",
              "    </tr>\n",
              "  </thead>\n",
              "  <tbody>\n",
              "    <tr>\n",
              "      <th>0</th>\n",
              "      <td>1</td>\n",
              "      <td>15634602</td>\n",
              "      <td>Hargrave</td>\n",
              "      <td>619</td>\n",
              "      <td>France</td>\n",
              "      <td>Female</td>\n",
              "      <td>42</td>\n",
              "      <td>2.0</td>\n",
              "      <td>0.00</td>\n",
              "      <td>1</td>\n",
              "      <td>1</td>\n",
              "      <td>1</td>\n",
              "      <td>101348.88</td>\n",
              "      <td>1</td>\n",
              "    </tr>\n",
              "    <tr>\n",
              "      <th>1</th>\n",
              "      <td>2</td>\n",
              "      <td>15647311</td>\n",
              "      <td>Hill</td>\n",
              "      <td>608</td>\n",
              "      <td>Spain</td>\n",
              "      <td>Female</td>\n",
              "      <td>41</td>\n",
              "      <td>1.0</td>\n",
              "      <td>83807.86</td>\n",
              "      <td>1</td>\n",
              "      <td>0</td>\n",
              "      <td>1</td>\n",
              "      <td>112542.58</td>\n",
              "      <td>0</td>\n",
              "    </tr>\n",
              "    <tr>\n",
              "      <th>2</th>\n",
              "      <td>3</td>\n",
              "      <td>15619304</td>\n",
              "      <td>Onio</td>\n",
              "      <td>502</td>\n",
              "      <td>France</td>\n",
              "      <td>Female</td>\n",
              "      <td>42</td>\n",
              "      <td>8.0</td>\n",
              "      <td>159660.80</td>\n",
              "      <td>3</td>\n",
              "      <td>1</td>\n",
              "      <td>0</td>\n",
              "      <td>113931.57</td>\n",
              "      <td>1</td>\n",
              "    </tr>\n",
              "    <tr>\n",
              "      <th>3</th>\n",
              "      <td>4</td>\n",
              "      <td>15701354</td>\n",
              "      <td>Boni</td>\n",
              "      <td>699</td>\n",
              "      <td>France</td>\n",
              "      <td>Female</td>\n",
              "      <td>39</td>\n",
              "      <td>1.0</td>\n",
              "      <td>0.00</td>\n",
              "      <td>2</td>\n",
              "      <td>0</td>\n",
              "      <td>0</td>\n",
              "      <td>93826.63</td>\n",
              "      <td>0</td>\n",
              "    </tr>\n",
              "    <tr>\n",
              "      <th>4</th>\n",
              "      <td>5</td>\n",
              "      <td>15737888</td>\n",
              "      <td>Mitchell</td>\n",
              "      <td>850</td>\n",
              "      <td>Spain</td>\n",
              "      <td>Female</td>\n",
              "      <td>43</td>\n",
              "      <td>2.0</td>\n",
              "      <td>125510.82</td>\n",
              "      <td>1</td>\n",
              "      <td>1</td>\n",
              "      <td>1</td>\n",
              "      <td>79084.10</td>\n",
              "      <td>0</td>\n",
              "    </tr>\n",
              "  </tbody>\n",
              "</table>\n",
              "</div>"
            ],
            "text/plain": [
              "   RowNumber  CustomerId   Surname  ...  IsActiveMember EstimatedSalary Exited\n",
              "0          1    15634602  Hargrave  ...               1       101348.88      1\n",
              "1          2    15647311      Hill  ...               1       112542.58      0\n",
              "2          3    15619304      Onio  ...               0       113931.57      1\n",
              "3          4    15701354      Boni  ...               0        93826.63      0\n",
              "4          5    15737888  Mitchell  ...               1        79084.10      0\n",
              "\n",
              "[5 rows x 14 columns]"
            ]
          },
          "metadata": {},
          "execution_count": 105
        }
      ]
    },
    {
      "cell_type": "code",
      "metadata": {
        "colab": {
          "base_uri": "https://localhost:8080/",
          "height": 224
        },
        "id": "llxGXXw6QQ8h",
        "outputId": "aef7a08b-9351-4e03-973c-8d6ecee8464b"
      },
      "source": [
        "# Checking the last 5 rows of data\n",
        "\n",
        "bank_df.tail()"
      ],
      "execution_count": 106,
      "outputs": [
        {
          "output_type": "execute_result",
          "data": {
            "text/html": [
              "<div>\n",
              "<style scoped>\n",
              "    .dataframe tbody tr th:only-of-type {\n",
              "        vertical-align: middle;\n",
              "    }\n",
              "\n",
              "    .dataframe tbody tr th {\n",
              "        vertical-align: top;\n",
              "    }\n",
              "\n",
              "    .dataframe thead th {\n",
              "        text-align: right;\n",
              "    }\n",
              "</style>\n",
              "<table border=\"1\" class=\"dataframe\">\n",
              "  <thead>\n",
              "    <tr style=\"text-align: right;\">\n",
              "      <th></th>\n",
              "      <th>RowNumber</th>\n",
              "      <th>CustomerId</th>\n",
              "      <th>Surname</th>\n",
              "      <th>CreditScore</th>\n",
              "      <th>Geography</th>\n",
              "      <th>Gender</th>\n",
              "      <th>Age</th>\n",
              "      <th>Tenure</th>\n",
              "      <th>Balance</th>\n",
              "      <th>NumOfProducts</th>\n",
              "      <th>HasCrCard</th>\n",
              "      <th>IsActiveMember</th>\n",
              "      <th>EstimatedSalary</th>\n",
              "      <th>Exited</th>\n",
              "    </tr>\n",
              "  </thead>\n",
              "  <tbody>\n",
              "    <tr>\n",
              "      <th>9995</th>\n",
              "      <td>9996</td>\n",
              "      <td>15606229</td>\n",
              "      <td>Obijiaku</td>\n",
              "      <td>771</td>\n",
              "      <td>France</td>\n",
              "      <td>Male</td>\n",
              "      <td>39</td>\n",
              "      <td>5.0</td>\n",
              "      <td>0.00</td>\n",
              "      <td>2</td>\n",
              "      <td>1</td>\n",
              "      <td>0</td>\n",
              "      <td>96270.64</td>\n",
              "      <td>0</td>\n",
              "    </tr>\n",
              "    <tr>\n",
              "      <th>9996</th>\n",
              "      <td>9997</td>\n",
              "      <td>15569892</td>\n",
              "      <td>Johnstone</td>\n",
              "      <td>516</td>\n",
              "      <td>France</td>\n",
              "      <td>Male</td>\n",
              "      <td>35</td>\n",
              "      <td>10.0</td>\n",
              "      <td>57369.61</td>\n",
              "      <td>1</td>\n",
              "      <td>1</td>\n",
              "      <td>1</td>\n",
              "      <td>101699.77</td>\n",
              "      <td>0</td>\n",
              "    </tr>\n",
              "    <tr>\n",
              "      <th>9997</th>\n",
              "      <td>9998</td>\n",
              "      <td>15584532</td>\n",
              "      <td>Liu</td>\n",
              "      <td>709</td>\n",
              "      <td>France</td>\n",
              "      <td>Female</td>\n",
              "      <td>36</td>\n",
              "      <td>7.0</td>\n",
              "      <td>0.00</td>\n",
              "      <td>1</td>\n",
              "      <td>0</td>\n",
              "      <td>1</td>\n",
              "      <td>42085.58</td>\n",
              "      <td>1</td>\n",
              "    </tr>\n",
              "    <tr>\n",
              "      <th>9998</th>\n",
              "      <td>9999</td>\n",
              "      <td>15682355</td>\n",
              "      <td>Sabbatini</td>\n",
              "      <td>772</td>\n",
              "      <td>Germany</td>\n",
              "      <td>Male</td>\n",
              "      <td>42</td>\n",
              "      <td>3.0</td>\n",
              "      <td>75075.31</td>\n",
              "      <td>2</td>\n",
              "      <td>1</td>\n",
              "      <td>0</td>\n",
              "      <td>92888.52</td>\n",
              "      <td>1</td>\n",
              "    </tr>\n",
              "    <tr>\n",
              "      <th>9999</th>\n",
              "      <td>10000</td>\n",
              "      <td>15628319</td>\n",
              "      <td>Walker</td>\n",
              "      <td>792</td>\n",
              "      <td>France</td>\n",
              "      <td>Female</td>\n",
              "      <td>28</td>\n",
              "      <td>NaN</td>\n",
              "      <td>130142.79</td>\n",
              "      <td>1</td>\n",
              "      <td>1</td>\n",
              "      <td>0</td>\n",
              "      <td>38190.78</td>\n",
              "      <td>0</td>\n",
              "    </tr>\n",
              "  </tbody>\n",
              "</table>\n",
              "</div>"
            ],
            "text/plain": [
              "      RowNumber  CustomerId    Surname  ...  IsActiveMember EstimatedSalary Exited\n",
              "9995       9996    15606229   Obijiaku  ...               0        96270.64      0\n",
              "9996       9997    15569892  Johnstone  ...               1       101699.77      0\n",
              "9997       9998    15584532        Liu  ...               1        42085.58      1\n",
              "9998       9999    15682355  Sabbatini  ...               0        92888.52      1\n",
              "9999      10000    15628319     Walker  ...               0        38190.78      0\n",
              "\n",
              "[5 rows x 14 columns]"
            ]
          },
          "metadata": {},
          "execution_count": 106
        }
      ]
    },
    {
      "cell_type": "code",
      "metadata": {
        "colab": {
          "base_uri": "https://localhost:8080/"
        },
        "id": "-MkjLwaNQRH1",
        "outputId": "c51e555b-776e-4dcc-8955-84541ebec7de"
      },
      "source": [
        "# Determine the size of the dataset\n",
        "\n",
        "bank_df.shape"
      ],
      "execution_count": 107,
      "outputs": [
        {
          "output_type": "execute_result",
          "data": {
            "text/plain": [
              "(10000, 14)"
            ]
          },
          "metadata": {},
          "execution_count": 107
        }
      ]
    },
    {
      "cell_type": "code",
      "metadata": {
        "colab": {
          "base_uri": "https://localhost:8080/"
        },
        "id": "_x4ce0XURCLZ",
        "outputId": "51374407-7653-46b2-cfc9-06f8f60656ff"
      },
      "source": [
        "# Checking variable datatypes\n",
        "\n",
        "bank_df.dtypes"
      ],
      "execution_count": 108,
      "outputs": [
        {
          "output_type": "execute_result",
          "data": {
            "text/plain": [
              "RowNumber            int64\n",
              "CustomerId           int64\n",
              "Surname             object\n",
              "CreditScore          int64\n",
              "Geography           object\n",
              "Gender              object\n",
              "Age                  int64\n",
              "Tenure             float64\n",
              "Balance            float64\n",
              "NumOfProducts        int64\n",
              "HasCrCard            int64\n",
              "IsActiveMember       int64\n",
              "EstimatedSalary    float64\n",
              "Exited               int64\n",
              "dtype: object"
            ]
          },
          "metadata": {},
          "execution_count": 108
        }
      ]
    },
    {
      "cell_type": "code",
      "metadata": {
        "colab": {
          "base_uri": "https://localhost:8080/"
        },
        "id": "N82wUBC8RCRd",
        "outputId": "1d94de93-c5c6-4845-c566-2f2132d6a435"
      },
      "source": [
        "# View the variables in the dataset\n",
        "\n",
        "bank_df.columns"
      ],
      "execution_count": 109,
      "outputs": [
        {
          "output_type": "execute_result",
          "data": {
            "text/plain": [
              "Index(['RowNumber', 'CustomerId', 'Surname', 'CreditScore', 'Geography',\n",
              "       'Gender', 'Age', 'Tenure', 'Balance', 'NumOfProducts', 'HasCrCard',\n",
              "       'IsActiveMember', 'EstimatedSalary', 'Exited'],\n",
              "      dtype='object')"
            ]
          },
          "metadata": {},
          "execution_count": 109
        }
      ]
    },
    {
      "cell_type": "markdown",
      "metadata": {
        "id": "_CDgx9HMPzio"
      },
      "source": [
        "The dataset provided has a total of 10,000 observations and 14 variables. The variables are:\n",
        "* RowNumber — data string index\n",
        "* CustomerId — unique customer identifier\n",
        "* Surname — surname\n",
        "* CreditScore — credit score\n",
        "* Geography — country of residence\n",
        "* Gender — gender\n",
        "* Age — age\n",
        "* Tenure — period of maturation for a customer’s fixed deposit (years)\n",
        "* Balance — account balance\n",
        "* NumOfProducts — number of banking products used by the customer\n",
        "* HasCrCard — customer has a credit card\n",
        "* IsActiveMember — customer’s activeness\n",
        "* EstimatedSalary — estimated salary\n",
        "* Exited — сustomer has left\n"
      ]
    },
    {
      "cell_type": "markdown",
      "metadata": {
        "id": "-q3ITOo5Pzsk"
      },
      "source": [
        "## 3. External Data Source Validation"
      ]
    },
    {
      "cell_type": "markdown",
      "metadata": {
        "id": "9TzIdLSePz8-"
      },
      "source": [
        "The data provided is valid"
      ]
    },
    {
      "cell_type": "markdown",
      "metadata": {
        "id": "S55bkB9aUvy7"
      },
      "source": [
        "## 4. Data Preparation"
      ]
    },
    {
      "cell_type": "markdown",
      "metadata": {
        "id": "lpwFiEGhUwjW"
      },
      "source": [
        "### Performing Data Cleaning"
      ]
    },
    {
      "cell_type": "code",
      "metadata": {
        "colab": {
          "base_uri": "https://localhost:8080/"
        },
        "id": "xCx7vP5vn2Ww",
        "outputId": "8ed87738-5895-42b8-ca71-6be1508eb97c"
      },
      "source": [
        "# Standardize column names - remove whitespaces and convert names to lowercase\n",
        "\n",
        "bank_df.columns = bank_df.columns.str.strip().str.lower()\n",
        "\n",
        "list(bank_df.columns)"
      ],
      "execution_count": 110,
      "outputs": [
        {
          "output_type": "execute_result",
          "data": {
            "text/plain": [
              "['rownumber',\n",
              " 'customerid',\n",
              " 'surname',\n",
              " 'creditscore',\n",
              " 'geography',\n",
              " 'gender',\n",
              " 'age',\n",
              " 'tenure',\n",
              " 'balance',\n",
              " 'numofproducts',\n",
              " 'hascrcard',\n",
              " 'isactivemember',\n",
              " 'estimatedsalary',\n",
              " 'exited']"
            ]
          },
          "metadata": {},
          "execution_count": 110
        }
      ]
    },
    {
      "cell_type": "code",
      "metadata": {
        "colab": {
          "base_uri": "https://localhost:8080/"
        },
        "id": "npauCDu5U5Bj",
        "outputId": "e312c12b-62c2-47f1-b29f-feec83915d54"
      },
      "source": [
        "# Checking for duplicate rows in the dataset\n",
        "\n",
        "sum(bank_df.duplicated())"
      ],
      "execution_count": 111,
      "outputs": [
        {
          "output_type": "execute_result",
          "data": {
            "text/plain": [
              "0"
            ]
          },
          "metadata": {},
          "execution_count": 111
        }
      ]
    },
    {
      "cell_type": "markdown",
      "metadata": {
        "id": "m4HDQkt3qtKC"
      },
      "source": [
        "There are no duplicate observations in the dataset"
      ]
    },
    {
      "cell_type": "code",
      "metadata": {
        "colab": {
          "base_uri": "https://localhost:8080/"
        },
        "id": "XHW1-8CiU5LP",
        "outputId": "cbd7c208-3dca-4db1-d4df-862b5929dcda"
      },
      "source": [
        "# Checking if any of the columns are all null\n",
        "\n",
        "bank_df.isnull().all(1).any()"
      ],
      "execution_count": 112,
      "outputs": [
        {
          "output_type": "execute_result",
          "data": {
            "text/plain": [
              "False"
            ]
          },
          "metadata": {},
          "execution_count": 112
        }
      ]
    },
    {
      "cell_type": "code",
      "metadata": {
        "colab": {
          "base_uri": "https://localhost:8080/"
        },
        "id": "uulpcexvU5Rp",
        "outputId": "1a9076cd-d060-4e91-8135-c483d62ce4a7"
      },
      "source": [
        "# Checking if any of the rows are all null\n",
        "\n",
        "bank_df.isnull().all(0).any()"
      ],
      "execution_count": 113,
      "outputs": [
        {
          "output_type": "execute_result",
          "data": {
            "text/plain": [
              "False"
            ]
          },
          "metadata": {},
          "execution_count": 113
        }
      ]
    },
    {
      "cell_type": "markdown",
      "metadata": {
        "id": "NBJIEESxq1-z"
      },
      "source": [
        "None of the rows or columns are all null"
      ]
    },
    {
      "cell_type": "code",
      "metadata": {
        "colab": {
          "base_uri": "https://localhost:8080/"
        },
        "id": "dbb4JiccaYL8",
        "outputId": "4c70d7e0-fae1-4de7-99c4-acd2fee84fb5"
      },
      "source": [
        "# Check for missing values\n",
        "\n",
        "print(bank_df.isnull().values.any())\n",
        "\n",
        "bank_df.isnull().sum()"
      ],
      "execution_count": 114,
      "outputs": [
        {
          "output_type": "stream",
          "name": "stdout",
          "text": [
            "True\n"
          ]
        },
        {
          "output_type": "execute_result",
          "data": {
            "text/plain": [
              "rownumber            0\n",
              "customerid           0\n",
              "surname              0\n",
              "creditscore          0\n",
              "geography            0\n",
              "gender               0\n",
              "age                  0\n",
              "tenure             909\n",
              "balance              0\n",
              "numofproducts        0\n",
              "hascrcard            0\n",
              "isactivemember       0\n",
              "estimatedsalary      0\n",
              "exited               0\n",
              "dtype: int64"
            ]
          },
          "metadata": {},
          "execution_count": 114
        }
      ]
    },
    {
      "cell_type": "code",
      "metadata": {
        "colab": {
          "base_uri": "https://localhost:8080/",
          "height": 439
        },
        "id": "UoO237MJlVQc",
        "outputId": "1e6552dc-7dae-4d2d-8528-20e42e17c36b"
      },
      "source": [
        "# Explore missing obersvations\n",
        "\n",
        "bank_df[bank_df.isnull().any(1)]"
      ],
      "execution_count": 115,
      "outputs": [
        {
          "output_type": "execute_result",
          "data": {
            "text/html": [
              "<div>\n",
              "<style scoped>\n",
              "    .dataframe tbody tr th:only-of-type {\n",
              "        vertical-align: middle;\n",
              "    }\n",
              "\n",
              "    .dataframe tbody tr th {\n",
              "        vertical-align: top;\n",
              "    }\n",
              "\n",
              "    .dataframe thead th {\n",
              "        text-align: right;\n",
              "    }\n",
              "</style>\n",
              "<table border=\"1\" class=\"dataframe\">\n",
              "  <thead>\n",
              "    <tr style=\"text-align: right;\">\n",
              "      <th></th>\n",
              "      <th>rownumber</th>\n",
              "      <th>customerid</th>\n",
              "      <th>surname</th>\n",
              "      <th>creditscore</th>\n",
              "      <th>geography</th>\n",
              "      <th>gender</th>\n",
              "      <th>age</th>\n",
              "      <th>tenure</th>\n",
              "      <th>balance</th>\n",
              "      <th>numofproducts</th>\n",
              "      <th>hascrcard</th>\n",
              "      <th>isactivemember</th>\n",
              "      <th>estimatedsalary</th>\n",
              "      <th>exited</th>\n",
              "    </tr>\n",
              "  </thead>\n",
              "  <tbody>\n",
              "    <tr>\n",
              "      <th>30</th>\n",
              "      <td>31</td>\n",
              "      <td>15589475</td>\n",
              "      <td>Azikiwe</td>\n",
              "      <td>591</td>\n",
              "      <td>Spain</td>\n",
              "      <td>Female</td>\n",
              "      <td>39</td>\n",
              "      <td>NaN</td>\n",
              "      <td>0.00</td>\n",
              "      <td>3</td>\n",
              "      <td>1</td>\n",
              "      <td>0</td>\n",
              "      <td>140469.38</td>\n",
              "      <td>1</td>\n",
              "    </tr>\n",
              "    <tr>\n",
              "      <th>48</th>\n",
              "      <td>49</td>\n",
              "      <td>15766205</td>\n",
              "      <td>Yin</td>\n",
              "      <td>550</td>\n",
              "      <td>Germany</td>\n",
              "      <td>Male</td>\n",
              "      <td>38</td>\n",
              "      <td>NaN</td>\n",
              "      <td>103391.38</td>\n",
              "      <td>1</td>\n",
              "      <td>0</td>\n",
              "      <td>1</td>\n",
              "      <td>90878.13</td>\n",
              "      <td>0</td>\n",
              "    </tr>\n",
              "    <tr>\n",
              "      <th>51</th>\n",
              "      <td>52</td>\n",
              "      <td>15768193</td>\n",
              "      <td>Trevisani</td>\n",
              "      <td>585</td>\n",
              "      <td>Germany</td>\n",
              "      <td>Male</td>\n",
              "      <td>36</td>\n",
              "      <td>NaN</td>\n",
              "      <td>146050.97</td>\n",
              "      <td>2</td>\n",
              "      <td>0</td>\n",
              "      <td>0</td>\n",
              "      <td>86424.57</td>\n",
              "      <td>0</td>\n",
              "    </tr>\n",
              "    <tr>\n",
              "      <th>53</th>\n",
              "      <td>54</td>\n",
              "      <td>15702298</td>\n",
              "      <td>Parkhill</td>\n",
              "      <td>655</td>\n",
              "      <td>Germany</td>\n",
              "      <td>Male</td>\n",
              "      <td>41</td>\n",
              "      <td>NaN</td>\n",
              "      <td>125561.97</td>\n",
              "      <td>1</td>\n",
              "      <td>0</td>\n",
              "      <td>0</td>\n",
              "      <td>164040.94</td>\n",
              "      <td>1</td>\n",
              "    </tr>\n",
              "    <tr>\n",
              "      <th>60</th>\n",
              "      <td>61</td>\n",
              "      <td>15651280</td>\n",
              "      <td>Hunter</td>\n",
              "      <td>742</td>\n",
              "      <td>Germany</td>\n",
              "      <td>Male</td>\n",
              "      <td>35</td>\n",
              "      <td>NaN</td>\n",
              "      <td>136857.00</td>\n",
              "      <td>1</td>\n",
              "      <td>0</td>\n",
              "      <td>0</td>\n",
              "      <td>84509.57</td>\n",
              "      <td>0</td>\n",
              "    </tr>\n",
              "    <tr>\n",
              "      <th>...</th>\n",
              "      <td>...</td>\n",
              "      <td>...</td>\n",
              "      <td>...</td>\n",
              "      <td>...</td>\n",
              "      <td>...</td>\n",
              "      <td>...</td>\n",
              "      <td>...</td>\n",
              "      <td>...</td>\n",
              "      <td>...</td>\n",
              "      <td>...</td>\n",
              "      <td>...</td>\n",
              "      <td>...</td>\n",
              "      <td>...</td>\n",
              "      <td>...</td>\n",
              "    </tr>\n",
              "    <tr>\n",
              "      <th>9944</th>\n",
              "      <td>9945</td>\n",
              "      <td>15703923</td>\n",
              "      <td>Cameron</td>\n",
              "      <td>744</td>\n",
              "      <td>Germany</td>\n",
              "      <td>Male</td>\n",
              "      <td>41</td>\n",
              "      <td>NaN</td>\n",
              "      <td>190409.34</td>\n",
              "      <td>2</td>\n",
              "      <td>1</td>\n",
              "      <td>1</td>\n",
              "      <td>138361.48</td>\n",
              "      <td>0</td>\n",
              "    </tr>\n",
              "    <tr>\n",
              "      <th>9956</th>\n",
              "      <td>9957</td>\n",
              "      <td>15707861</td>\n",
              "      <td>Nucci</td>\n",
              "      <td>520</td>\n",
              "      <td>France</td>\n",
              "      <td>Female</td>\n",
              "      <td>46</td>\n",
              "      <td>NaN</td>\n",
              "      <td>85216.61</td>\n",
              "      <td>1</td>\n",
              "      <td>1</td>\n",
              "      <td>0</td>\n",
              "      <td>117369.52</td>\n",
              "      <td>1</td>\n",
              "    </tr>\n",
              "    <tr>\n",
              "      <th>9964</th>\n",
              "      <td>9965</td>\n",
              "      <td>15642785</td>\n",
              "      <td>Douglas</td>\n",
              "      <td>479</td>\n",
              "      <td>France</td>\n",
              "      <td>Male</td>\n",
              "      <td>34</td>\n",
              "      <td>NaN</td>\n",
              "      <td>117593.48</td>\n",
              "      <td>2</td>\n",
              "      <td>0</td>\n",
              "      <td>0</td>\n",
              "      <td>113308.29</td>\n",
              "      <td>0</td>\n",
              "    </tr>\n",
              "    <tr>\n",
              "      <th>9985</th>\n",
              "      <td>9986</td>\n",
              "      <td>15586914</td>\n",
              "      <td>Nepean</td>\n",
              "      <td>659</td>\n",
              "      <td>France</td>\n",
              "      <td>Male</td>\n",
              "      <td>36</td>\n",
              "      <td>NaN</td>\n",
              "      <td>123841.49</td>\n",
              "      <td>2</td>\n",
              "      <td>1</td>\n",
              "      <td>0</td>\n",
              "      <td>96833.00</td>\n",
              "      <td>0</td>\n",
              "    </tr>\n",
              "    <tr>\n",
              "      <th>9999</th>\n",
              "      <td>10000</td>\n",
              "      <td>15628319</td>\n",
              "      <td>Walker</td>\n",
              "      <td>792</td>\n",
              "      <td>France</td>\n",
              "      <td>Female</td>\n",
              "      <td>28</td>\n",
              "      <td>NaN</td>\n",
              "      <td>130142.79</td>\n",
              "      <td>1</td>\n",
              "      <td>1</td>\n",
              "      <td>0</td>\n",
              "      <td>38190.78</td>\n",
              "      <td>0</td>\n",
              "    </tr>\n",
              "  </tbody>\n",
              "</table>\n",
              "<p>909 rows × 14 columns</p>\n",
              "</div>"
            ],
            "text/plain": [
              "      rownumber  customerid    surname  ...  isactivemember estimatedsalary exited\n",
              "30           31    15589475    Azikiwe  ...               0       140469.38      1\n",
              "48           49    15766205        Yin  ...               1        90878.13      0\n",
              "51           52    15768193  Trevisani  ...               0        86424.57      0\n",
              "53           54    15702298   Parkhill  ...               0       164040.94      1\n",
              "60           61    15651280     Hunter  ...               0        84509.57      0\n",
              "...         ...         ...        ...  ...             ...             ...    ...\n",
              "9944       9945    15703923    Cameron  ...               1       138361.48      0\n",
              "9956       9957    15707861      Nucci  ...               0       117369.52      1\n",
              "9964       9965    15642785    Douglas  ...               0       113308.29      0\n",
              "9985       9986    15586914     Nepean  ...               0        96833.00      0\n",
              "9999      10000    15628319     Walker  ...               0        38190.78      0\n",
              "\n",
              "[909 rows x 14 columns]"
            ]
          },
          "metadata": {},
          "execution_count": 115
        }
      ]
    },
    {
      "cell_type": "markdown",
      "metadata": {
        "id": "yiwJyfmeq71B"
      },
      "source": [
        "Only the 'Tenure' variables has missing observations - 909 in total. We can drop these obervations without adversely affecting the dataset as they are few. The tenure variable is useful in model prediction"
      ]
    },
    {
      "cell_type": "code",
      "metadata": {
        "colab": {
          "base_uri": "https://localhost:8080/"
        },
        "id": "sb5CbKB4omVo",
        "outputId": "81a88913-c47e-4b90-cd4f-32aaf548a422"
      },
      "source": [
        "# Dropping the missing observations \n",
        "\n",
        "bank_df1 = bank_df.dropna()\n",
        "\n",
        "# Checking for missing data\n",
        "\n",
        "bank_df1.isnull().sum()"
      ],
      "execution_count": 116,
      "outputs": [
        {
          "output_type": "execute_result",
          "data": {
            "text/plain": [
              "rownumber          0\n",
              "customerid         0\n",
              "surname            0\n",
              "creditscore        0\n",
              "geography          0\n",
              "gender             0\n",
              "age                0\n",
              "tenure             0\n",
              "balance            0\n",
              "numofproducts      0\n",
              "hascrcard          0\n",
              "isactivemember     0\n",
              "estimatedsalary    0\n",
              "exited             0\n",
              "dtype: int64"
            ]
          },
          "metadata": {},
          "execution_count": 116
        }
      ]
    },
    {
      "cell_type": "markdown",
      "metadata": {
        "id": "S5CcCvlypaNR"
      },
      "source": [
        "The columns 'rownumber', 'customerid', 'surname' can be dropped as they will not be used in model prediction"
      ]
    },
    {
      "cell_type": "code",
      "metadata": {
        "colab": {
          "base_uri": "https://localhost:8080/",
          "height": 313
        },
        "id": "amyKNyQRpzSK",
        "outputId": "91158027-8747-47e6-b2d3-74adc7115574"
      },
      "source": [
        "# Dropping irrelevant columns\n",
        "\n",
        "bank_df1.drop([\"rownumber\", \"customerid\",\"surname\"], axis = 1, inplace = True) \n",
        "\n",
        "# Preview our resulting dataset \n",
        "\n",
        "bank_df1.head()"
      ],
      "execution_count": 117,
      "outputs": [
        {
          "output_type": "stream",
          "name": "stderr",
          "text": [
            "/usr/local/lib/python3.7/dist-packages/pandas/core/frame.py:4174: SettingWithCopyWarning: \n",
            "A value is trying to be set on a copy of a slice from a DataFrame\n",
            "\n",
            "See the caveats in the documentation: https://pandas.pydata.org/pandas-docs/stable/user_guide/indexing.html#returning-a-view-versus-a-copy\n",
            "  errors=errors,\n"
          ]
        },
        {
          "output_type": "execute_result",
          "data": {
            "text/html": [
              "<div>\n",
              "<style scoped>\n",
              "    .dataframe tbody tr th:only-of-type {\n",
              "        vertical-align: middle;\n",
              "    }\n",
              "\n",
              "    .dataframe tbody tr th {\n",
              "        vertical-align: top;\n",
              "    }\n",
              "\n",
              "    .dataframe thead th {\n",
              "        text-align: right;\n",
              "    }\n",
              "</style>\n",
              "<table border=\"1\" class=\"dataframe\">\n",
              "  <thead>\n",
              "    <tr style=\"text-align: right;\">\n",
              "      <th></th>\n",
              "      <th>creditscore</th>\n",
              "      <th>geography</th>\n",
              "      <th>gender</th>\n",
              "      <th>age</th>\n",
              "      <th>tenure</th>\n",
              "      <th>balance</th>\n",
              "      <th>numofproducts</th>\n",
              "      <th>hascrcard</th>\n",
              "      <th>isactivemember</th>\n",
              "      <th>estimatedsalary</th>\n",
              "      <th>exited</th>\n",
              "    </tr>\n",
              "  </thead>\n",
              "  <tbody>\n",
              "    <tr>\n",
              "      <th>0</th>\n",
              "      <td>619</td>\n",
              "      <td>France</td>\n",
              "      <td>Female</td>\n",
              "      <td>42</td>\n",
              "      <td>2.0</td>\n",
              "      <td>0.00</td>\n",
              "      <td>1</td>\n",
              "      <td>1</td>\n",
              "      <td>1</td>\n",
              "      <td>101348.88</td>\n",
              "      <td>1</td>\n",
              "    </tr>\n",
              "    <tr>\n",
              "      <th>1</th>\n",
              "      <td>608</td>\n",
              "      <td>Spain</td>\n",
              "      <td>Female</td>\n",
              "      <td>41</td>\n",
              "      <td>1.0</td>\n",
              "      <td>83807.86</td>\n",
              "      <td>1</td>\n",
              "      <td>0</td>\n",
              "      <td>1</td>\n",
              "      <td>112542.58</td>\n",
              "      <td>0</td>\n",
              "    </tr>\n",
              "    <tr>\n",
              "      <th>2</th>\n",
              "      <td>502</td>\n",
              "      <td>France</td>\n",
              "      <td>Female</td>\n",
              "      <td>42</td>\n",
              "      <td>8.0</td>\n",
              "      <td>159660.80</td>\n",
              "      <td>3</td>\n",
              "      <td>1</td>\n",
              "      <td>0</td>\n",
              "      <td>113931.57</td>\n",
              "      <td>1</td>\n",
              "    </tr>\n",
              "    <tr>\n",
              "      <th>3</th>\n",
              "      <td>699</td>\n",
              "      <td>France</td>\n",
              "      <td>Female</td>\n",
              "      <td>39</td>\n",
              "      <td>1.0</td>\n",
              "      <td>0.00</td>\n",
              "      <td>2</td>\n",
              "      <td>0</td>\n",
              "      <td>0</td>\n",
              "      <td>93826.63</td>\n",
              "      <td>0</td>\n",
              "    </tr>\n",
              "    <tr>\n",
              "      <th>4</th>\n",
              "      <td>850</td>\n",
              "      <td>Spain</td>\n",
              "      <td>Female</td>\n",
              "      <td>43</td>\n",
              "      <td>2.0</td>\n",
              "      <td>125510.82</td>\n",
              "      <td>1</td>\n",
              "      <td>1</td>\n",
              "      <td>1</td>\n",
              "      <td>79084.10</td>\n",
              "      <td>0</td>\n",
              "    </tr>\n",
              "  </tbody>\n",
              "</table>\n",
              "</div>"
            ],
            "text/plain": [
              "   creditscore geography  gender  ...  isactivemember  estimatedsalary  exited\n",
              "0          619    France  Female  ...               1        101348.88       1\n",
              "1          608     Spain  Female  ...               1        112542.58       0\n",
              "2          502    France  Female  ...               0        113931.57       1\n",
              "3          699    France  Female  ...               0         93826.63       0\n",
              "4          850     Spain  Female  ...               1         79084.10       0\n",
              "\n",
              "[5 rows x 11 columns]"
            ]
          },
          "metadata": {},
          "execution_count": 117
        }
      ]
    },
    {
      "cell_type": "code",
      "metadata": {
        "colab": {
          "base_uri": "https://localhost:8080/",
          "height": 317
        },
        "id": "Et4QPN3sXY0E",
        "outputId": "d50962d9-0b5d-4cc9-879d-eb72489091c0"
      },
      "source": [
        "# Obtain summary statistics for the dataset\n",
        "\n",
        "bank_df.describe()"
      ],
      "execution_count": 118,
      "outputs": [
        {
          "output_type": "execute_result",
          "data": {
            "text/html": [
              "<div>\n",
              "<style scoped>\n",
              "    .dataframe tbody tr th:only-of-type {\n",
              "        vertical-align: middle;\n",
              "    }\n",
              "\n",
              "    .dataframe tbody tr th {\n",
              "        vertical-align: top;\n",
              "    }\n",
              "\n",
              "    .dataframe thead th {\n",
              "        text-align: right;\n",
              "    }\n",
              "</style>\n",
              "<table border=\"1\" class=\"dataframe\">\n",
              "  <thead>\n",
              "    <tr style=\"text-align: right;\">\n",
              "      <th></th>\n",
              "      <th>rownumber</th>\n",
              "      <th>customerid</th>\n",
              "      <th>creditscore</th>\n",
              "      <th>age</th>\n",
              "      <th>tenure</th>\n",
              "      <th>balance</th>\n",
              "      <th>numofproducts</th>\n",
              "      <th>hascrcard</th>\n",
              "      <th>isactivemember</th>\n",
              "      <th>estimatedsalary</th>\n",
              "      <th>exited</th>\n",
              "    </tr>\n",
              "  </thead>\n",
              "  <tbody>\n",
              "    <tr>\n",
              "      <th>count</th>\n",
              "      <td>10000.00000</td>\n",
              "      <td>1.000000e+04</td>\n",
              "      <td>10000.000000</td>\n",
              "      <td>10000.000000</td>\n",
              "      <td>9091.000000</td>\n",
              "      <td>10000.000000</td>\n",
              "      <td>10000.000000</td>\n",
              "      <td>10000.00000</td>\n",
              "      <td>10000.000000</td>\n",
              "      <td>10000.000000</td>\n",
              "      <td>10000.000000</td>\n",
              "    </tr>\n",
              "    <tr>\n",
              "      <th>mean</th>\n",
              "      <td>5000.50000</td>\n",
              "      <td>1.569094e+07</td>\n",
              "      <td>650.528800</td>\n",
              "      <td>38.921800</td>\n",
              "      <td>4.997690</td>\n",
              "      <td>76485.889288</td>\n",
              "      <td>1.530200</td>\n",
              "      <td>0.70550</td>\n",
              "      <td>0.515100</td>\n",
              "      <td>100090.239881</td>\n",
              "      <td>0.203700</td>\n",
              "    </tr>\n",
              "    <tr>\n",
              "      <th>std</th>\n",
              "      <td>2886.89568</td>\n",
              "      <td>7.193619e+04</td>\n",
              "      <td>96.653299</td>\n",
              "      <td>10.487806</td>\n",
              "      <td>2.894723</td>\n",
              "      <td>62397.405202</td>\n",
              "      <td>0.581654</td>\n",
              "      <td>0.45584</td>\n",
              "      <td>0.499797</td>\n",
              "      <td>57510.492818</td>\n",
              "      <td>0.402769</td>\n",
              "    </tr>\n",
              "    <tr>\n",
              "      <th>min</th>\n",
              "      <td>1.00000</td>\n",
              "      <td>1.556570e+07</td>\n",
              "      <td>350.000000</td>\n",
              "      <td>18.000000</td>\n",
              "      <td>0.000000</td>\n",
              "      <td>0.000000</td>\n",
              "      <td>1.000000</td>\n",
              "      <td>0.00000</td>\n",
              "      <td>0.000000</td>\n",
              "      <td>11.580000</td>\n",
              "      <td>0.000000</td>\n",
              "    </tr>\n",
              "    <tr>\n",
              "      <th>25%</th>\n",
              "      <td>2500.75000</td>\n",
              "      <td>1.562853e+07</td>\n",
              "      <td>584.000000</td>\n",
              "      <td>32.000000</td>\n",
              "      <td>2.000000</td>\n",
              "      <td>0.000000</td>\n",
              "      <td>1.000000</td>\n",
              "      <td>0.00000</td>\n",
              "      <td>0.000000</td>\n",
              "      <td>51002.110000</td>\n",
              "      <td>0.000000</td>\n",
              "    </tr>\n",
              "    <tr>\n",
              "      <th>50%</th>\n",
              "      <td>5000.50000</td>\n",
              "      <td>1.569074e+07</td>\n",
              "      <td>652.000000</td>\n",
              "      <td>37.000000</td>\n",
              "      <td>5.000000</td>\n",
              "      <td>97198.540000</td>\n",
              "      <td>1.000000</td>\n",
              "      <td>1.00000</td>\n",
              "      <td>1.000000</td>\n",
              "      <td>100193.915000</td>\n",
              "      <td>0.000000</td>\n",
              "    </tr>\n",
              "    <tr>\n",
              "      <th>75%</th>\n",
              "      <td>7500.25000</td>\n",
              "      <td>1.575323e+07</td>\n",
              "      <td>718.000000</td>\n",
              "      <td>44.000000</td>\n",
              "      <td>7.000000</td>\n",
              "      <td>127644.240000</td>\n",
              "      <td>2.000000</td>\n",
              "      <td>1.00000</td>\n",
              "      <td>1.000000</td>\n",
              "      <td>149388.247500</td>\n",
              "      <td>0.000000</td>\n",
              "    </tr>\n",
              "    <tr>\n",
              "      <th>max</th>\n",
              "      <td>10000.00000</td>\n",
              "      <td>1.581569e+07</td>\n",
              "      <td>850.000000</td>\n",
              "      <td>92.000000</td>\n",
              "      <td>10.000000</td>\n",
              "      <td>250898.090000</td>\n",
              "      <td>4.000000</td>\n",
              "      <td>1.00000</td>\n",
              "      <td>1.000000</td>\n",
              "      <td>199992.480000</td>\n",
              "      <td>1.000000</td>\n",
              "    </tr>\n",
              "  </tbody>\n",
              "</table>\n",
              "</div>"
            ],
            "text/plain": [
              "         rownumber    customerid  ...  estimatedsalary        exited\n",
              "count  10000.00000  1.000000e+04  ...     10000.000000  10000.000000\n",
              "mean    5000.50000  1.569094e+07  ...    100090.239881      0.203700\n",
              "std     2886.89568  7.193619e+04  ...     57510.492818      0.402769\n",
              "min        1.00000  1.556570e+07  ...        11.580000      0.000000\n",
              "25%     2500.75000  1.562853e+07  ...     51002.110000      0.000000\n",
              "50%     5000.50000  1.569074e+07  ...    100193.915000      0.000000\n",
              "75%     7500.25000  1.575323e+07  ...    149388.247500      0.000000\n",
              "max    10000.00000  1.581569e+07  ...    199992.480000      1.000000\n",
              "\n",
              "[8 rows x 11 columns]"
            ]
          },
          "metadata": {},
          "execution_count": 118
        }
      ]
    },
    {
      "cell_type": "markdown",
      "metadata": {
        "id": "hkpDaViNliQo"
      },
      "source": [
        "## 5. Solution Implementation"
      ]
    },
    {
      "cell_type": "markdown",
      "metadata": {
        "id": "aMybVMRRlqpK"
      },
      "source": [
        "### Data Preparation"
      ]
    },
    {
      "cell_type": "markdown",
      "metadata": {
        "id": "Jge8G78hloHy"
      },
      "source": [
        "#### Variable Encoding"
      ]
    },
    {
      "cell_type": "markdown",
      "metadata": {
        "id": "siwF0DtXAKNr"
      },
      "source": [
        "Explore the categorical variables in the dataset. These will need to be convert to numerical form for the model to be more accurate"
      ]
    },
    {
      "cell_type": "code",
      "metadata": {
        "colab": {
          "base_uri": "https://localhost:8080/"
        },
        "id": "zZLdBIXhrhM-",
        "outputId": "c6841a72-61b5-493b-bb4a-58376a329c70"
      },
      "source": [
        "# Explore the datatypes\n",
        "\n",
        "bank_df1.dtypes"
      ],
      "execution_count": 119,
      "outputs": [
        {
          "output_type": "execute_result",
          "data": {
            "text/plain": [
              "creditscore          int64\n",
              "geography           object\n",
              "gender              object\n",
              "age                  int64\n",
              "tenure             float64\n",
              "balance            float64\n",
              "numofproducts        int64\n",
              "hascrcard            int64\n",
              "isactivemember       int64\n",
              "estimatedsalary    float64\n",
              "exited               int64\n",
              "dtype: object"
            ]
          },
          "metadata": {},
          "execution_count": 119
        }
      ]
    },
    {
      "cell_type": "code",
      "metadata": {
        "colab": {
          "base_uri": "https://localhost:8080/"
        },
        "id": "o1gKW7bOrpi7",
        "outputId": "89bae099-341b-4a38-f944-732787aca811"
      },
      "source": [
        "# Obtain unique values for the 'geography' variable\n",
        "\n",
        "bank_df1.geography.unique()"
      ],
      "execution_count": 120,
      "outputs": [
        {
          "output_type": "execute_result",
          "data": {
            "text/plain": [
              "array(['France', 'Spain', 'Germany'], dtype=object)"
            ]
          },
          "metadata": {},
          "execution_count": 120
        }
      ]
    },
    {
      "cell_type": "code",
      "metadata": {
        "colab": {
          "base_uri": "https://localhost:8080/"
        },
        "id": "Xq9AjcTlr2n1",
        "outputId": "b5ceb690-e95c-4f47-949d-371240c2b514"
      },
      "source": [
        "# Obtain unique values for the 'gender' variable\n",
        "\n",
        "bank_df1.gender.unique()"
      ],
      "execution_count": 121,
      "outputs": [
        {
          "output_type": "execute_result",
          "data": {
            "text/plain": [
              "array(['Female', 'Male'], dtype=object)"
            ]
          },
          "metadata": {},
          "execution_count": 121
        }
      ]
    },
    {
      "cell_type": "markdown",
      "metadata": {
        "id": "1VvsO31tsJNE"
      },
      "source": [
        "Perform lable encoding to transform the categorical variable observations into numeric values"
      ]
    },
    {
      "cell_type": "code",
      "metadata": {
        "colab": {
          "base_uri": "https://localhost:8080/"
        },
        "id": "EmmRZtpDsSsp",
        "outputId": "d8090fe3-f878-47ed-abd1-c620d43013c0"
      },
      "source": [
        "# Transform the features using Label Encoding - using .fit_transform() method\n",
        "\n",
        "# Import OrdinalEncoder class from the library\n",
        "from sklearn.preprocessing import OrdinalEncoder\n",
        "\n",
        "# Create an instance of OrdinalEncoder\n",
        "encoder = OrdinalEncoder()\n",
        "\n",
        "# Fit the data for the encoder to recognize which features are categorical\n",
        "# Transform the data and store it in the bank_df_encoded\n",
        "# Use the DataFrame() constructor to add column names\n",
        "bank_df_encoded = pd.DataFrame(encoder.fit_transform(bank_df1), columns=bank_df1.columns)\n",
        "\n",
        "# Display a preview of the result\n",
        "print(bank_df_encoded.head())"
      ],
      "execution_count": 122,
      "outputs": [
        {
          "output_type": "stream",
          "name": "stdout",
          "text": [
            "   creditscore  geography  gender  ...  isactivemember  estimatedsalary  exited\n",
            "0        226.0        0.0     0.0  ...             1.0           4609.0     1.0\n",
            "1        215.0        2.0     0.0  ...             1.0           5119.0     0.0\n",
            "2        109.0        0.0     0.0  ...             0.0           5182.0     1.0\n",
            "3        306.0        0.0     0.0  ...             0.0           4274.0     0.0\n",
            "4        457.0        2.0     0.0  ...             1.0           3559.0     0.0\n",
            "\n",
            "[5 rows x 11 columns]\n"
          ]
        }
      ]
    },
    {
      "cell_type": "markdown",
      "metadata": {
        "id": "wQvKUWZelw1z"
      },
      "source": [
        "#### Data standardization - Scaling"
      ]
    },
    {
      "cell_type": "markdown",
      "metadata": {
        "id": "bIayVdi2tbaf"
      },
      "source": [
        "The variables are all on different scales, 'estimatedsalary' in monetary values and 'isactivemember' in 0 or 1. We will standardize the data using StandardScaler class"
      ]
    },
    {
      "cell_type": "code",
      "metadata": {
        "colab": {
          "base_uri": "https://localhost:8080/"
        },
        "id": "j7osleq2wW4C",
        "outputId": "46b39e2d-2bf0-4bc3-ef2e-e8e742049b17"
      },
      "source": [
        "bank_df_encoded.columns"
      ],
      "execution_count": 123,
      "outputs": [
        {
          "output_type": "execute_result",
          "data": {
            "text/plain": [
              "Index(['creditscore', 'geography', 'gender', 'age', 'tenure', 'balance',\n",
              "       'numofproducts', 'hascrcard', 'isactivemember', 'estimatedsalary',\n",
              "       'exited'],\n",
              "      dtype='object')"
            ]
          },
          "metadata": {},
          "execution_count": 123
        }
      ]
    },
    {
      "cell_type": "code",
      "metadata": {
        "colab": {
          "base_uri": "https://localhost:8080/",
          "height": 367
        },
        "id": "VE6emMEcuLe3",
        "outputId": "d897d0cf-b1c1-4294-983a-dbed2b8da82a"
      },
      "source": [
        "# Import StandardScaler from the library\n",
        "from sklearn.preprocessing import StandardScaler\n",
        "\n",
        "# Create an instance of the StandardScaler() class\n",
        "scaler = StandardScaler()\n",
        "\n",
        "# Define the features\n",
        "features = ['creditscore', 'geography', 'gender', 'age', 'tenure', 'balance',\n",
        "       'numofproducts', 'hascrcard', 'isactivemember', 'estimatedsalary']\n",
        "\n",
        "# Tune the scaler function using the data\n",
        "scaler.fit(bank_df_encoded[features])\n",
        "\n",
        "# Transform the dataset using transform()\n",
        "bank_df_encoded[features] = scaler.transform(bank_df_encoded[features])\n",
        "\n",
        "# Display a sample result\n",
        "print(bank_df_encoded.head())\n",
        "\n",
        "# Preview the new dataset\n",
        "bank_df_encoded.tail()"
      ],
      "execution_count": 124,
      "outputs": [
        {
          "output_type": "stream",
          "name": "stdout",
          "text": [
            "   creditscore  geography    gender  ...  isactivemember  estimatedsalary  exited\n",
            "0    -0.330442  -0.903184 -1.099164  ...         0.96934         0.024723     1.0\n",
            "1    -0.444750   1.515683 -1.099164  ...         0.96934         0.219071     0.0\n",
            "2    -1.546263  -0.903184 -1.099164  ...        -1.03163         0.243079     1.0\n",
            "3     0.500889  -0.903184 -1.099164  ...        -1.03163        -0.102937     0.0\n",
            "4     2.070025   1.515683 -1.099164  ...         0.96934        -0.375405     0.0\n",
            "\n",
            "[5 rows x 11 columns]\n"
          ]
        },
        {
          "output_type": "execute_result",
          "data": {
            "text/html": [
              "<div>\n",
              "<style scoped>\n",
              "    .dataframe tbody tr th:only-of-type {\n",
              "        vertical-align: middle;\n",
              "    }\n",
              "\n",
              "    .dataframe tbody tr th {\n",
              "        vertical-align: top;\n",
              "    }\n",
              "\n",
              "    .dataframe thead th {\n",
              "        text-align: right;\n",
              "    }\n",
              "</style>\n",
              "<table border=\"1\" class=\"dataframe\">\n",
              "  <thead>\n",
              "    <tr style=\"text-align: right;\">\n",
              "      <th></th>\n",
              "      <th>creditscore</th>\n",
              "      <th>geography</th>\n",
              "      <th>gender</th>\n",
              "      <th>age</th>\n",
              "      <th>tenure</th>\n",
              "      <th>balance</th>\n",
              "      <th>numofproducts</th>\n",
              "      <th>hascrcard</th>\n",
              "      <th>isactivemember</th>\n",
              "      <th>estimatedsalary</th>\n",
              "      <th>exited</th>\n",
              "    </tr>\n",
              "  </thead>\n",
              "  <tbody>\n",
              "    <tr>\n",
              "      <th>9086</th>\n",
              "      <td>1.550444</td>\n",
              "      <td>-0.903184</td>\n",
              "      <td>-1.099164</td>\n",
              "      <td>-0.942855</td>\n",
              "      <td>-1.035627</td>\n",
              "      <td>-0.959269</td>\n",
              "      <td>0.808655</td>\n",
              "      <td>-1.545844</td>\n",
              "      <td>-1.03163</td>\n",
              "      <td>1.164136</td>\n",
              "      <td>0.0</td>\n",
              "    </tr>\n",
              "    <tr>\n",
              "      <th>9087</th>\n",
              "      <td>1.249087</td>\n",
              "      <td>-0.903184</td>\n",
              "      <td>0.909782</td>\n",
              "      <td>0.004889</td>\n",
              "      <td>0.000798</td>\n",
              "      <td>-0.959269</td>\n",
              "      <td>0.808655</td>\n",
              "      <td>0.646896</td>\n",
              "      <td>-1.03163</td>\n",
              "      <td>-0.060638</td>\n",
              "      <td>0.0</td>\n",
              "    </tr>\n",
              "    <tr>\n",
              "      <th>9088</th>\n",
              "      <td>-1.400780</td>\n",
              "      <td>-0.903184</td>\n",
              "      <td>0.909782</td>\n",
              "      <td>-0.374209</td>\n",
              "      <td>1.728174</td>\n",
              "      <td>-0.902384</td>\n",
              "      <td>-0.912601</td>\n",
              "      <td>0.646896</td>\n",
              "      <td>0.96934</td>\n",
              "      <td>0.031582</td>\n",
              "      <td>0.0</td>\n",
              "    </tr>\n",
              "    <tr>\n",
              "      <th>9089</th>\n",
              "      <td>0.604805</td>\n",
              "      <td>-0.903184</td>\n",
              "      <td>-1.099164</td>\n",
              "      <td>-0.279434</td>\n",
              "      <td>0.691748</td>\n",
              "      <td>-0.959269</td>\n",
              "      <td>-0.912601</td>\n",
              "      <td>-1.545844</td>\n",
              "      <td>0.96934</td>\n",
              "      <td>-1.014467</td>\n",
              "      <td>1.0</td>\n",
              "    </tr>\n",
              "    <tr>\n",
              "      <th>9090</th>\n",
              "      <td>1.259478</td>\n",
              "      <td>0.306250</td>\n",
              "      <td>0.909782</td>\n",
              "      <td>0.289213</td>\n",
              "      <td>-0.690152</td>\n",
              "      <td>-0.759135</td>\n",
              "      <td>0.808655</td>\n",
              "      <td>0.646896</td>\n",
              "      <td>-1.03163</td>\n",
              "      <td>-0.125801</td>\n",
              "      <td>1.0</td>\n",
              "    </tr>\n",
              "  </tbody>\n",
              "</table>\n",
              "</div>"
            ],
            "text/plain": [
              "      creditscore  geography    gender  ...  isactivemember  estimatedsalary  exited\n",
              "9086     1.550444  -0.903184 -1.099164  ...        -1.03163         1.164136     0.0\n",
              "9087     1.249087  -0.903184  0.909782  ...        -1.03163        -0.060638     0.0\n",
              "9088    -1.400780  -0.903184  0.909782  ...         0.96934         0.031582     0.0\n",
              "9089     0.604805  -0.903184 -1.099164  ...         0.96934        -1.014467     1.0\n",
              "9090     1.259478   0.306250  0.909782  ...        -1.03163        -0.125801     1.0\n",
              "\n",
              "[5 rows x 11 columns]"
            ]
          },
          "metadata": {},
          "execution_count": 124
        }
      ]
    },
    {
      "cell_type": "markdown",
      "metadata": {
        "id": "mGJFogIrx1Ri"
      },
      "source": [
        "### Examine the balance of classes"
      ]
    },
    {
      "cell_type": "code",
      "metadata": {
        "colab": {
          "base_uri": "https://localhost:8080/"
        },
        "id": "UifJpXJAyD7L",
        "outputId": "18beec1d-6d59-4cbc-a523-c7092275ce6d"
      },
      "source": [
        "# Split the dataset into negative and positive classes\n",
        "\n",
        "features_zeros = bank_df_encoded[bank_df_encoded['exited'] == 0]\n",
        "features_ones = bank_df_encoded[bank_df_encoded['exited'] == 1]\n",
        "\n",
        "print(features_zeros.shape)\n",
        "print(features_ones.shape)\n"
      ],
      "execution_count": 125,
      "outputs": [
        {
          "output_type": "stream",
          "name": "stdout",
          "text": [
            "(7237, 11)\n",
            "(1854, 11)\n"
          ]
        }
      ]
    },
    {
      "cell_type": "markdown",
      "metadata": {
        "id": "A8N8pA9_0W8h"
      },
      "source": [
        "The dataset has class imbalance, with positive and negative class frequency at 1,854 and 7,237 respectively"
      ]
    },
    {
      "cell_type": "markdown",
      "metadata": {
        "id": "__XlzGEMmpXV"
      },
      "source": [
        "### Defining and training the model"
      ]
    },
    {
      "cell_type": "markdown",
      "metadata": {
        "id": "Kc6XmtHRdb_I"
      },
      "source": [
        "#### Datasets, features and target selection"
      ]
    },
    {
      "cell_type": "code",
      "metadata": {
        "colab": {
          "base_uri": "https://localhost:8080/"
        },
        "id": "ztDU2CQQl2X7",
        "outputId": "1f86b935-f224-4955-f3ab-810b61a215c7"
      },
      "source": [
        "# Split the dataset into training, validation and test datasets\n",
        "\n",
        "# Import train_test_split from the sklearn.model_selection module\n",
        "from sklearn.model_selection import train_test_split\n",
        "\n",
        "# Use train_test_split function to split the dataset into training, validation and test datasets in the ratio 3:1:1\n",
        "df_train, df_valid= train_test_split(bank_df_encoded, test_size=0.4,random_state=12345)\n",
        "df_valid, df_test= train_test_split(df_valid, test_size=0.5,random_state=12345)\n",
        "\n",
        "# Declare features and target variables for the different datasets\n",
        "features_train = df_train.drop(['exited'], axis=1)\n",
        "target_train = df_train['exited']\n",
        "features_valid = df_valid.drop(['exited'], axis=1)\n",
        "target_valid = df_valid['exited']\n",
        "features_test = df_valid.drop(['exited'], axis=1)\n",
        "target_test = df_valid['exited']\n",
        "\n",
        "# Display number of observations for each dataset\n",
        "print(df_train.shape)\n",
        "print(df_valid.shape)\n",
        "print(df_test.shape)"
      ],
      "execution_count": 126,
      "outputs": [
        {
          "output_type": "stream",
          "name": "stdout",
          "text": [
            "(5454, 11)\n",
            "(1818, 11)\n",
            "(1819, 11)\n"
          ]
        }
      ]
    },
    {
      "cell_type": "markdown",
      "metadata": {
        "id": "4ktSfO3xwIFy"
      },
      "source": [
        "### Hyperparameter tuning"
      ]
    },
    {
      "cell_type": "markdown",
      "metadata": {
        "id": "_lzBNaDg17_R"
      },
      "source": [
        "Perform hyperparameter tuning using 3 different models and select the best performing (Measure using the f1 score) "
      ]
    },
    {
      "cell_type": "markdown",
      "metadata": {
        "id": "FNBvvz9Dm7YW"
      },
      "source": [
        "#### Decision tree classifier  model"
      ]
    },
    {
      "cell_type": "code",
      "metadata": {
        "colab": {
          "base_uri": "https://localhost:8080/"
        },
        "id": "RbaxZQ2PBwNT",
        "outputId": "44a3fd42-5ab3-456b-d1e8-12d8b774c9ed"
      },
      "source": [
        "# import decision tree from the sklearn library\n",
        "from sklearn.tree import DecisionTreeClassifier\n",
        "from sklearn.metrics import f1_score\n",
        "\n",
        "# Loop over the 'max_depth' hyperparameter to determine the one with highest accuracy score\n",
        "for depth in range(1, 21):\n",
        "\n",
        "        # Define the model\n",
        "        model_tree = DecisionTreeClassifier(random_state=12345, max_depth=depth) \n",
        "\n",
        "        # Train the model\n",
        "        model_tree.fit(features_train, target_train) \n",
        "\n",
        "        # Predict the target variable for the validation dataset\n",
        "        predicted_valid_tree = model_tree.predict(features_valid) \n",
        "\n",
        "        # Loop through the different depths & Display the f1 score\n",
        "        print(\"max_depth =\", depth, \": \", end='') \n",
        "        print(f1_score(target_valid, predicted_valid_tree)) "
      ],
      "execution_count": 127,
      "outputs": [
        {
          "output_type": "stream",
          "name": "stdout",
          "text": [
            "max_depth = 1 : 0.0\n",
            "max_depth = 2 : 0.5304878048780488\n",
            "max_depth = 3 : 0.3726708074534161\n",
            "max_depth = 4 : 0.5414551607445008\n",
            "max_depth = 5 : 0.5513698630136986\n",
            "max_depth = 6 : 0.5106382978723404\n",
            "max_depth = 7 : 0.5315161839863713\n",
            "max_depth = 8 : 0.5085910652920962\n",
            "max_depth = 9 : 0.515702479338843\n",
            "max_depth = 10 : 0.5398773006134969\n",
            "max_depth = 11 : 0.5142002989536621\n",
            "max_depth = 12 : 0.4977908689248896\n",
            "max_depth = 13 : 0.48939179632248936\n",
            "max_depth = 14 : 0.4778523489932886\n",
            "max_depth = 15 : 0.4573748308525034\n",
            "max_depth = 16 : 0.472\n",
            "max_depth = 17 : 0.4486486486486486\n",
            "max_depth = 18 : 0.4523809523809524\n",
            "max_depth = 19 : 0.4623376623376623\n",
            "max_depth = 20 : 0.4476439790575916\n"
          ]
        }
      ]
    },
    {
      "cell_type": "markdown",
      "metadata": {
        "id": "UTQp7cjzHez5"
      },
      "source": [
        "The decision tree classifier model has the highest F1 score of 0.551 when the hyperparameter 'max_depth' = 5 "
      ]
    },
    {
      "cell_type": "markdown",
      "metadata": {
        "id": "AI-p_I2QDi4y"
      },
      "source": [
        "#### Random Forest"
      ]
    },
    {
      "cell_type": "code",
      "metadata": {
        "colab": {
          "base_uri": "https://localhost:8080/"
        },
        "id": "XJCrcpSci3hH",
        "outputId": "12333baa-a522-4d0b-c9b2-99080b772a65"
      },
      "source": [
        "# import random forest classifier from the sklearn library\n",
        "from sklearn.ensemble import RandomForestClassifier\n",
        "\n",
        "# Loop over the 'n_estimators' hyperparameter to determine the one with highest accuracy score\n",
        "for estimator in range(1, 21):\n",
        "        # Define the model\n",
        "        model_forest = RandomForestClassifier(random_state=12345, n_estimators=estimator) \n",
        "        \n",
        "        # Train the model\n",
        "        model_forest.fit(features_train, target_train) \n",
        "\n",
        "        # Predict the target variable for the validation dataset\n",
        "        predicted_valid_forest = model_forest.predict(features_valid) \n",
        "\n",
        "        # Loop through the different number of estimators & Display the f1 score\n",
        "        print(\"n_estimators =\", estimator, \": \", end='') \n",
        "        print(f1_score(target_valid, predicted_valid_forest)) "
      ],
      "execution_count": 128,
      "outputs": [
        {
          "output_type": "stream",
          "name": "stdout",
          "text": [
            "n_estimators = 1 : 0.5093333333333333\n",
            "n_estimators = 2 : 0.4319419237749546\n",
            "n_estimators = 3 : 0.5413533834586467\n",
            "n_estimators = 4 : 0.48754448398576516\n",
            "n_estimators = 5 : 0.5331278890600925\n",
            "n_estimators = 6 : 0.5181347150259067\n",
            "n_estimators = 7 : 0.548335974643423\n",
            "n_estimators = 8 : 0.5155709342560554\n",
            "n_estimators = 9 : 0.5544871794871794\n",
            "n_estimators = 10 : 0.54421768707483\n",
            "n_estimators = 11 : 0.5737179487179488\n",
            "n_estimators = 12 : 0.5371621621621622\n",
            "n_estimators = 13 : 0.5584415584415585\n",
            "n_estimators = 14 : 0.5430016863406408\n",
            "n_estimators = 15 : 0.5620915032679737\n",
            "n_estimators = 16 : 0.5454545454545454\n",
            "n_estimators = 17 : 0.5718954248366014\n",
            "n_estimators = 18 : 0.5652173913043479\n",
            "n_estimators = 19 : 0.5746753246753247\n",
            "n_estimators = 20 : 0.5596026490066225\n"
          ]
        }
      ]
    },
    {
      "cell_type": "markdown",
      "metadata": {
        "id": "a_iz-GJiIDrv"
      },
      "source": [
        "The random forest classifier model has the highest f1 score of 0.575 when the hyperparameter 'n_estimators' = 19"
      ]
    },
    {
      "cell_type": "markdown",
      "metadata": {
        "id": "g6-wkMFZEMMJ"
      },
      "source": [
        "#### Logistic Regression"
      ]
    },
    {
      "cell_type": "code",
      "metadata": {
        "colab": {
          "base_uri": "https://localhost:8080/"
        },
        "id": "FqjdWFHeEQml",
        "outputId": "60d977e7-00de-48d9-fb79-b375b7affc34"
      },
      "source": [
        "# import logistic regression from the sklearn library\n",
        "from sklearn.linear_model import LogisticRegression\n",
        "\n",
        "# Define the model\n",
        "model_regression = LogisticRegression(random_state=12345, solver='liblinear', class_weight='balanced') \n",
        "\n",
        "# Train the model\n",
        "model_regression.fit(features_train, target_train) \n",
        "\n",
        "# Predict the target variable for the validation dataset\n",
        "predicted_valid_regression = model_regression.predict(features_valid) \n",
        "\n",
        "# Display the f1 score\n",
        "print(f1_score(target_valid, predicted_valid_regression)) "
      ],
      "execution_count": 129,
      "outputs": [
        {
          "output_type": "stream",
          "name": "stdout",
          "text": [
            "0.47933884297520657\n"
          ]
        }
      ]
    },
    {
      "cell_type": "markdown",
      "metadata": {
        "id": "rs17gRWLINkg"
      },
      "source": [
        "The logistic regression model has an f1 score of 0.217 and 0.479 with hyperparameter class_weight='balanced'"
      ]
    },
    {
      "cell_type": "markdown",
      "metadata": {
        "id": "yQx-Il1qk418"
      },
      "source": [
        "### Model selection"
      ]
    },
    {
      "cell_type": "markdown",
      "metadata": {
        "id": "pKHHNeUuik8l"
      },
      "source": [
        "The random forest classifier model, with n_estimators = 19 attained the highest f1 score of 0.575 on the validation dataset"
      ]
    },
    {
      "cell_type": "code",
      "metadata": {
        "colab": {
          "base_uri": "https://localhost:8080/"
        },
        "id": "ADPsge1Axeds",
        "outputId": "66ba335b-5f15-4647-cbb1-bf020e8f0b84"
      },
      "source": [
        "# Obtain the accuracy score on the test dataset\n",
        "\n",
        "# Define the model\n",
        "model_forest2 = RandomForestClassifier(random_state=12345, n_estimators=19) \n",
        "\n",
        "# Train the model\n",
        "model_forest2.fit(features_train, target_train) \n",
        "\n",
        "# Predict the target variable for the test dataset\n",
        "predicted_test_forest2 = model_forest2.predict(features_test) \n",
        "\n",
        " # Display the f1 score\n",
        "print(f1_score(target_test, predicted_test_forest2))"
      ],
      "execution_count": 130,
      "outputs": [
        {
          "output_type": "stream",
          "name": "stdout",
          "text": [
            "0.5746753246753247\n"
          ]
        }
      ]
    },
    {
      "cell_type": "markdown",
      "metadata": {
        "id": "P_u1nns60a0R"
      },
      "source": [
        "The trained model then attains an F1 store of 0.575 on the test dataset"
      ]
    },
    {
      "cell_type": "code",
      "metadata": {
        "colab": {
          "base_uri": "https://localhost:8080/"
        },
        "id": "YVRsjAnyhhJO",
        "outputId": "70b61e10-f83a-48dc-d19d-0041dc2b049f"
      },
      "source": [
        "# Training the best performing model using the whole train dataset for higher accuracy\n",
        "\n",
        "# Declare features and target variables\n",
        "features = bank_df_encoded.drop(['exited'], axis=1)\n",
        "target = bank_df_encoded['exited']\n",
        "\n",
        "# Define the model\n",
        "model = RandomForestClassifier(random_state=12345, n_estimators=19) \n",
        "\n",
        "# Train the model\n",
        "model.fit(features, target) \n",
        "\n",
        "# Predict the target variable for the test dataset\n",
        "predicted = model.predict(features) \n",
        "\n",
        "# Display model f1 score\n",
        "print(f1_score(target, predicted)) "
      ],
      "execution_count": 131,
      "outputs": [
        {
          "output_type": "stream",
          "name": "stdout",
          "text": [
            "0.9905020352781546\n"
          ]
        }
      ]
    },
    {
      "cell_type": "markdown",
      "metadata": {
        "id": "1x9sGfRE31ZS"
      },
      "source": [
        "When we train the selected model (RandomForestClassifier(random_state=12345, n_estimators=19) with the entire dataset, we get an F1 score of 0.99"
      ]
    },
    {
      "cell_type": "markdown",
      "metadata": {
        "id": "MGtBwDRQyAYM"
      },
      "source": [
        "#### Model sanity check"
      ]
    },
    {
      "cell_type": "code",
      "metadata": {
        "colab": {
          "base_uri": "https://localhost:8080/",
          "height": 342
        },
        "id": "ltgs93Ixzw2j",
        "outputId": "64384d83-77cc-4b15-c9bf-67f0f15cc816"
      },
      "source": [
        "# Obtain sanity check by counting the target variable's class frequencies\n",
        "\n",
        "# Count classes in the target feature on the test dataset using value_counts() method\n",
        "# Make the frequencies relative (from 0 to 1)\n",
        "test_class_frequency = target_test.value_counts(normalize = True) \n",
        "\n",
        " # Print the frequencies on the screen\n",
        "print(test_class_frequency)\n",
        "\n",
        "# Display using plot() method\n",
        "test_class_frequency.plot(kind = 'bar') "
      ],
      "execution_count": 132,
      "outputs": [
        {
          "output_type": "stream",
          "name": "stdout",
          "text": [
            "0.0    0.792629\n",
            "1.0    0.207371\n",
            "Name: exited, dtype: float64\n"
          ]
        },
        {
          "output_type": "execute_result",
          "data": {
            "text/plain": [
              "<matplotlib.axes._subplots.AxesSubplot at 0x7fa552f0db10>"
            ]
          },
          "metadata": {},
          "execution_count": 132
        },
        {
          "output_type": "display_data",
          "data": {
            "image/png": "[encoded data removed]",
            "text/plain": [
              "<Figure size 432x288 with 1 Axes>"
            ]
          },
          "metadata": {
            "needs_background": "light"
          }
        }
      ]
    },
    {
      "cell_type": "code",
      "metadata": {
        "colab": {
          "base_uri": "https://localhost:8080/",
          "height": 342
        },
        "id": "03ESLs2WyD1n",
        "outputId": "50502c3c-c170-4eaf-8c0c-7ba758a9dce2"
      },
      "source": [
        "# Analyze the class frequencies of the model predictions on the test dataset using the value_counts() method\n",
        "\n",
        "# Convert the predictions to pd.Series for value_counts() work\n",
        "predicted_test = pd.Series(model.predict(features_test))\n",
        "\n",
        "# Save the counts in the class_frequency variable\n",
        "# Make the frequencies relative (from 0 to 1)\n",
        "model_class_frequency = predicted_test.value_counts(normalize = True) \n",
        "\n",
        "# Print the frequencies on the screen\n",
        "print(model_class_frequency) \n",
        "\n",
        "# Display using plot() method\n",
        "model_class_frequency.plot(kind = 'bar') "
      ],
      "execution_count": 133,
      "outputs": [
        {
          "output_type": "stream",
          "name": "stdout",
          "text": [
            "0.0    0.79538\n",
            "1.0    0.20462\n",
            "dtype: float64\n"
          ]
        },
        {
          "output_type": "execute_result",
          "data": {
            "text/plain": [
              "<matplotlib.axes._subplots.AxesSubplot at 0x7fa552dc3610>"
            ]
          },
          "metadata": {},
          "execution_count": 133
        },
        {
          "output_type": "display_data",
          "data": {
            "image/png": "[encoded data removed]",
            "text/plain": [
              "<Figure size 432x288 with 1 Axes>"
            ]
          },
          "metadata": {
            "needs_background": "light"
          }
        }
      ]
    },
    {
      "cell_type": "markdown",
      "metadata": {
        "id": "hDRVQlBi0m3n"
      },
      "source": [
        "Class frequency for the test dataset is:\n",
        "1. **Class 0: 0.793** \n",
        "2. **Class 1: 0.207**\n",
        "\n",
        "Analyzing the class frequencies using the model predictions on the test data reveals a class frequency of:\n",
        "1. **Class 0: 0.795** \n",
        "2. **Class 1: 0.205**\n",
        "\n",
        "The classes are equally imbalanced in both cases\n"
      ]
    },
    {
      "cell_type": "markdown",
      "metadata": {
        "id": "L4qDLbJ88PPp"
      },
      "source": [
        "### Fix Class Imbalance - Upsampling"
      ]
    },
    {
      "cell_type": "markdown",
      "metadata": {
        "id": "bX-IK1uu8nZt"
      },
      "source": [
        "Perform class balancing using 'Upsampling' method and observe improvement in model performance"
      ]
    },
    {
      "cell_type": "code",
      "metadata": {
        "colab": {
          "base_uri": "https://localhost:8080/"
        },
        "id": "KfICBGa_8xQd",
        "outputId": "02d73666-6fe4-42db-f18e-54ef04ba5998"
      },
      "source": [
        "#Import the shuffle() function from the sklearn.utils module.\n",
        "from sklearn.utils import shuffle\n",
        "\n",
        "# Define a upsample() function that will return the features and target after upsampling\n",
        "def upsample(features, target, repeat): \n",
        "\n",
        "    # Split the training sample into negative and positive observations.\n",
        "    features_zeros = features[target == 0]\n",
        "    features_ones = features[target == 1]\n",
        "    target_zeros = target[target == 0]\n",
        "    target_ones = target[target == 1]\n",
        "\n",
        "    # Duplicate the positive class observations and combine them with the negative class observations\n",
        "    # Use the pd.concat() function to concatenate the tables\n",
        "    # The number of repetitions is stored in the 'repeat' variable.\n",
        "    features_upsampled = pd.concat([features_zeros] + [features_ones] * repeat)\n",
        "    target_upsampled = pd.concat([target_zeros] + [target_ones] * repeat)\n",
        "\n",
        "    # Shuffle the data using the shuffle() function from the sklearn.utils module\n",
        "    features_upsampled, target_upsampled = shuffle(\n",
        "        features_upsampled, target_upsampled, random_state=12345\n",
        "    )\n",
        "    # The function will return the features and target after upsampling\n",
        "    return features_upsampled, target_upsampled \n",
        "\n",
        "# Call the function for the training data\n",
        "features_upsampled, target_upsampled = upsample(\n",
        "    features_train, target_train, 10\n",
        ")\n",
        "\n",
        "# Define the model\n",
        "model_upsample = RandomForestClassifier(random_state=12345, n_estimators=19) \n",
        "\n",
        "# Train the model\n",
        "model_upsample.fit(features_upsampled, target_upsampled) \n",
        "\n",
        "# Predict the target variable for the test dataset\n",
        "predicted_upsample_valid = model_upsample.predict(features_valid) \n",
        "\n",
        "# Display model f1 score\n",
        "print(f1_score(target_valid, predicted_upsample_valid)) \n"
      ],
      "execution_count": 134,
      "outputs": [
        {
          "output_type": "stream",
          "name": "stdout",
          "text": [
            "0.5968436154949784\n"
          ]
        }
      ]
    },
    {
      "cell_type": "code",
      "metadata": {
        "colab": {
          "base_uri": "https://localhost:8080/"
        },
        "id": "EjkCmzZi_fCB",
        "outputId": "71c811ea-86a7-4632-be42-29e857c55bf1"
      },
      "source": [
        "# Calculate f1 score on the test dataset\n",
        "\n",
        " # Predict the target variable for the test dataset\n",
        "predicted_upsample_test = model_upsample.predict(features_test)\n",
        "\n",
        "# Display model f1 score\n",
        "print(f1_score(target_test, predicted_upsample_test)) "
      ],
      "execution_count": 135,
      "outputs": [
        {
          "output_type": "stream",
          "name": "stdout",
          "text": [
            "0.5968436154949784\n"
          ]
        }
      ]
    },
    {
      "cell_type": "markdown",
      "metadata": {
        "id": "wfnT7raY_xy3"
      },
      "source": [
        "Upsampling impoved the F1 score of the model from 0.575 to 0.597 on both the validation and tests data sets"
      ]
    },
    {
      "cell_type": "markdown",
      "metadata": {
        "id": "1Y3zEGRRATRB"
      },
      "source": [
        "### Fix Class Imbalance - Downsampling"
      ]
    },
    {
      "cell_type": "markdown",
      "metadata": {
        "id": "ByurfzEnAjNm"
      },
      "source": [
        "Let us now balance the classes using the 'downsampling' method and observe improvements on the model's F1 score"
      ]
    },
    {
      "cell_type": "code",
      "metadata": {
        "colab": {
          "base_uri": "https://localhost:8080/"
        },
        "id": "t-avqqgDA0Da",
        "outputId": "89b11826-7cf5-4281-d805-f82958d281f7"
      },
      "source": [
        "# Define a downsample() function that will return the features and target after downsampling\n",
        "def downsample(features, target, fraction):\n",
        "\n",
        "    # Split the training sample into negative and positive observations.\n",
        "    features_zeros = features[target == 0]\n",
        "    features_ones = features[target == 1]\n",
        "    target_zeros = target[target == 0]\n",
        "    target_ones = target[target == 1]\n",
        "\n",
        "    # Randomly discard some of the table elements use the sample() function\n",
        "    # Declare downsampled features\n",
        "    features_downsampled = pd.concat(\n",
        "        [features_zeros.sample(frac=fraction, random_state=12345)]\n",
        "        + [features_ones]\n",
        "    )\n",
        "    target_downsampled = pd.concat(\n",
        "        [target_zeros.sample(frac=fraction, random_state=12345)]\n",
        "        + [target_ones]\n",
        "    )\n",
        "\n",
        "    # Shuffle the data using the shuffle() function from the sklearn.utils module\n",
        "    features_downsampled, target_downsampled = shuffle(\n",
        "        features_downsampled, target_downsampled, random_state=12345\n",
        "    )\n",
        "    # The function will return the features and target after downsampling\n",
        "    return features_downsampled, target_downsampled  \n",
        "\n",
        "# Call the function for the training data\n",
        "features_downsampled, target_downsampled = downsample(\n",
        "    features_train, target_train, 0.1\n",
        ")\n",
        "\n",
        "# Define the model\n",
        "model_downsample = RandomForestClassifier(random_state=12345, n_estimators=19) \n",
        "\n",
        "# Train the model\n",
        "model_downsample.fit(features_upsampled, target_upsampled) \n",
        "\n",
        "# Predict the target variable for the test dataset\n",
        "predicted_downsample_valid = model_downsample.predict(features_valid) \n",
        "\n",
        "# Display model f1 score\n",
        "print(f1_score(target_valid, predicted_downsample_valid)) \n"
      ],
      "execution_count": 136,
      "outputs": [
        {
          "output_type": "stream",
          "name": "stdout",
          "text": [
            "0.5968436154949784\n"
          ]
        }
      ]
    },
    {
      "cell_type": "code",
      "metadata": {
        "colab": {
          "base_uri": "https://localhost:8080/"
        },
        "id": "k4l2zxuAC0Ui",
        "outputId": "335fdabc-1e37-4cfb-fd22-c48833eb0fe4"
      },
      "source": [
        "# Calculate f1 score on the test dataset\n",
        "\n",
        "# Predict the target variable for the test dataset\n",
        "predicted_downsample_test = model_downsample.predict(features_test) \n",
        "\n",
        "# Display model f1 score\n",
        "print(f1_score(target_test, predicted_downsample_test)) "
      ],
      "execution_count": 137,
      "outputs": [
        {
          "output_type": "stream",
          "name": "stdout",
          "text": [
            "0.5968436154949784\n"
          ]
        }
      ]
    },
    {
      "cell_type": "markdown",
      "metadata": {
        "id": "eOZOJTRuDCXr"
      },
      "source": [
        "Downsampling and upsampling have resulted to similar model improvement: F1 score improved from 0.575 to 0.597"
      ]
    },
    {
      "cell_type": "markdown",
      "metadata": {
        "id": "kSZ5MLv5nJqr"
      },
      "source": [
        "### Prediction using the trained model"
      ]
    },
    {
      "cell_type": "code",
      "metadata": {
        "colab": {
          "base_uri": "https://localhost:8080/",
          "height": 204
        },
        "id": "6PbW572MlaE-",
        "outputId": "61321c88-cef3-492b-8bb2-f3f6c772c022"
      },
      "source": [
        "# Preview the dataset\n",
        "\n",
        "bank_df1.tail()"
      ],
      "execution_count": 138,
      "outputs": [
        {
          "output_type": "execute_result",
          "data": {
            "text/html": [
              "<div>\n",
              "<style scoped>\n",
              "    .dataframe tbody tr th:only-of-type {\n",
              "        vertical-align: middle;\n",
              "    }\n",
              "\n",
              "    .dataframe tbody tr th {\n",
              "        vertical-align: top;\n",
              "    }\n",
              "\n",
              "    .dataframe thead th {\n",
              "        text-align: right;\n",
              "    }\n",
              "</style>\n",
              "<table border=\"1\" class=\"dataframe\">\n",
              "  <thead>\n",
              "    <tr style=\"text-align: right;\">\n",
              "      <th></th>\n",
              "      <th>creditscore</th>\n",
              "      <th>geography</th>\n",
              "      <th>gender</th>\n",
              "      <th>age</th>\n",
              "      <th>tenure</th>\n",
              "      <th>balance</th>\n",
              "      <th>numofproducts</th>\n",
              "      <th>hascrcard</th>\n",
              "      <th>isactivemember</th>\n",
              "      <th>estimatedsalary</th>\n",
              "      <th>exited</th>\n",
              "    </tr>\n",
              "  </thead>\n",
              "  <tbody>\n",
              "    <tr>\n",
              "      <th>9994</th>\n",
              "      <td>800</td>\n",
              "      <td>France</td>\n",
              "      <td>Female</td>\n",
              "      <td>29</td>\n",
              "      <td>2.0</td>\n",
              "      <td>0.00</td>\n",
              "      <td>2</td>\n",
              "      <td>0</td>\n",
              "      <td>0</td>\n",
              "      <td>167773.55</td>\n",
              "      <td>0</td>\n",
              "    </tr>\n",
              "    <tr>\n",
              "      <th>9995</th>\n",
              "      <td>771</td>\n",
              "      <td>France</td>\n",
              "      <td>Male</td>\n",
              "      <td>39</td>\n",
              "      <td>5.0</td>\n",
              "      <td>0.00</td>\n",
              "      <td>2</td>\n",
              "      <td>1</td>\n",
              "      <td>0</td>\n",
              "      <td>96270.64</td>\n",
              "      <td>0</td>\n",
              "    </tr>\n",
              "    <tr>\n",
              "      <th>9996</th>\n",
              "      <td>516</td>\n",
              "      <td>France</td>\n",
              "      <td>Male</td>\n",
              "      <td>35</td>\n",
              "      <td>10.0</td>\n",
              "      <td>57369.61</td>\n",
              "      <td>1</td>\n",
              "      <td>1</td>\n",
              "      <td>1</td>\n",
              "      <td>101699.77</td>\n",
              "      <td>0</td>\n",
              "    </tr>\n",
              "    <tr>\n",
              "      <th>9997</th>\n",
              "      <td>709</td>\n",
              "      <td>France</td>\n",
              "      <td>Female</td>\n",
              "      <td>36</td>\n",
              "      <td>7.0</td>\n",
              "      <td>0.00</td>\n",
              "      <td>1</td>\n",
              "      <td>0</td>\n",
              "      <td>1</td>\n",
              "      <td>42085.58</td>\n",
              "      <td>1</td>\n",
              "    </tr>\n",
              "    <tr>\n",
              "      <th>9998</th>\n",
              "      <td>772</td>\n",
              "      <td>Germany</td>\n",
              "      <td>Male</td>\n",
              "      <td>42</td>\n",
              "      <td>3.0</td>\n",
              "      <td>75075.31</td>\n",
              "      <td>2</td>\n",
              "      <td>1</td>\n",
              "      <td>0</td>\n",
              "      <td>92888.52</td>\n",
              "      <td>1</td>\n",
              "    </tr>\n",
              "  </tbody>\n",
              "</table>\n",
              "</div>"
            ],
            "text/plain": [
              "      creditscore geography  gender  ...  isactivemember  estimatedsalary  exited\n",
              "9994          800    France  Female  ...               0        167773.55       0\n",
              "9995          771    France    Male  ...               0         96270.64       0\n",
              "9996          516    France    Male  ...               1        101699.77       0\n",
              "9997          709    France  Female  ...               1         42085.58       1\n",
              "9998          772   Germany    Male  ...               0         92888.52       1\n",
              "\n",
              "[5 rows x 11 columns]"
            ]
          },
          "metadata": {},
          "execution_count": 138
        }
      ]
    },
    {
      "cell_type": "code",
      "metadata": {
        "colab": {
          "base_uri": "https://localhost:8080/",
          "height": 142
        },
        "id": "39sNB3VifbHr",
        "outputId": "bd1ac7e3-975b-4ed3-da76-e0cc5710f77a"
      },
      "source": [
        "# Create new observations to be used in the model\n",
        "\n",
        "new_features = pd.DataFrame(\n",
        "    [\n",
        "        [750,'Germany','Female',32,7,60000,3,1,1,75000],\n",
        "        [100,'Spain','Male',45,1,0,1,0,0,5000],\n",
        "        [900,'France','Male',40,15, 80000,2,1,0,150000],\n",
        "     \n",
        "    ],\n",
        "    columns=features.columns,\n",
        ")\n",
        "\n",
        "new_features"
      ],
      "execution_count": 139,
      "outputs": [
        {
          "output_type": "execute_result",
          "data": {
            "text/html": [
              "<div>\n",
              "<style scoped>\n",
              "    .dataframe tbody tr th:only-of-type {\n",
              "        vertical-align: middle;\n",
              "    }\n",
              "\n",
              "    .dataframe tbody tr th {\n",
              "        vertical-align: top;\n",
              "    }\n",
              "\n",
              "    .dataframe thead th {\n",
              "        text-align: right;\n",
              "    }\n",
              "</style>\n",
              "<table border=\"1\" class=\"dataframe\">\n",
              "  <thead>\n",
              "    <tr style=\"text-align: right;\">\n",
              "      <th></th>\n",
              "      <th>creditscore</th>\n",
              "      <th>geography</th>\n",
              "      <th>gender</th>\n",
              "      <th>age</th>\n",
              "      <th>tenure</th>\n",
              "      <th>balance</th>\n",
              "      <th>numofproducts</th>\n",
              "      <th>hascrcard</th>\n",
              "      <th>isactivemember</th>\n",
              "      <th>estimatedsalary</th>\n",
              "    </tr>\n",
              "  </thead>\n",
              "  <tbody>\n",
              "    <tr>\n",
              "      <th>0</th>\n",
              "      <td>750</td>\n",
              "      <td>Germany</td>\n",
              "      <td>Female</td>\n",
              "      <td>32</td>\n",
              "      <td>7</td>\n",
              "      <td>60000</td>\n",
              "      <td>3</td>\n",
              "      <td>1</td>\n",
              "      <td>1</td>\n",
              "      <td>75000</td>\n",
              "    </tr>\n",
              "    <tr>\n",
              "      <th>1</th>\n",
              "      <td>100</td>\n",
              "      <td>Spain</td>\n",
              "      <td>Male</td>\n",
              "      <td>45</td>\n",
              "      <td>1</td>\n",
              "      <td>0</td>\n",
              "      <td>1</td>\n",
              "      <td>0</td>\n",
              "      <td>0</td>\n",
              "      <td>5000</td>\n",
              "    </tr>\n",
              "    <tr>\n",
              "      <th>2</th>\n",
              "      <td>900</td>\n",
              "      <td>France</td>\n",
              "      <td>Male</td>\n",
              "      <td>40</td>\n",
              "      <td>15</td>\n",
              "      <td>80000</td>\n",
              "      <td>2</td>\n",
              "      <td>1</td>\n",
              "      <td>0</td>\n",
              "      <td>150000</td>\n",
              "    </tr>\n",
              "  </tbody>\n",
              "</table>\n",
              "</div>"
            ],
            "text/plain": [
              "   creditscore geography  gender  ...  hascrcard  isactivemember  estimatedsalary\n",
              "0          750   Germany  Female  ...          1               1            75000\n",
              "1          100     Spain    Male  ...          0               0             5000\n",
              "2          900    France    Male  ...          1               0           150000\n",
              "\n",
              "[3 rows x 10 columns]"
            ]
          },
          "metadata": {},
          "execution_count": 139
        }
      ]
    },
    {
      "cell_type": "code",
      "metadata": {
        "colab": {
          "base_uri": "https://localhost:8080/"
        },
        "id": "IiWivLZHwtyy",
        "outputId": "6462e5d3-7ffe-47ba-b590-876ac721f6f0"
      },
      "source": [
        "# Predict the target variable using the new observations\n",
        "\n",
        "# Perform variable label encoding\n",
        "new_features_encoded = pd.DataFrame(encoder.fit_transform(new_features), columns=new_features.columns)\n",
        "\n",
        "# Create an instance of the scaler() and tune the instance using data\n",
        "scaler = StandardScaler()\n",
        "scaler.fit(new_features_encoded)\n",
        "\n",
        "# Transform the dataset\n",
        "new_features_scaled = scaler.transform(new_features_encoded)\n",
        "\n",
        "# Obtain model predictions\n",
        "answers = model.predict(new_features_scaled)\n",
        "\n",
        "print(answers)"
      ],
      "execution_count": 140,
      "outputs": [
        {
          "output_type": "stream",
          "name": "stdout",
          "text": [
            "[0. 1. 0.]\n"
          ]
        }
      ]
    },
    {
      "cell_type": "markdown",
      "metadata": {
        "id": "KyP1CEYanybE"
      },
      "source": [
        "### Recommendations"
      ]
    },
    {
      "cell_type": "markdown",
      "metadata": {
        "id": "_qPjW6SZnyzV"
      },
      "source": [
        "The model is fairly accurate and can be adopted by the bank to predict customer exit\n"
      ]
    },
    {
      "cell_type": "markdown",
      "metadata": {
        "id": "tuFamvfoqxKY"
      },
      "source": [
        "## Challenging your Solution"
      ]
    },
    {
      "cell_type": "markdown",
      "metadata": {
        "id": "gTtqMqeicY-7"
      },
      "source": [
        "What if we performed one hot encoding instead of label encoding. Would this improve the model accuracy? Or maybe lead to a different model selection?"
      ]
    },
    {
      "cell_type": "code",
      "metadata": {
        "colab": {
          "base_uri": "https://localhost:8080/",
          "height": 142
        },
        "id": "sVId725mmhe6",
        "outputId": "73eca13c-57a0-447a-d794-48246e31250d"
      },
      "source": [
        "# Preview the dataset\n",
        "\n",
        "bank_df1.head(3)"
      ],
      "execution_count": 141,
      "outputs": [
        {
          "output_type": "execute_result",
          "data": {
            "text/html": [
              "<div>\n",
              "<style scoped>\n",
              "    .dataframe tbody tr th:only-of-type {\n",
              "        vertical-align: middle;\n",
              "    }\n",
              "\n",
              "    .dataframe tbody tr th {\n",
              "        vertical-align: top;\n",
              "    }\n",
              "\n",
              "    .dataframe thead th {\n",
              "        text-align: right;\n",
              "    }\n",
              "</style>\n",
              "<table border=\"1\" class=\"dataframe\">\n",
              "  <thead>\n",
              "    <tr style=\"text-align: right;\">\n",
              "      <th></th>\n",
              "      <th>creditscore</th>\n",
              "      <th>geography</th>\n",
              "      <th>gender</th>\n",
              "      <th>age</th>\n",
              "      <th>tenure</th>\n",
              "      <th>balance</th>\n",
              "      <th>numofproducts</th>\n",
              "      <th>hascrcard</th>\n",
              "      <th>isactivemember</th>\n",
              "      <th>estimatedsalary</th>\n",
              "      <th>exited</th>\n",
              "    </tr>\n",
              "  </thead>\n",
              "  <tbody>\n",
              "    <tr>\n",
              "      <th>0</th>\n",
              "      <td>619</td>\n",
              "      <td>France</td>\n",
              "      <td>Female</td>\n",
              "      <td>42</td>\n",
              "      <td>2.0</td>\n",
              "      <td>0.00</td>\n",
              "      <td>1</td>\n",
              "      <td>1</td>\n",
              "      <td>1</td>\n",
              "      <td>101348.88</td>\n",
              "      <td>1</td>\n",
              "    </tr>\n",
              "    <tr>\n",
              "      <th>1</th>\n",
              "      <td>608</td>\n",
              "      <td>Spain</td>\n",
              "      <td>Female</td>\n",
              "      <td>41</td>\n",
              "      <td>1.0</td>\n",
              "      <td>83807.86</td>\n",
              "      <td>1</td>\n",
              "      <td>0</td>\n",
              "      <td>1</td>\n",
              "      <td>112542.58</td>\n",
              "      <td>0</td>\n",
              "    </tr>\n",
              "    <tr>\n",
              "      <th>2</th>\n",
              "      <td>502</td>\n",
              "      <td>France</td>\n",
              "      <td>Female</td>\n",
              "      <td>42</td>\n",
              "      <td>8.0</td>\n",
              "      <td>159660.80</td>\n",
              "      <td>3</td>\n",
              "      <td>1</td>\n",
              "      <td>0</td>\n",
              "      <td>113931.57</td>\n",
              "      <td>1</td>\n",
              "    </tr>\n",
              "  </tbody>\n",
              "</table>\n",
              "</div>"
            ],
            "text/plain": [
              "   creditscore geography  gender  ...  isactivemember  estimatedsalary  exited\n",
              "0          619    France  Female  ...               1        101348.88       1\n",
              "1          608     Spain  Female  ...               1        112542.58       0\n",
              "2          502    France  Female  ...               0        113931.57       1\n",
              "\n",
              "[3 rows x 11 columns]"
            ]
          },
          "metadata": {},
          "execution_count": 141
        }
      ]
    },
    {
      "cell_type": "markdown",
      "metadata": {
        "id": "tsHzRUCe1tvA"
      },
      "source": [
        "#### One-Hot encoding"
      ]
    },
    {
      "cell_type": "code",
      "metadata": {
        "id": "8XTisZqXKOD9"
      },
      "source": [
        "# One-hot encode the whole dataframe\n",
        "\n",
        "# Call pd.get_dummies() with the drop_first argument to avoid the dummy trap\n",
        "bank_df1_ohe = pd.get_dummies(bank_df1,drop_first= True)\n",
        "\n",
        "# Use the StandardScaler module to standardize the numeric features\n",
        "# Import StandardScaler from the library\n",
        "from sklearn.preprocessing import StandardScaler\n",
        "\n",
        "# Use train_test_split function to split the dataset into training, validation and test datasets in the ratio 3:1:1\n",
        "df_train2, df_valid2= train_test_split(bank_df1_ohe, test_size=0.4,random_state=12345)\n",
        "df_valid2, df_test2= train_test_split(df_valid2, test_size=0.5,random_state=12345)\n",
        "\n",
        "# Declare features and target variables\n",
        "features_train2 = df_train2.drop(['exited'], axis=1)\n",
        "target_train2 = df_train2['exited']\n",
        "features_valid2 = df_valid2.drop(['exited'], axis=1)\n",
        "target_valid2 = df_valid2['exited']\n",
        "features_test2 = df_valid2.drop(['exited'], axis=1)\n",
        "target_test2 = df_valid2['exited']\n",
        "\n",
        "#Create an instance of the StandardScaler() class \n",
        "scaler = StandardScaler()\n",
        "\n",
        "# Tune the instance using data\n",
        "scaler.fit(features_train2)\n",
        "scaler.fit(features_valid2)\n",
        "scaler.fit(features_test2)\n",
        "\n",
        "# Transform the datasets\n",
        "features_train2_ohe_scaled = scaler.transform(features_train2)\n",
        "features_valid2_ohe_scaled = scaler.transform(features_valid2)\n",
        "features_test2_ohe_scaled = scaler.transform(features_test2)"
      ],
      "execution_count": 142,
      "outputs": []
    },
    {
      "cell_type": "code",
      "metadata": {
        "colab": {
          "base_uri": "https://localhost:8080/"
        },
        "id": "S0k4-0T2F2nK",
        "outputId": "948f7c0d-db3f-426f-a3ec-13e7a2db44e8"
      },
      "source": [
        "# Preview the scaled features\n",
        "\n",
        "features_train2_ohe_scaled"
      ],
      "execution_count": 143,
      "outputs": [
        {
          "output_type": "execute_result",
          "data": {
            "text/plain": [
              "array([[ 0.75330041, -1.04449308, -1.04062387, ..., -0.5870899 ,\n",
              "        -0.57184552, -1.09832176],\n",
              "       [-1.20427642, -1.23479107,  0.71369197, ..., -0.5870899 ,\n",
              "        -0.57184552,  0.91048001],\n",
              "       [-0.4521548 ,  0.09729482,  1.4154183 , ..., -0.5870899 ,\n",
              "        -0.57184552,  0.91048001],\n",
              "       ...,\n",
              "       [-1.10124606, -0.94934409,  0.3628288 , ..., -0.5870899 ,\n",
              "        -0.57184552, -1.09832176],\n",
              "       [-1.00851874,  1.23908271,  1.4154183 , ..., -0.5870899 ,\n",
              "        -0.57184552, -1.09832176],\n",
              "       [ 1.16542184, -1.52023804, -1.04062387, ...,  1.70331663,\n",
              "        -0.57184552,  0.91048001]])"
            ]
          },
          "metadata": {},
          "execution_count": 143
        }
      ]
    },
    {
      "cell_type": "code",
      "metadata": {
        "colab": {
          "base_uri": "https://localhost:8080/",
          "height": 439
        },
        "id": "WaXFAAynn9m_",
        "outputId": "1457f90b-f9ff-4d23-e7fa-170dd506fb8c"
      },
      "source": [
        "# Preview the modified table\n",
        "\n",
        "bank_df1_ohe"
      ],
      "execution_count": 144,
      "outputs": [
        {
          "output_type": "execute_result",
          "data": {
            "text/html": [
              "<div>\n",
              "<style scoped>\n",
              "    .dataframe tbody tr th:only-of-type {\n",
              "        vertical-align: middle;\n",
              "    }\n",
              "\n",
              "    .dataframe tbody tr th {\n",
              "        vertical-align: top;\n",
              "    }\n",
              "\n",
              "    .dataframe thead th {\n",
              "        text-align: right;\n",
              "    }\n",
              "</style>\n",
              "<table border=\"1\" class=\"dataframe\">\n",
              "  <thead>\n",
              "    <tr style=\"text-align: right;\">\n",
              "      <th></th>\n",
              "      <th>creditscore</th>\n",
              "      <th>age</th>\n",
              "      <th>tenure</th>\n",
              "      <th>balance</th>\n",
              "      <th>numofproducts</th>\n",
              "      <th>hascrcard</th>\n",
              "      <th>isactivemember</th>\n",
              "      <th>estimatedsalary</th>\n",
              "      <th>exited</th>\n",
              "      <th>geography_Germany</th>\n",
              "      <th>geography_Spain</th>\n",
              "      <th>gender_Male</th>\n",
              "    </tr>\n",
              "  </thead>\n",
              "  <tbody>\n",
              "    <tr>\n",
              "      <th>0</th>\n",
              "      <td>619</td>\n",
              "      <td>42</td>\n",
              "      <td>2.0</td>\n",
              "      <td>0.00</td>\n",
              "      <td>1</td>\n",
              "      <td>1</td>\n",
              "      <td>1</td>\n",
              "      <td>101348.88</td>\n",
              "      <td>1</td>\n",
              "      <td>0</td>\n",
              "      <td>0</td>\n",
              "      <td>0</td>\n",
              "    </tr>\n",
              "    <tr>\n",
              "      <th>1</th>\n",
              "      <td>608</td>\n",
              "      <td>41</td>\n",
              "      <td>1.0</td>\n",
              "      <td>83807.86</td>\n",
              "      <td>1</td>\n",
              "      <td>0</td>\n",
              "      <td>1</td>\n",
              "      <td>112542.58</td>\n",
              "      <td>0</td>\n",
              "      <td>0</td>\n",
              "      <td>1</td>\n",
              "      <td>0</td>\n",
              "    </tr>\n",
              "    <tr>\n",
              "      <th>2</th>\n",
              "      <td>502</td>\n",
              "      <td>42</td>\n",
              "      <td>8.0</td>\n",
              "      <td>159660.80</td>\n",
              "      <td>3</td>\n",
              "      <td>1</td>\n",
              "      <td>0</td>\n",
              "      <td>113931.57</td>\n",
              "      <td>1</td>\n",
              "      <td>0</td>\n",
              "      <td>0</td>\n",
              "      <td>0</td>\n",
              "    </tr>\n",
              "    <tr>\n",
              "      <th>3</th>\n",
              "      <td>699</td>\n",
              "      <td>39</td>\n",
              "      <td>1.0</td>\n",
              "      <td>0.00</td>\n",
              "      <td>2</td>\n",
              "      <td>0</td>\n",
              "      <td>0</td>\n",
              "      <td>93826.63</td>\n",
              "      <td>0</td>\n",
              "      <td>0</td>\n",
              "      <td>0</td>\n",
              "      <td>0</td>\n",
              "    </tr>\n",
              "    <tr>\n",
              "      <th>4</th>\n",
              "      <td>850</td>\n",
              "      <td>43</td>\n",
              "      <td>2.0</td>\n",
              "      <td>125510.82</td>\n",
              "      <td>1</td>\n",
              "      <td>1</td>\n",
              "      <td>1</td>\n",
              "      <td>79084.10</td>\n",
              "      <td>0</td>\n",
              "      <td>0</td>\n",
              "      <td>1</td>\n",
              "      <td>0</td>\n",
              "    </tr>\n",
              "    <tr>\n",
              "      <th>...</th>\n",
              "      <td>...</td>\n",
              "      <td>...</td>\n",
              "      <td>...</td>\n",
              "      <td>...</td>\n",
              "      <td>...</td>\n",
              "      <td>...</td>\n",
              "      <td>...</td>\n",
              "      <td>...</td>\n",
              "      <td>...</td>\n",
              "      <td>...</td>\n",
              "      <td>...</td>\n",
              "      <td>...</td>\n",
              "    </tr>\n",
              "    <tr>\n",
              "      <th>9994</th>\n",
              "      <td>800</td>\n",
              "      <td>29</td>\n",
              "      <td>2.0</td>\n",
              "      <td>0.00</td>\n",
              "      <td>2</td>\n",
              "      <td>0</td>\n",
              "      <td>0</td>\n",
              "      <td>167773.55</td>\n",
              "      <td>0</td>\n",
              "      <td>0</td>\n",
              "      <td>0</td>\n",
              "      <td>0</td>\n",
              "    </tr>\n",
              "    <tr>\n",
              "      <th>9995</th>\n",
              "      <td>771</td>\n",
              "      <td>39</td>\n",
              "      <td>5.0</td>\n",
              "      <td>0.00</td>\n",
              "      <td>2</td>\n",
              "      <td>1</td>\n",
              "      <td>0</td>\n",
              "      <td>96270.64</td>\n",
              "      <td>0</td>\n",
              "      <td>0</td>\n",
              "      <td>0</td>\n",
              "      <td>1</td>\n",
              "    </tr>\n",
              "    <tr>\n",
              "      <th>9996</th>\n",
              "      <td>516</td>\n",
              "      <td>35</td>\n",
              "      <td>10.0</td>\n",
              "      <td>57369.61</td>\n",
              "      <td>1</td>\n",
              "      <td>1</td>\n",
              "      <td>1</td>\n",
              "      <td>101699.77</td>\n",
              "      <td>0</td>\n",
              "      <td>0</td>\n",
              "      <td>0</td>\n",
              "      <td>1</td>\n",
              "    </tr>\n",
              "    <tr>\n",
              "      <th>9997</th>\n",
              "      <td>709</td>\n",
              "      <td>36</td>\n",
              "      <td>7.0</td>\n",
              "      <td>0.00</td>\n",
              "      <td>1</td>\n",
              "      <td>0</td>\n",
              "      <td>1</td>\n",
              "      <td>42085.58</td>\n",
              "      <td>1</td>\n",
              "      <td>0</td>\n",
              "      <td>0</td>\n",
              "      <td>0</td>\n",
              "    </tr>\n",
              "    <tr>\n",
              "      <th>9998</th>\n",
              "      <td>772</td>\n",
              "      <td>42</td>\n",
              "      <td>3.0</td>\n",
              "      <td>75075.31</td>\n",
              "      <td>2</td>\n",
              "      <td>1</td>\n",
              "      <td>0</td>\n",
              "      <td>92888.52</td>\n",
              "      <td>1</td>\n",
              "      <td>1</td>\n",
              "      <td>0</td>\n",
              "      <td>1</td>\n",
              "    </tr>\n",
              "  </tbody>\n",
              "</table>\n",
              "<p>9091 rows × 12 columns</p>\n",
              "</div>"
            ],
            "text/plain": [
              "      creditscore  age  tenure  ...  geography_Germany  geography_Spain  gender_Male\n",
              "0             619   42     2.0  ...                  0                0            0\n",
              "1             608   41     1.0  ...                  0                1            0\n",
              "2             502   42     8.0  ...                  0                0            0\n",
              "3             699   39     1.0  ...                  0                0            0\n",
              "4             850   43     2.0  ...                  0                1            0\n",
              "...           ...  ...     ...  ...                ...              ...          ...\n",
              "9994          800   29     2.0  ...                  0                0            0\n",
              "9995          771   39     5.0  ...                  0                0            1\n",
              "9996          516   35    10.0  ...                  0                0            1\n",
              "9997          709   36     7.0  ...                  0                0            0\n",
              "9998          772   42     3.0  ...                  1                0            1\n",
              "\n",
              "[9091 rows x 12 columns]"
            ]
          },
          "metadata": {},
          "execution_count": 144
        }
      ]
    },
    {
      "cell_type": "markdown",
      "metadata": {
        "id": "j6a7xXIwzEB2"
      },
      "source": [
        "### New model - Hyperparameter tuning and evaluation"
      ]
    },
    {
      "cell_type": "markdown",
      "metadata": {
        "id": "2SMOLo5se7mk"
      },
      "source": [
        "#### Decision tree model"
      ]
    },
    {
      "cell_type": "code",
      "metadata": {
        "colab": {
          "base_uri": "https://localhost:8080/"
        },
        "id": "Vy0hOWwgrVwa",
        "outputId": "d61fcf31-f1d1-4e51-c067-65a383f8eb25"
      },
      "source": [
        "# Use the newly transformed dataset to tune the model hyperparameters\n",
        "\n",
        "# Loop to get F1 scores using different 'max_depth' values\n",
        "\n",
        "for depth in range(1, 21):\n",
        "\n",
        "        # Define the model\n",
        "        model_tree_new = DecisionTreeClassifier(random_state=12345, max_depth=depth) \n",
        "\n",
        "        # Train the model\n",
        "        model_tree_new.fit(features_train2_ohe_scaled, target_train2) \n",
        "\n",
        "        # Predict target for validation dataset\n",
        "        predicted_valid_tree_new = model_tree_new.predict(features_valid2_ohe_scaled) \n",
        "\n",
        "        # Loop through the different depths & # Display model f1 score\n",
        "        print(\"max_depth =\", depth, \": \", end='') \n",
        "        print(f1_score(target_valid2, predicted_valid_tree_new)) "
      ],
      "execution_count": 145,
      "outputs": [
        {
          "output_type": "stream",
          "name": "stdout",
          "text": [
            "max_depth = 1 : 0.0\n",
            "max_depth = 2 : 0.5304878048780488\n",
            "max_depth = 3 : 0.3726708074534161\n",
            "max_depth = 4 : 0.5414551607445008\n",
            "max_depth = 5 : 0.5140712945590994\n",
            "max_depth = 6 : 0.5606837606837607\n",
            "max_depth = 7 : 0.5764331210191083\n",
            "max_depth = 8 : 0.5413290113452188\n",
            "max_depth = 9 : 0.5446153846153846\n",
            "max_depth = 10 : 0.5122699386503068\n",
            "max_depth = 11 : 0.5128205128205129\n",
            "max_depth = 12 : 0.480225988700565\n",
            "max_depth = 13 : 0.4840055632823366\n",
            "max_depth = 14 : 0.48846675712347354\n",
            "max_depth = 15 : 0.47411444141689374\n",
            "max_depth = 16 : 0.4795783926218709\n",
            "max_depth = 17 : 0.48598130841121495\n",
            "max_depth = 18 : 0.4805369127516779\n",
            "max_depth = 19 : 0.4862023653088042\n",
            "max_depth = 20 : 0.47883597883597884\n"
          ]
        }
      ]
    },
    {
      "cell_type": "markdown",
      "metadata": {
        "id": "lwxjKyW4fLy2"
      },
      "source": [
        "#### Random forest classifier model"
      ]
    },
    {
      "cell_type": "code",
      "metadata": {
        "colab": {
          "base_uri": "https://localhost:8080/"
        },
        "id": "7FuaZW56rV-9",
        "outputId": "43fc326a-a1e1-4c57-c5a4-e67bc4e29fa1"
      },
      "source": [
        "# Loop to get F1 score using different 'n_estimators' values\n",
        "\n",
        "for estimator in range(1, 21):\n",
        "\n",
        "        # Define the model\n",
        "        model_forest_new = RandomForestClassifier(random_state=12345, n_estimators=estimator) \n",
        "\n",
        "        # Train the model\n",
        "        model_forest_new.fit(features_train2_ohe_scaled, target_train2) \n",
        "\n",
        "        # Predict target for validation dataset\n",
        "        predicted_valid_forest_new = model_forest_new.predict(features_valid2_ohe_scaled) \n",
        "\n",
        "        # Loop through the different number of estimators & # Display model f1 score\n",
        "        print(\"n_estimators =\", estimator, \": \", end='') \n",
        "        print(f1_score(target_valid2, predicted_valid_forest_new)) "
      ],
      "execution_count": 146,
      "outputs": [
        {
          "output_type": "stream",
          "name": "stdout",
          "text": [
            "n_estimators = 1 : 0.47925033467202144\n",
            "n_estimators = 2 : 0.3818181818181818\n",
            "n_estimators = 3 : 0.526610644257703\n",
            "n_estimators = 4 : 0.49146757679180886\n",
            "n_estimators = 5 : 0.5357142857142858\n",
            "n_estimators = 6 : 0.5378151260504201\n",
            "n_estimators = 7 : 0.553323029366306\n",
            "n_estimators = 8 : 0.533106960950764\n",
            "n_estimators = 9 : 0.57984496124031\n",
            "n_estimators = 10 : 0.5451505016722408\n",
            "n_estimators = 11 : 0.5922480620155038\n",
            "n_estimators = 12 : 0.5723577235772358\n",
            "n_estimators = 13 : 0.6071987480438185\n",
            "n_estimators = 14 : 0.5840130505709624\n",
            "n_estimators = 15 : 0.5971563981042655\n",
            "n_estimators = 16 : 0.5853658536585366\n",
            "n_estimators = 17 : 0.5933014354066986\n",
            "n_estimators = 18 : 0.570957095709571\n",
            "n_estimators = 19 : 0.5891719745222931\n",
            "n_estimators = 20 : 0.5723684210526316\n"
          ]
        }
      ]
    },
    {
      "cell_type": "markdown",
      "metadata": {
        "id": "j6dGxT-_fmv6"
      },
      "source": [
        "#### Logistic regression model"
      ]
    },
    {
      "cell_type": "code",
      "metadata": {
        "colab": {
          "base_uri": "https://localhost:8080/"
        },
        "id": "K_Q75EKTwSCf",
        "outputId": "bafdd432-8785-4fac-f6bd-cc9e6de8b362"
      },
      "source": [
        "# Get F1 score for the logistic regression model\n",
        "\n",
        "# Define the model\n",
        "model_regression_new = LogisticRegression(random_state=12345, solver='liblinear') \n",
        "\n",
        "# Train the model\n",
        "model_regression_new.fit(features_train2_ohe_scaled, target_train2) \n",
        "\n",
        "# Predict target for validation dataset\n",
        "predicted_valid_regression_new = model_regression_new.predict(features_valid2_ohe_scaled) \n",
        "\n",
        " # Display model f1 score\n",
        "print(f1_score(target_valid2, predicted_valid_regression_new))"
      ],
      "execution_count": 147,
      "outputs": [
        {
          "output_type": "stream",
          "name": "stdout",
          "text": [
            "0.3033932135728543\n"
          ]
        }
      ]
    },
    {
      "cell_type": "markdown",
      "metadata": {
        "id": "fHkPXoB7qxcQ"
      },
      "source": [
        "### Findings\n",
        "\n",
        "Encoding the features using the 'One Hote Encoding' method has led to differences in the F1 scores across the 3 model:\n",
        "1. Decision tree model: From 0.551 with max_depth = 5, to 0.576, with max_depth = 7\n",
        "2. Random forest model: From 0.575 with n_estimators = 19, to 0.607, with n_estimators = 13\n",
        "3. Logistic regression model: From 0.479 to 0.303"
      ]
    },
    {
      "cell_type": "code",
      "metadata": {
        "colab": {
          "base_uri": "https://localhost:8080/"
        },
        "id": "xIAP-9u5LHXu",
        "outputId": "836ba2a6-0035-426d-f374-6a1d36e48deb"
      },
      "source": [
        "# Get F1 score of the best performing model using the test dataset\n",
        "\n",
        "# Define the model\n",
        "model2 = RandomForestClassifier(random_state=12345, n_estimators=13) \n",
        "\n",
        "# Train the model\n",
        "model2.fit(features_train2_ohe_scaled, target_train2) \n",
        "\n",
        "# Predict target for test dataset\n",
        "predicted_test2 = model2.predict(features_test2_ohe_scaled) \n",
        "\n",
        "# Display model f1 score\n",
        "print(f1_score(target_test2, predicted_test2)) "
      ],
      "execution_count": 148,
      "outputs": [
        {
          "output_type": "stream",
          "name": "stdout",
          "text": [
            "0.6071987480438185\n"
          ]
        }
      ]
    },
    {
      "cell_type": "markdown",
      "metadata": {
        "id": "SUca8E8wMk7u"
      },
      "source": [
        "The F1 score of the new best performing model 'RandomForestClassifier(random_state=12345, n_estimators=13)', in test dataset increased from 0.575 to 0.607"
      ]
    },
    {
      "cell_type": "markdown",
      "metadata": {
        "id": "s9lWSNtAqno8"
      },
      "source": [
        "Let us now train the best performing model using the whole dataset and observe the changes in the prediction for new features. Will they be similar with the previous findings?"
      ]
    },
    {
      "cell_type": "code",
      "metadata": {
        "colab": {
          "base_uri": "https://localhost:8080/"
        },
        "id": "oG9KabVqpRCu",
        "outputId": "0b5059cc-9628-4ccc-ce75-5d99b8a1a4be"
      },
      "source": [
        "# Training the new best performing model using the whole train dataset for higher accuracy\n",
        "\n",
        "# Declare features and target variables\n",
        "features2 = bank_df1_ohe.drop(['exited'], axis=1)\n",
        "target2 = bank_df1_ohe['exited']\n",
        "\n",
        "# Tune the instance using data\n",
        "scaler.fit(features2)\n",
        "\n",
        "# Transform the datasets\n",
        "features2_ohe_scaled = scaler.transform(features2)\n",
        "\n",
        "# Define the model\n",
        "model2 = RandomForestClassifier(random_state=12345, n_estimators=13) \n",
        "\n",
        "# Train the model\n",
        "model2.fit(features2_ohe_scaled, target2) \n",
        "\n",
        "# Predict target for the entire dataset\n",
        "predicted2 = model2.predict(features2_ohe_scaled) \n",
        "\n",
        "# Display model f1 score\n",
        "print(f1_score(target2, predicted2)) "
      ],
      "execution_count": 59,
      "outputs": [
        {
          "output_type": "stream",
          "name": "stdout",
          "text": [
            "0.98417894162575\n"
          ]
        }
      ]
    },
    {
      "cell_type": "code",
      "metadata": {
        "colab": {
          "base_uri": "https://localhost:8080/"
        },
        "id": "-7vv8gSG0m0U",
        "outputId": "ed78c96a-9900-4bee-91c9-74044a8c4fb5"
      },
      "source": [
        "# Predict the target variable using the new observations\n",
        "\n",
        "# Perform variable one hot encoding\n",
        "new_features_ohe = pd.get_dummies(new_features,drop_first= True)\n",
        "\n",
        "# Create an instance of the scaler() and tune the instance using the new dataset\n",
        "scaler = StandardScaler()\n",
        "scaler.fit(new_features_ohe)\n",
        "\n",
        "# Transform the dataset\n",
        "new_features_ohe_scaled = scaler.transform(new_features_ohe)\n",
        "\n",
        "# Obtain model predictions\n",
        "answers2 = model2.predict(new_features_ohe_scaled)\n",
        "\n",
        "# Display the predictiond on the screen\n",
        "print(answers)\n",
        "print(answers2)"
      ],
      "execution_count": 149,
      "outputs": [
        {
          "output_type": "stream",
          "name": "stdout",
          "text": [
            "[0. 1. 0.]\n",
            "[0 1 0]\n"
          ]
        }
      ]
    },
    {
      "cell_type": "markdown",
      "metadata": {
        "id": "qxX1xqpUqyku"
      },
      "source": [
        "### Summary\n",
        "* While the F1 scores of the 2 best performing models i.e 'RandomForestClassifier(random_state=12345, n_estimators=19)' and 'RandomForestClassifier(random_state=12345, n_estimators=13)' in test dataset increased from 0.575 to 0.607 after one-hot encoding, the predictions on the 3 new features are the same for both models\n",
        "\n",
        "* The company can adopt either models with preference for the second model which has a higher F1 score"
      ]
    },
    {
      "cell_type": "markdown",
      "metadata": {
        "id": "0Wq8JmVjwZIT"
      },
      "source": [
        "## 7. Follow up questions"
      ]
    },
    {
      "cell_type": "markdown",
      "metadata": {
        "id": "osSj5jemwZSe"
      },
      "source": [
        "### a). Did we have the right data?"
      ]
    },
    {
      "cell_type": "markdown",
      "metadata": {
        "id": "vX6o5SRSwZcC"
      },
      "source": [
        "Yes"
      ]
    },
    {
      "cell_type": "markdown",
      "metadata": {
        "id": "5DtAzHEBwZ41"
      },
      "source": [
        "### b). Do we need other data to answer our question?"
      ]
    },
    {
      "cell_type": "markdown",
      "metadata": {
        "id": "zjyL6HAlwnPF"
      },
      "source": [
        "No"
      ]
    },
    {
      "cell_type": "markdown",
      "metadata": {
        "id": "XhjHmTsPwnfY"
      },
      "source": [
        "### c). Did we have the right question?"
      ]
    },
    {
      "cell_type": "markdown",
      "metadata": {
        "id": "3Q6VapCaw4gu"
      },
      "source": [
        "Yes we did"
      ]
    }
  ]
}