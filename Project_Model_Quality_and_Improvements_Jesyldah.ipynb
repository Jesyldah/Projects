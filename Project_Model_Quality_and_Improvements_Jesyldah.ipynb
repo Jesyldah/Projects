{
  "nbformat": 4,
  "nbformat_minor": 0,
  "metadata": {
    "colab": {
      "name": "Project Model Quality and Improvements Jesyldah.ipynb",
      "provenance": [],
      "collapsed_sections": [],
      "toc_visible": true,
      "authorship_tag": "ABX9TyOU7y9ug7It1J7G8l+XsGRi",
      "include_colab_link": true
    },
    "kernelspec": {
      "name": "python3",
      "display_name": "Python 3"
    },
    "language_info": {
      "name": "python"
    }
  },
  "cells": [
    {
      "cell_type": "markdown",
      "metadata": {
        "id": "view-in-github",
        "colab_type": "text"
      },
      "source": [
        "<a href=\"https://colab.research.google.com/github/Jesyldah/Projects/blob/main/Project_Model_Quality_and_Improvements_Jesyldah.ipynb\" target=\"_parent\"><img src=\"https://colab.research.google.com/assets/colab-badge.svg\" alt=\"Open In Colab\"/></a>"
      ]
    },
    {
      "cell_type": "markdown",
      "metadata": {
        "id": "5rsuJFNzL2_i"
      },
      "source": [
        "# Model Quality and Improvements Project"
      ]
    },
    {
      "cell_type": "markdown",
      "metadata": {
        "id": "80rRdHccL9Kb"
      },
      "source": [
        "## 1. Defining the Question\n"
      ]
    },
    {
      "cell_type": "markdown",
      "metadata": {
        "id": "i738ch8vL9X6"
      },
      "source": [
        "### a) Specifying the Data Analysis Question"
      ]
    },
    {
      "cell_type": "markdown",
      "metadata": {
        "id": "Kjfl9wpBOT79"
      },
      "source": [
        "Predict whether a patient will be diagnosed with diabetes"
      ]
    },
    {
      "cell_type": "markdown",
      "metadata": {
        "id": "pEB73eSyL9bf"
      },
      "source": [
        "### b) Defining the Metric for Success"
      ]
    },
    {
      "cell_type": "markdown",
      "metadata": {
        "id": "X0D_yIhZObOU"
      },
      "source": [
        "The analysis question will be answered by providing a model that predicts whether a patient will be diagnosed with diabetes.The model needs to have an accuracy score greater than 0.85."
      ]
    },
    {
      "cell_type": "markdown",
      "metadata": {
        "id": "NjcidHqjL9fX"
      },
      "source": [
        "### c) Understanding the context "
      ]
    },
    {
      "cell_type": "markdown",
      "metadata": {
        "id": "yShyG_a0L9j_"
      },
      "source": [
        "As a data professional working for a pharmaceutical company, you need to develop a model that predicts whether a patient will be diagnosed with diabetes. \n",
        "\n",
        "\n"
      ]
    },
    {
      "cell_type": "markdown",
      "metadata": {
        "id": "avtlmOoXL9vv"
      },
      "source": [
        "### d) Recording the Experimental Design"
      ]
    },
    {
      "cell_type": "markdown",
      "metadata": {
        "id": "IP4ITpvoL97t"
      },
      "source": [
        "1. Reading in the data from the source so that it is available for analysis\n",
        "2. Explore the data in order to understand the structure of the data\n",
        "3. Prepare the data for analysis:\n",
        "* Checking for and handling missing values\n",
        "* Finding and removing duplicate records\n",
        "* Deleting null columns & rows\n",
        "* Renaming columns\n",
        "* Checking for uniformity of data in the columns, correcting errors in values and datatypes\n",
        "4. Modeling\n",
        "* Define and train the model\n",
        "* Hyparameter Tuning\n",
        "* Make predictions using the model\n",
        "5. Model Evaluation\n",
        "6. Findings and Recommendations\n",
        "\n"
      ]
    },
    {
      "cell_type": "markdown",
      "metadata": {
        "id": "ibxQ6tl5PyxA"
      },
      "source": [
        "### e) Data Relevance"
      ]
    },
    {
      "cell_type": "markdown",
      "metadata": {
        "id": "nCY15xMIPzMB"
      },
      "source": [
        "The dataset includes patient information that is relevant in answering the research question\n"
      ]
    },
    {
      "cell_type": "markdown",
      "metadata": {
        "id": "-on4OF1VPzX6"
      },
      "source": [
        "## 2. Reading the Data"
      ]
    },
    {
      "cell_type": "code",
      "metadata": {
        "id": "Ktyc8nZoQQRI"
      },
      "source": [
        "# Importing our libraries\n",
        "\n",
        "import pandas as pd\n",
        "\n",
        "import numpy as np"
      ],
      "execution_count": 1,
      "outputs": []
    },
    {
      "cell_type": "code",
      "metadata": {
        "id": "1PlwTmH0QQkk"
      },
      "source": [
        "# Load the dataset\n",
        "\n",
        "# Dataset url = https://bit.ly/DiabetesDS\n",
        "diabetes_df = pd.read_csv('https://bit.ly/DiabetesDS')"
      ],
      "execution_count": 2,
      "outputs": []
    },
    {
      "cell_type": "code",
      "metadata": {
        "colab": {
          "base_uri": "https://localhost:8080/",
          "height": 204
        },
        "id": "oVI0vTP0QQy4",
        "outputId": "0139bec3-e866-4f7d-8844-9376f3cab29f"
      },
      "source": [
        "# Checking the first 5 rows of data\n",
        "diabetes_df.head()"
      ],
      "execution_count": 3,
      "outputs": [
        {
          "output_type": "execute_result",
          "data": {
            "text/html": [
              "<div>\n",
              "<style scoped>\n",
              "    .dataframe tbody tr th:only-of-type {\n",
              "        vertical-align: middle;\n",
              "    }\n",
              "\n",
              "    .dataframe tbody tr th {\n",
              "        vertical-align: top;\n",
              "    }\n",
              "\n",
              "    .dataframe thead th {\n",
              "        text-align: right;\n",
              "    }\n",
              "</style>\n",
              "<table border=\"1\" class=\"dataframe\">\n",
              "  <thead>\n",
              "    <tr style=\"text-align: right;\">\n",
              "      <th></th>\n",
              "      <th>Pregnancies</th>\n",
              "      <th>Glucose</th>\n",
              "      <th>BloodPressure</th>\n",
              "      <th>SkinThickness</th>\n",
              "      <th>Insulin</th>\n",
              "      <th>BMI</th>\n",
              "      <th>DiabetesPedigreeFunction</th>\n",
              "      <th>Age</th>\n",
              "      <th>Outcome</th>\n",
              "    </tr>\n",
              "  </thead>\n",
              "  <tbody>\n",
              "    <tr>\n",
              "      <th>0</th>\n",
              "      <td>6</td>\n",
              "      <td>148</td>\n",
              "      <td>72</td>\n",
              "      <td>35</td>\n",
              "      <td>0</td>\n",
              "      <td>33.6</td>\n",
              "      <td>0.627</td>\n",
              "      <td>50</td>\n",
              "      <td>1</td>\n",
              "    </tr>\n",
              "    <tr>\n",
              "      <th>1</th>\n",
              "      <td>1</td>\n",
              "      <td>85</td>\n",
              "      <td>66</td>\n",
              "      <td>29</td>\n",
              "      <td>0</td>\n",
              "      <td>26.6</td>\n",
              "      <td>0.351</td>\n",
              "      <td>31</td>\n",
              "      <td>0</td>\n",
              "    </tr>\n",
              "    <tr>\n",
              "      <th>2</th>\n",
              "      <td>8</td>\n",
              "      <td>183</td>\n",
              "      <td>64</td>\n",
              "      <td>0</td>\n",
              "      <td>0</td>\n",
              "      <td>23.3</td>\n",
              "      <td>0.672</td>\n",
              "      <td>32</td>\n",
              "      <td>1</td>\n",
              "    </tr>\n",
              "    <tr>\n",
              "      <th>3</th>\n",
              "      <td>1</td>\n",
              "      <td>89</td>\n",
              "      <td>66</td>\n",
              "      <td>23</td>\n",
              "      <td>94</td>\n",
              "      <td>28.1</td>\n",
              "      <td>0.167</td>\n",
              "      <td>21</td>\n",
              "      <td>0</td>\n",
              "    </tr>\n",
              "    <tr>\n",
              "      <th>4</th>\n",
              "      <td>0</td>\n",
              "      <td>137</td>\n",
              "      <td>40</td>\n",
              "      <td>35</td>\n",
              "      <td>168</td>\n",
              "      <td>43.1</td>\n",
              "      <td>2.288</td>\n",
              "      <td>33</td>\n",
              "      <td>1</td>\n",
              "    </tr>\n",
              "  </tbody>\n",
              "</table>\n",
              "</div>"
            ],
            "text/plain": [
              "   Pregnancies  Glucose  BloodPressure  ...  DiabetesPedigreeFunction  Age  Outcome\n",
              "0            6      148             72  ...                     0.627   50        1\n",
              "1            1       85             66  ...                     0.351   31        0\n",
              "2            8      183             64  ...                     0.672   32        1\n",
              "3            1       89             66  ...                     0.167   21        0\n",
              "4            0      137             40  ...                     2.288   33        1\n",
              "\n",
              "[5 rows x 9 columns]"
            ]
          },
          "metadata": {},
          "execution_count": 3
        }
      ]
    },
    {
      "cell_type": "code",
      "metadata": {
        "colab": {
          "base_uri": "https://localhost:8080/",
          "height": 204
        },
        "id": "llxGXXw6QQ8h",
        "outputId": "32b26d81-4fd0-4f1a-b87a-66b874b7ffa5"
      },
      "source": [
        "# Checking the last 5 rows of data\n",
        "diabetes_df.tail()"
      ],
      "execution_count": 4,
      "outputs": [
        {
          "output_type": "execute_result",
          "data": {
            "text/html": [
              "<div>\n",
              "<style scoped>\n",
              "    .dataframe tbody tr th:only-of-type {\n",
              "        vertical-align: middle;\n",
              "    }\n",
              "\n",
              "    .dataframe tbody tr th {\n",
              "        vertical-align: top;\n",
              "    }\n",
              "\n",
              "    .dataframe thead th {\n",
              "        text-align: right;\n",
              "    }\n",
              "</style>\n",
              "<table border=\"1\" class=\"dataframe\">\n",
              "  <thead>\n",
              "    <tr style=\"text-align: right;\">\n",
              "      <th></th>\n",
              "      <th>Pregnancies</th>\n",
              "      <th>Glucose</th>\n",
              "      <th>BloodPressure</th>\n",
              "      <th>SkinThickness</th>\n",
              "      <th>Insulin</th>\n",
              "      <th>BMI</th>\n",
              "      <th>DiabetesPedigreeFunction</th>\n",
              "      <th>Age</th>\n",
              "      <th>Outcome</th>\n",
              "    </tr>\n",
              "  </thead>\n",
              "  <tbody>\n",
              "    <tr>\n",
              "      <th>763</th>\n",
              "      <td>10</td>\n",
              "      <td>101</td>\n",
              "      <td>76</td>\n",
              "      <td>48</td>\n",
              "      <td>180</td>\n",
              "      <td>32.9</td>\n",
              "      <td>0.171</td>\n",
              "      <td>63</td>\n",
              "      <td>0</td>\n",
              "    </tr>\n",
              "    <tr>\n",
              "      <th>764</th>\n",
              "      <td>2</td>\n",
              "      <td>122</td>\n",
              "      <td>70</td>\n",
              "      <td>27</td>\n",
              "      <td>0</td>\n",
              "      <td>36.8</td>\n",
              "      <td>0.340</td>\n",
              "      <td>27</td>\n",
              "      <td>0</td>\n",
              "    </tr>\n",
              "    <tr>\n",
              "      <th>765</th>\n",
              "      <td>5</td>\n",
              "      <td>121</td>\n",
              "      <td>72</td>\n",
              "      <td>23</td>\n",
              "      <td>112</td>\n",
              "      <td>26.2</td>\n",
              "      <td>0.245</td>\n",
              "      <td>30</td>\n",
              "      <td>0</td>\n",
              "    </tr>\n",
              "    <tr>\n",
              "      <th>766</th>\n",
              "      <td>1</td>\n",
              "      <td>126</td>\n",
              "      <td>60</td>\n",
              "      <td>0</td>\n",
              "      <td>0</td>\n",
              "      <td>30.1</td>\n",
              "      <td>0.349</td>\n",
              "      <td>47</td>\n",
              "      <td>1</td>\n",
              "    </tr>\n",
              "    <tr>\n",
              "      <th>767</th>\n",
              "      <td>1</td>\n",
              "      <td>93</td>\n",
              "      <td>70</td>\n",
              "      <td>31</td>\n",
              "      <td>0</td>\n",
              "      <td>30.4</td>\n",
              "      <td>0.315</td>\n",
              "      <td>23</td>\n",
              "      <td>0</td>\n",
              "    </tr>\n",
              "  </tbody>\n",
              "</table>\n",
              "</div>"
            ],
            "text/plain": [
              "     Pregnancies  Glucose  ...  Age  Outcome\n",
              "763           10      101  ...   63        0\n",
              "764            2      122  ...   27        0\n",
              "765            5      121  ...   30        0\n",
              "766            1      126  ...   47        1\n",
              "767            1       93  ...   23        0\n",
              "\n",
              "[5 rows x 9 columns]"
            ]
          },
          "metadata": {},
          "execution_count": 4
        }
      ]
    },
    {
      "cell_type": "code",
      "metadata": {
        "colab": {
          "base_uri": "https://localhost:8080/"
        },
        "id": "-MkjLwaNQRH1",
        "outputId": "f4898722-3b04-4a95-8e09-f5b979484208"
      },
      "source": [
        "# Determine the size of the dataset\n",
        "diabetes_df.shape"
      ],
      "execution_count": 5,
      "outputs": [
        {
          "output_type": "execute_result",
          "data": {
            "text/plain": [
              "(768, 9)"
            ]
          },
          "metadata": {},
          "execution_count": 5
        }
      ]
    },
    {
      "cell_type": "code",
      "metadata": {
        "colab": {
          "base_uri": "https://localhost:8080/"
        },
        "id": "_x4ce0XURCLZ",
        "outputId": "e76cee5f-ba4b-4e36-c8af-2526bb45c01b"
      },
      "source": [
        "# Checking datatypes\n",
        "diabetes_df.dtypes"
      ],
      "execution_count": 6,
      "outputs": [
        {
          "output_type": "execute_result",
          "data": {
            "text/plain": [
              "Pregnancies                   int64\n",
              "Glucose                       int64\n",
              "BloodPressure                 int64\n",
              "SkinThickness                 int64\n",
              "Insulin                       int64\n",
              "BMI                         float64\n",
              "DiabetesPedigreeFunction    float64\n",
              "Age                           int64\n",
              "Outcome                       int64\n",
              "dtype: object"
            ]
          },
          "metadata": {},
          "execution_count": 6
        }
      ]
    },
    {
      "cell_type": "code",
      "metadata": {
        "colab": {
          "base_uri": "https://localhost:8080/"
        },
        "id": "N82wUBC8RCRd",
        "outputId": "bde40b85-bf2d-4865-e72b-6e3174e09199"
      },
      "source": [
        "# View the features in the dataset\n",
        "diabetes_df.columns"
      ],
      "execution_count": 7,
      "outputs": [
        {
          "output_type": "execute_result",
          "data": {
            "text/plain": [
              "Index(['Pregnancies', 'Glucose', 'BloodPressure', 'SkinThickness', 'Insulin',\n",
              "       'BMI', 'DiabetesPedigreeFunction', 'Age', 'Outcome'],\n",
              "      dtype='object')"
            ]
          },
          "metadata": {},
          "execution_count": 7
        }
      ]
    },
    {
      "cell_type": "markdown",
      "metadata": {
        "id": "_CDgx9HMPzio"
      },
      "source": [
        "The dataset provided has a total of 768 observations and 9 variables. The variables are:\n",
        "* Pregnancies: Number of times pregnant\n",
        "* Glucose: Plasma glucose concentration over 2 hours in an oral glucose tolerance test\n",
        "* BloodPressure: Diastolic blood pressure (mm Hg)\n",
        "* SkinThickness: Triceps skin fold thickness (mm)\n",
        "* Insulin: 2-Hour serum insulin (mu U/ml)\n",
        "* BMI: Body mass index (weight in kg/(height in m)2)\n",
        "* DiabetesPedigreeFunction: Diabetes pedigree function (a function which scores likelihood of diabetes based on family history)\n",
        "* Age: Age (years)\n",
        "* Outcome: Class variable (0 if non-diabetic, 1 if diabetic)"
      ]
    },
    {
      "cell_type": "markdown",
      "metadata": {
        "id": "-q3ITOo5Pzsk"
      },
      "source": [
        "## 3. External Data Source Validation"
      ]
    },
    {
      "cell_type": "markdown",
      "metadata": {
        "id": "9TzIdLSePz8-"
      },
      "source": [
        "The data was collected and made available by “National Institute of Diabetes and Digestive and Kidney Diseases” as part of the Pima Indians Diabetes Database,therefore valid for this analysis"
      ]
    },
    {
      "cell_type": "markdown",
      "metadata": {
        "id": "S55bkB9aUvy7"
      },
      "source": [
        "## 4. Data Preparation"
      ]
    },
    {
      "cell_type": "markdown",
      "metadata": {
        "id": "lpwFiEGhUwjW"
      },
      "source": [
        "### Performing Data Cleaning"
      ]
    },
    {
      "cell_type": "code",
      "metadata": {
        "colab": {
          "base_uri": "https://localhost:8080/"
        },
        "id": "_T36kqcEU46G",
        "outputId": "c921be90-e177-466d-8c57-448258c6e13f"
      },
      "source": [
        "# Standardize column names - remove whitespaces and convert to lowercase\n",
        "diabetes_df.columns = diabetes_df.columns.str.strip().str.lower()\n",
        "list(diabetes_df.columns)"
      ],
      "execution_count": 8,
      "outputs": [
        {
          "output_type": "execute_result",
          "data": {
            "text/plain": [
              "['pregnancies',\n",
              " 'glucose',\n",
              " 'bloodpressure',\n",
              " 'skinthickness',\n",
              " 'insulin',\n",
              " 'bmi',\n",
              " 'diabetespedigreefunction',\n",
              " 'age',\n",
              " 'outcome']"
            ]
          },
          "metadata": {},
          "execution_count": 8
        }
      ]
    },
    {
      "cell_type": "code",
      "metadata": {
        "colab": {
          "base_uri": "https://localhost:8080/"
        },
        "id": "npauCDu5U5Bj",
        "outputId": "1446b505-d7fd-41d1-8824-951f61916ff7"
      },
      "source": [
        "# Checking for duplicate rows in the dataset\n",
        "\n",
        "sum(diabetes_df.duplicated())"
      ],
      "execution_count": 9,
      "outputs": [
        {
          "output_type": "execute_result",
          "data": {
            "text/plain": [
              "0"
            ]
          },
          "metadata": {},
          "execution_count": 9
        }
      ]
    },
    {
      "cell_type": "code",
      "metadata": {
        "colab": {
          "base_uri": "https://localhost:8080/"
        },
        "id": "XHW1-8CiU5LP",
        "outputId": "236791c5-0cef-4d03-8f96-e75ead6b87e1"
      },
      "source": [
        "# Checking if any of the columns are all null\n",
        "\n",
        "diabetes_df.isnull().all(1).any()"
      ],
      "execution_count": 10,
      "outputs": [
        {
          "output_type": "execute_result",
          "data": {
            "text/plain": [
              "False"
            ]
          },
          "metadata": {},
          "execution_count": 10
        }
      ]
    },
    {
      "cell_type": "code",
      "metadata": {
        "colab": {
          "base_uri": "https://localhost:8080/"
        },
        "id": "uulpcexvU5Rp",
        "outputId": "864eba80-37c2-4df6-bfea-c78fd5062eca"
      },
      "source": [
        "# Checking if any of the rows are all null\n",
        "\n",
        "diabetes_df.isnull().all(0).any()"
      ],
      "execution_count": 11,
      "outputs": [
        {
          "output_type": "execute_result",
          "data": {
            "text/plain": [
              "False"
            ]
          },
          "metadata": {},
          "execution_count": 11
        }
      ]
    },
    {
      "cell_type": "code",
      "metadata": {
        "colab": {
          "base_uri": "https://localhost:8080/"
        },
        "id": "dbb4JiccaYL8",
        "outputId": "0bad7e12-be9d-4ae5-ad4c-91480fbafba2"
      },
      "source": [
        "# Check for missing values\n",
        "\n",
        "print(diabetes_df.isnull().values.any())\n",
        "\n",
        "diabetes_df.isnull().sum()"
      ],
      "execution_count": 12,
      "outputs": [
        {
          "output_type": "stream",
          "name": "stdout",
          "text": [
            "False\n"
          ]
        },
        {
          "output_type": "execute_result",
          "data": {
            "text/plain": [
              "pregnancies                 0\n",
              "glucose                     0\n",
              "bloodpressure               0\n",
              "skinthickness               0\n",
              "insulin                     0\n",
              "bmi                         0\n",
              "diabetespedigreefunction    0\n",
              "age                         0\n",
              "outcome                     0\n",
              "dtype: int64"
            ]
          },
          "metadata": {},
          "execution_count": 12
        }
      ]
    },
    {
      "cell_type": "code",
      "metadata": {
        "colab": {
          "base_uri": "https://localhost:8080/",
          "height": 317
        },
        "id": "Et4QPN3sXY0E",
        "outputId": "f55b169e-6438-47f6-9079-261b541f8901"
      },
      "source": [
        "# Obtain summary statistics for the dataset\n",
        "\n",
        "diabetes_df.describe()"
      ],
      "execution_count": 13,
      "outputs": [
        {
          "output_type": "execute_result",
          "data": {
            "text/html": [
              "<div>\n",
              "<style scoped>\n",
              "    .dataframe tbody tr th:only-of-type {\n",
              "        vertical-align: middle;\n",
              "    }\n",
              "\n",
              "    .dataframe tbody tr th {\n",
              "        vertical-align: top;\n",
              "    }\n",
              "\n",
              "    .dataframe thead th {\n",
              "        text-align: right;\n",
              "    }\n",
              "</style>\n",
              "<table border=\"1\" class=\"dataframe\">\n",
              "  <thead>\n",
              "    <tr style=\"text-align: right;\">\n",
              "      <th></th>\n",
              "      <th>pregnancies</th>\n",
              "      <th>glucose</th>\n",
              "      <th>bloodpressure</th>\n",
              "      <th>skinthickness</th>\n",
              "      <th>insulin</th>\n",
              "      <th>bmi</th>\n",
              "      <th>diabetespedigreefunction</th>\n",
              "      <th>age</th>\n",
              "      <th>outcome</th>\n",
              "    </tr>\n",
              "  </thead>\n",
              "  <tbody>\n",
              "    <tr>\n",
              "      <th>count</th>\n",
              "      <td>768.000000</td>\n",
              "      <td>768.000000</td>\n",
              "      <td>768.000000</td>\n",
              "      <td>768.000000</td>\n",
              "      <td>768.000000</td>\n",
              "      <td>768.000000</td>\n",
              "      <td>768.000000</td>\n",
              "      <td>768.000000</td>\n",
              "      <td>768.000000</td>\n",
              "    </tr>\n",
              "    <tr>\n",
              "      <th>mean</th>\n",
              "      <td>3.845052</td>\n",
              "      <td>120.894531</td>\n",
              "      <td>69.105469</td>\n",
              "      <td>20.536458</td>\n",
              "      <td>79.799479</td>\n",
              "      <td>31.992578</td>\n",
              "      <td>0.471876</td>\n",
              "      <td>33.240885</td>\n",
              "      <td>0.348958</td>\n",
              "    </tr>\n",
              "    <tr>\n",
              "      <th>std</th>\n",
              "      <td>3.369578</td>\n",
              "      <td>31.972618</td>\n",
              "      <td>19.355807</td>\n",
              "      <td>15.952218</td>\n",
              "      <td>115.244002</td>\n",
              "      <td>7.884160</td>\n",
              "      <td>0.331329</td>\n",
              "      <td>11.760232</td>\n",
              "      <td>0.476951</td>\n",
              "    </tr>\n",
              "    <tr>\n",
              "      <th>min</th>\n",
              "      <td>0.000000</td>\n",
              "      <td>0.000000</td>\n",
              "      <td>0.000000</td>\n",
              "      <td>0.000000</td>\n",
              "      <td>0.000000</td>\n",
              "      <td>0.000000</td>\n",
              "      <td>0.078000</td>\n",
              "      <td>21.000000</td>\n",
              "      <td>0.000000</td>\n",
              "    </tr>\n",
              "    <tr>\n",
              "      <th>25%</th>\n",
              "      <td>1.000000</td>\n",
              "      <td>99.000000</td>\n",
              "      <td>62.000000</td>\n",
              "      <td>0.000000</td>\n",
              "      <td>0.000000</td>\n",
              "      <td>27.300000</td>\n",
              "      <td>0.243750</td>\n",
              "      <td>24.000000</td>\n",
              "      <td>0.000000</td>\n",
              "    </tr>\n",
              "    <tr>\n",
              "      <th>50%</th>\n",
              "      <td>3.000000</td>\n",
              "      <td>117.000000</td>\n",
              "      <td>72.000000</td>\n",
              "      <td>23.000000</td>\n",
              "      <td>30.500000</td>\n",
              "      <td>32.000000</td>\n",
              "      <td>0.372500</td>\n",
              "      <td>29.000000</td>\n",
              "      <td>0.000000</td>\n",
              "    </tr>\n",
              "    <tr>\n",
              "      <th>75%</th>\n",
              "      <td>6.000000</td>\n",
              "      <td>140.250000</td>\n",
              "      <td>80.000000</td>\n",
              "      <td>32.000000</td>\n",
              "      <td>127.250000</td>\n",
              "      <td>36.600000</td>\n",
              "      <td>0.626250</td>\n",
              "      <td>41.000000</td>\n",
              "      <td>1.000000</td>\n",
              "    </tr>\n",
              "    <tr>\n",
              "      <th>max</th>\n",
              "      <td>17.000000</td>\n",
              "      <td>199.000000</td>\n",
              "      <td>122.000000</td>\n",
              "      <td>99.000000</td>\n",
              "      <td>846.000000</td>\n",
              "      <td>67.100000</td>\n",
              "      <td>2.420000</td>\n",
              "      <td>81.000000</td>\n",
              "      <td>1.000000</td>\n",
              "    </tr>\n",
              "  </tbody>\n",
              "</table>\n",
              "</div>"
            ],
            "text/plain": [
              "       pregnancies     glucose  ...         age     outcome\n",
              "count   768.000000  768.000000  ...  768.000000  768.000000\n",
              "mean      3.845052  120.894531  ...   33.240885    0.348958\n",
              "std       3.369578   31.972618  ...   11.760232    0.476951\n",
              "min       0.000000    0.000000  ...   21.000000    0.000000\n",
              "25%       1.000000   99.000000  ...   24.000000    0.000000\n",
              "50%       3.000000  117.000000  ...   29.000000    0.000000\n",
              "75%       6.000000  140.250000  ...   41.000000    1.000000\n",
              "max      17.000000  199.000000  ...   81.000000    1.000000\n",
              "\n",
              "[8 rows x 9 columns]"
            ]
          },
          "metadata": {},
          "execution_count": 13
        }
      ]
    },
    {
      "cell_type": "markdown",
      "metadata": {
        "id": "hkpDaViNliQo"
      },
      "source": [
        "## 5. Solution Implementation"
      ]
    },
    {
      "cell_type": "markdown",
      "metadata": {
        "id": "aMybVMRRlqpK"
      },
      "source": [
        "### Data Preparation"
      ]
    },
    {
      "cell_type": "markdown",
      "metadata": {
        "id": "siwF0DtXAKNr"
      },
      "source": [
        "Some variables contain 0 as the data value, which is unsual. We can replace these values with the mean of the variables"
      ]
    },
    {
      "cell_type": "code",
      "metadata": {
        "colab": {
          "base_uri": "https://localhost:8080/",
          "height": 317
        },
        "id": "QkwXia5ocRH3",
        "outputId": "bef93158-eca7-4e73-9c0e-b20745e68950"
      },
      "source": [
        "# Replacing 0 values with the mean value.\n",
        "diabetes_df.loc[diabetes_df['glucose'] == 0, 'glucose'] = 120.89\n",
        "diabetes_df.loc[diabetes_df['bloodpressure'] == 0, 'bloodpressure'] = 69.11\n",
        "diabetes_df.loc[diabetes_df['skinthickness'] == 0, 'skinthickness'] = 20.54\n",
        "diabetes_df.loc[diabetes_df['insulin'] == 0, 'insulin'] = 79.80\n",
        "diabetes_df.loc[diabetes_df['bmi'] == 0, 'bmi'] = 32.0\n",
        "\n",
        "diabetes_df.describe()\n"
      ],
      "execution_count": 14,
      "outputs": [
        {
          "output_type": "execute_result",
          "data": {
            "text/html": [
              "<div>\n",
              "<style scoped>\n",
              "    .dataframe tbody tr th:only-of-type {\n",
              "        vertical-align: middle;\n",
              "    }\n",
              "\n",
              "    .dataframe tbody tr th {\n",
              "        vertical-align: top;\n",
              "    }\n",
              "\n",
              "    .dataframe thead th {\n",
              "        text-align: right;\n",
              "    }\n",
              "</style>\n",
              "<table border=\"1\" class=\"dataframe\">\n",
              "  <thead>\n",
              "    <tr style=\"text-align: right;\">\n",
              "      <th></th>\n",
              "      <th>pregnancies</th>\n",
              "      <th>glucose</th>\n",
              "      <th>bloodpressure</th>\n",
              "      <th>skinthickness</th>\n",
              "      <th>insulin</th>\n",
              "      <th>bmi</th>\n",
              "      <th>diabetespedigreefunction</th>\n",
              "      <th>age</th>\n",
              "      <th>outcome</th>\n",
              "    </tr>\n",
              "  </thead>\n",
              "  <tbody>\n",
              "    <tr>\n",
              "      <th>count</th>\n",
              "      <td>768.000000</td>\n",
              "      <td>768.000000</td>\n",
              "      <td>768.000000</td>\n",
              "      <td>768.000000</td>\n",
              "      <td>768.000000</td>\n",
              "      <td>768.000000</td>\n",
              "      <td>768.000000</td>\n",
              "      <td>768.000000</td>\n",
              "      <td>768.000000</td>\n",
              "    </tr>\n",
              "    <tr>\n",
              "      <th>mean</th>\n",
              "      <td>3.845052</td>\n",
              "      <td>121.681576</td>\n",
              "      <td>72.255013</td>\n",
              "      <td>26.607526</td>\n",
              "      <td>118.660417</td>\n",
              "      <td>32.450911</td>\n",
              "      <td>0.471876</td>\n",
              "      <td>33.240885</td>\n",
              "      <td>0.348958</td>\n",
              "    </tr>\n",
              "    <tr>\n",
              "      <th>std</th>\n",
              "      <td>3.369578</td>\n",
              "      <td>30.436016</td>\n",
              "      <td>12.115878</td>\n",
              "      <td>9.630580</td>\n",
              "      <td>93.080252</td>\n",
              "      <td>6.875366</td>\n",
              "      <td>0.331329</td>\n",
              "      <td>11.760232</td>\n",
              "      <td>0.476951</td>\n",
              "    </tr>\n",
              "    <tr>\n",
              "      <th>min</th>\n",
              "      <td>0.000000</td>\n",
              "      <td>44.000000</td>\n",
              "      <td>24.000000</td>\n",
              "      <td>7.000000</td>\n",
              "      <td>14.000000</td>\n",
              "      <td>18.200000</td>\n",
              "      <td>0.078000</td>\n",
              "      <td>21.000000</td>\n",
              "      <td>0.000000</td>\n",
              "    </tr>\n",
              "    <tr>\n",
              "      <th>25%</th>\n",
              "      <td>1.000000</td>\n",
              "      <td>99.750000</td>\n",
              "      <td>64.000000</td>\n",
              "      <td>20.540000</td>\n",
              "      <td>79.800000</td>\n",
              "      <td>27.500000</td>\n",
              "      <td>0.243750</td>\n",
              "      <td>24.000000</td>\n",
              "      <td>0.000000</td>\n",
              "    </tr>\n",
              "    <tr>\n",
              "      <th>50%</th>\n",
              "      <td>3.000000</td>\n",
              "      <td>117.000000</td>\n",
              "      <td>72.000000</td>\n",
              "      <td>23.000000</td>\n",
              "      <td>79.800000</td>\n",
              "      <td>32.000000</td>\n",
              "      <td>0.372500</td>\n",
              "      <td>29.000000</td>\n",
              "      <td>0.000000</td>\n",
              "    </tr>\n",
              "    <tr>\n",
              "      <th>75%</th>\n",
              "      <td>6.000000</td>\n",
              "      <td>140.250000</td>\n",
              "      <td>80.000000</td>\n",
              "      <td>32.000000</td>\n",
              "      <td>127.250000</td>\n",
              "      <td>36.600000</td>\n",
              "      <td>0.626250</td>\n",
              "      <td>41.000000</td>\n",
              "      <td>1.000000</td>\n",
              "    </tr>\n",
              "    <tr>\n",
              "      <th>max</th>\n",
              "      <td>17.000000</td>\n",
              "      <td>199.000000</td>\n",
              "      <td>122.000000</td>\n",
              "      <td>99.000000</td>\n",
              "      <td>846.000000</td>\n",
              "      <td>67.100000</td>\n",
              "      <td>2.420000</td>\n",
              "      <td>81.000000</td>\n",
              "      <td>1.000000</td>\n",
              "    </tr>\n",
              "  </tbody>\n",
              "</table>\n",
              "</div>"
            ],
            "text/plain": [
              "       pregnancies     glucose  ...         age     outcome\n",
              "count   768.000000  768.000000  ...  768.000000  768.000000\n",
              "mean      3.845052  121.681576  ...   33.240885    0.348958\n",
              "std       3.369578   30.436016  ...   11.760232    0.476951\n",
              "min       0.000000   44.000000  ...   21.000000    0.000000\n",
              "25%       1.000000   99.750000  ...   24.000000    0.000000\n",
              "50%       3.000000  117.000000  ...   29.000000    0.000000\n",
              "75%       6.000000  140.250000  ...   41.000000    1.000000\n",
              "max      17.000000  199.000000  ...   81.000000    1.000000\n",
              "\n",
              "[8 rows x 9 columns]"
            ]
          },
          "metadata": {},
          "execution_count": 14
        }
      ]
    },
    {
      "cell_type": "markdown",
      "metadata": {
        "id": "__XlzGEMmpXV"
      },
      "source": [
        "### Defining and training the modelling"
      ]
    },
    {
      "cell_type": "markdown",
      "metadata": {
        "id": "Kc6XmtHRdb_I"
      },
      "source": [
        "#### Datasets, features and target selection"
      ]
    },
    {
      "cell_type": "code",
      "metadata": {
        "id": "y9pcRVfDdnD7"
      },
      "source": [
        "# Split the dataset into training and validation datasets\n",
        "\n",
        "# Import train_test_split from the sklearn.model_selection module\n",
        "from sklearn.model_selection import train_test_split\n",
        "\n",
        "# Split the dataset into train data and validation data\n",
        "df_train, df_valid = train_test_split(diabetes_df, test_size=0.25, random_state=12345)\n",
        "\n",
        "# Declare features and target variables\n",
        "features_train = df_train.drop(['outcome'], axis=1)\n",
        "target_train = df_train['outcome']\n",
        "features_valid = df_valid.drop(['outcome'], axis=1)\n",
        "target_valid = df_valid['outcome']"
      ],
      "execution_count": 15,
      "outputs": []
    },
    {
      "cell_type": "markdown",
      "metadata": {
        "id": "4ktSfO3xwIFy"
      },
      "source": [
        "### Hyperprameter tuning"
      ]
    },
    {
      "cell_type": "markdown",
      "metadata": {
        "id": "FNBvvz9Dm7YW"
      },
      "source": [
        "#### Decision tree classifier  model"
      ]
    },
    {
      "cell_type": "code",
      "metadata": {
        "colab": {
          "base_uri": "https://localhost:8080/"
        },
        "id": "RbaxZQ2PBwNT",
        "outputId": "22eb4c44-5f22-4767-a7b9-226c6332ad8c"
      },
      "source": [
        "# import decision tree from the sklearn library\n",
        "from sklearn.tree import DecisionTreeClassifier\n",
        "\n",
        "# Loop over the 'max_depth' hyperparameter to determine the one with highest accuracy score\n",
        "for depth in range(1, 11):\n",
        "        model1 = DecisionTreeClassifier(random_state=12345, max_depth=depth) # Define the model\n",
        "\n",
        "        model1.fit(features_train, target_train) # Train the model\n",
        "\n",
        "        print(\"max_depth =\", depth, \": \", end='') # Loop through the different depths\n",
        "        print(model1.score(features_valid, target_valid)) # Display the accuracies"
      ],
      "execution_count": 16,
      "outputs": [
        {
          "output_type": "stream",
          "name": "stdout",
          "text": [
            "max_depth = 1 : 0.7708333333333334\n",
            "max_depth = 2 : 0.7708333333333334\n",
            "max_depth = 3 : 0.7604166666666666\n",
            "max_depth = 4 : 0.7395833333333334\n",
            "max_depth = 5 : 0.7708333333333334\n",
            "max_depth = 6 : 0.78125\n",
            "max_depth = 7 : 0.7708333333333334\n",
            "max_depth = 8 : 0.7552083333333334\n",
            "max_depth = 9 : 0.7552083333333334\n",
            "max_depth = 10 : 0.7552083333333334\n"
          ]
        }
      ]
    },
    {
      "cell_type": "markdown",
      "metadata": {
        "id": "AI-p_I2QDi4y"
      },
      "source": [
        "#### Random Forest"
      ]
    },
    {
      "cell_type": "code",
      "metadata": {
        "colab": {
          "base_uri": "https://localhost:8080/"
        },
        "id": "XJCrcpSci3hH",
        "outputId": "602ad84f-1da4-46bb-d1d1-9f355f14ad7c"
      },
      "source": [
        "# import random forest classifier from the sklearn library\n",
        "from sklearn.ensemble import RandomForestClassifier\n",
        "\n",
        "# Loop over the 'n_estimators' hyperparameter to determine the one with highest accuracy score\n",
        "for estimator in range(1, 11):\n",
        "        model2 = RandomForestClassifier(random_state=12345, n_estimators=estimator) # Define the model\n",
        "\n",
        "        model2.fit(features_train, target_train) # Train the model\n",
        "\n",
        "        print(\"n_estimators =\", estimator, \": \", end='') # Loop through the different number of estimators\n",
        "        print(model2.score(features_valid, target_valid)) # Display the accuracies"
      ],
      "execution_count": 17,
      "outputs": [
        {
          "output_type": "stream",
          "name": "stdout",
          "text": [
            "n_estimators = 1 : 0.7447916666666666\n",
            "n_estimators = 2 : 0.734375\n",
            "n_estimators = 3 : 0.7083333333333334\n",
            "n_estimators = 4 : 0.7395833333333334\n",
            "n_estimators = 5 : 0.7291666666666666\n",
            "n_estimators = 6 : 0.765625\n",
            "n_estimators = 7 : 0.7552083333333334\n",
            "n_estimators = 8 : 0.7760416666666666\n",
            "n_estimators = 9 : 0.7760416666666666\n",
            "n_estimators = 10 : 0.8072916666666666\n"
          ]
        }
      ]
    },
    {
      "cell_type": "markdown",
      "metadata": {
        "id": "g6-wkMFZEMMJ"
      },
      "source": [
        "#### Logistic Regression)"
      ]
    },
    {
      "cell_type": "code",
      "metadata": {
        "colab": {
          "base_uri": "https://localhost:8080/"
        },
        "id": "FqjdWFHeEQml",
        "outputId": "3e75fa9f-4ae2-490e-c969-47e13bdd5a82"
      },
      "source": [
        "# import logistic regression from the sklearn library\n",
        "from sklearn.linear_model import LogisticRegression\n",
        "\n",
        "model3 = LogisticRegression(random_state=12345, solver='liblinear') # Define the model\n",
        "\n",
        "model3.fit(features_train, target_train) # Train the model\n",
        "\n",
        "print(model3.score(features_valid, target_valid)) # Display model accuracy"
      ],
      "execution_count": 18,
      "outputs": [
        {
          "output_type": "stream",
          "name": "stdout",
          "text": [
            "0.7916666666666666\n"
          ]
        }
      ]
    },
    {
      "cell_type": "markdown",
      "metadata": {
        "id": "yQx-Il1qk418"
      },
      "source": [
        "#### Model selection"
      ]
    },
    {
      "cell_type": "markdown",
      "metadata": {
        "id": "pKHHNeUuik8l"
      },
      "source": [
        "The random forest classifier model, with n_estimators = 10  attained the highest accuracy score of 0.81 on the validation dataset , and 0.98 when trained using the whole data set. This will therefore be adopted as the final model"
      ]
    },
    {
      "cell_type": "code",
      "metadata": {
        "colab": {
          "base_uri": "https://localhost:8080/"
        },
        "id": "YVRsjAnyhhJO",
        "outputId": "c2f8411b-5102-4c9f-f8fc-ee3c8492e7ca"
      },
      "source": [
        "# Training the best performing model using the whole train dataset for higher accuracy\n",
        "\n",
        "# Declare features and target variables\n",
        "features = diabetes_df.drop(['outcome'], axis=1)\n",
        "target = diabetes_df['outcome']\n",
        "\n",
        "model = RandomForestClassifier(random_state=12345, n_estimators=10) # Define the model\n",
        "\n",
        "model.fit(features, target) # Train the model\n",
        "\n",
        "print(model.score(features, target)) # Display model accuracy"
      ],
      "execution_count": 21,
      "outputs": [
        {
          "output_type": "stream",
          "name": "stdout",
          "text": [
            "0.9817708333333334\n"
          ]
        }
      ]
    },
    {
      "cell_type": "markdown",
      "metadata": {
        "id": "kSZ5MLv5nJqr"
      },
      "source": [
        "### Prediction using the trained model"
      ]
    },
    {
      "cell_type": "code",
      "metadata": {
        "colab": {
          "base_uri": "https://localhost:8080/",
          "height": 80
        },
        "id": "6PbW572MlaE-",
        "outputId": "04824e33-7a59-4586-cf1c-ede0d0b4cbc6"
      },
      "source": [
        "# Preview the dataset\n",
        "diabetes_df.sample()"
      ],
      "execution_count": 22,
      "outputs": [
        {
          "output_type": "execute_result",
          "data": {
            "text/html": [
              "<div>\n",
              "<style scoped>\n",
              "    .dataframe tbody tr th:only-of-type {\n",
              "        vertical-align: middle;\n",
              "    }\n",
              "\n",
              "    .dataframe tbody tr th {\n",
              "        vertical-align: top;\n",
              "    }\n",
              "\n",
              "    .dataframe thead th {\n",
              "        text-align: right;\n",
              "    }\n",
              "</style>\n",
              "<table border=\"1\" class=\"dataframe\">\n",
              "  <thead>\n",
              "    <tr style=\"text-align: right;\">\n",
              "      <th></th>\n",
              "      <th>pregnancies</th>\n",
              "      <th>glucose</th>\n",
              "      <th>bloodpressure</th>\n",
              "      <th>skinthickness</th>\n",
              "      <th>insulin</th>\n",
              "      <th>bmi</th>\n",
              "      <th>diabetespedigreefunction</th>\n",
              "      <th>age</th>\n",
              "      <th>outcome</th>\n",
              "    </tr>\n",
              "  </thead>\n",
              "  <tbody>\n",
              "    <tr>\n",
              "      <th>167</th>\n",
              "      <td>4</td>\n",
              "      <td>120.0</td>\n",
              "      <td>68.0</td>\n",
              "      <td>20.54</td>\n",
              "      <td>79.8</td>\n",
              "      <td>29.6</td>\n",
              "      <td>0.709</td>\n",
              "      <td>34</td>\n",
              "      <td>0</td>\n",
              "    </tr>\n",
              "  </tbody>\n",
              "</table>\n",
              "</div>"
            ],
            "text/plain": [
              "     pregnancies  glucose  ...  age  outcome\n",
              "167            4    120.0  ...   34        0\n",
              "\n",
              "[1 rows x 9 columns]"
            ]
          },
          "metadata": {},
          "execution_count": 22
        }
      ]
    },
    {
      "cell_type": "code",
      "metadata": {
        "colab": {
          "base_uri": "https://localhost:8080/",
          "height": 142
        },
        "id": "39sNB3VifbHr",
        "outputId": "3a2c7eaa-b844-4883-aabf-109529c4cda5"
      },
      "source": [
        "# Create new observations to be used in the model\n",
        "new_features = pd.DataFrame(\n",
        "    [\n",
        "        [1, 100, 80, 21, 85, 30, 0.65, 28],\n",
        "        [3, 115, 85, 23, 75, 25, 0.68, 35],\n",
        "        [0, 140, 78, 22, 80, 35, 0.72, 25],\n",
        "     \n",
        "    ],\n",
        "    columns=features.columns,\n",
        ")\n",
        "\n",
        "new_features"
      ],
      "execution_count": 27,
      "outputs": [
        {
          "output_type": "execute_result",
          "data": {
            "text/html": [
              "<div>\n",
              "<style scoped>\n",
              "    .dataframe tbody tr th:only-of-type {\n",
              "        vertical-align: middle;\n",
              "    }\n",
              "\n",
              "    .dataframe tbody tr th {\n",
              "        vertical-align: top;\n",
              "    }\n",
              "\n",
              "    .dataframe thead th {\n",
              "        text-align: right;\n",
              "    }\n",
              "</style>\n",
              "<table border=\"1\" class=\"dataframe\">\n",
              "  <thead>\n",
              "    <tr style=\"text-align: right;\">\n",
              "      <th></th>\n",
              "      <th>pregnancies</th>\n",
              "      <th>glucose</th>\n",
              "      <th>bloodpressure</th>\n",
              "      <th>skinthickness</th>\n",
              "      <th>insulin</th>\n",
              "      <th>bmi</th>\n",
              "      <th>diabetespedigreefunction</th>\n",
              "      <th>age</th>\n",
              "    </tr>\n",
              "  </thead>\n",
              "  <tbody>\n",
              "    <tr>\n",
              "      <th>0</th>\n",
              "      <td>1</td>\n",
              "      <td>100</td>\n",
              "      <td>80</td>\n",
              "      <td>21</td>\n",
              "      <td>85</td>\n",
              "      <td>30</td>\n",
              "      <td>0.65</td>\n",
              "      <td>28</td>\n",
              "    </tr>\n",
              "    <tr>\n",
              "      <th>1</th>\n",
              "      <td>3</td>\n",
              "      <td>115</td>\n",
              "      <td>85</td>\n",
              "      <td>23</td>\n",
              "      <td>75</td>\n",
              "      <td>25</td>\n",
              "      <td>0.68</td>\n",
              "      <td>35</td>\n",
              "    </tr>\n",
              "    <tr>\n",
              "      <th>2</th>\n",
              "      <td>0</td>\n",
              "      <td>140</td>\n",
              "      <td>78</td>\n",
              "      <td>22</td>\n",
              "      <td>80</td>\n",
              "      <td>35</td>\n",
              "      <td>0.72</td>\n",
              "      <td>25</td>\n",
              "    </tr>\n",
              "  </tbody>\n",
              "</table>\n",
              "</div>"
            ],
            "text/plain": [
              "   pregnancies  glucose  bloodpressure  ...  bmi  diabetespedigreefunction  age\n",
              "0            1      100             80  ...   30                      0.65   28\n",
              "1            3      115             85  ...   25                      0.68   35\n",
              "2            0      140             78  ...   35                      0.72   25\n",
              "\n",
              "[3 rows x 8 columns]"
            ]
          },
          "metadata": {},
          "execution_count": 27
        }
      ]
    },
    {
      "cell_type": "code",
      "metadata": {
        "colab": {
          "base_uri": "https://localhost:8080/"
        },
        "id": "3_hnNF-vfbQJ",
        "outputId": "84815b5b-f7e1-4bbd-9126-b32eea473cd4"
      },
      "source": [
        "# Predict the target variable using the new observations\n",
        "answers = model.predict(new_features)\n",
        "\n",
        "print(answers)"
      ],
      "execution_count": 28,
      "outputs": [
        {
          "output_type": "stream",
          "name": "stdout",
          "text": [
            "[0 0 1]\n"
          ]
        }
      ]
    },
    {
      "cell_type": "markdown",
      "metadata": {
        "id": "KyP1CEYanybE"
      },
      "source": [
        "### Recommendations"
      ]
    },
    {
      "cell_type": "markdown",
      "metadata": {
        "id": "_qPjW6SZnyzV"
      },
      "source": [
        "1. The company can adopt the model that will predict whether a patient will be diagnosed with diabetes using the following patient information: 'pregnancies', 'glucose', 'bloodpressure',\n",
        " 'skinthickness', 'insulin', 'bmi', 'diabetespedigreefunction',\n",
        " 'age',\n",
        "2. The company will need to collect and maintain accurate and updated patient data to use the model. Most patients had 0 data values which could be erronous and affect the model accuracy\n",
        "3. Since the data used to train the model only included females of ages 21 and above, is it advisable that the company applies the model to only patients who fall under this category. A more generalized model should be trained with diverse data values - include all patients; male or female, young and old\n"
      ]
    },
    {
      "cell_type": "markdown",
      "metadata": {
        "id": "tuFamvfoqxKY"
      },
      "source": [
        "## Challenging your Solution"
      ]
    },
    {
      "cell_type": "markdown",
      "metadata": {
        "id": "gTtqMqeicY-7"
      },
      "source": [
        "What if instead of imputing the 0 data values with the mean of the variable, we drop those observations from the dataset. Will this improve the model accuracy?"
      ]
    },
    {
      "cell_type": "code",
      "metadata": {
        "colab": {
          "base_uri": "https://localhost:8080/"
        },
        "id": "8XTisZqXKOD9",
        "outputId": "a753bcd8-7b3a-4b6d-e320-05153825fa59"
      },
      "source": [
        "# Import the dataset\n",
        "diabetes_df2 = pd.read_csv('https://bit.ly/DiabetesDS')\n",
        "\n",
        "# get names of indexes for which the variables have 0 as the data value\n",
        "index_names = diabetes_df2[ (diabetes_df2['Glucose'] == 0) | (diabetes_df2['BloodPressure'] == 0) | \n",
        "                          (diabetes_df2['SkinThickness'] == 0) | (diabetes_df2['Insulin'] == 0) | (diabetes_df2['BMI'] == 0)].index\n",
        "  \n",
        "# drop these given row indices from dataFrame\n",
        "diabetes_df2.drop(index_names, inplace = True)\n",
        "  \n",
        "diabetes_df2.shape"
      ],
      "execution_count": 36,
      "outputs": [
        {
          "output_type": "execute_result",
          "data": {
            "text/plain": [
              "(392, 9)"
            ]
          },
          "metadata": {},
          "execution_count": 36
        }
      ]
    },
    {
      "cell_type": "code",
      "metadata": {
        "colab": {
          "base_uri": "https://localhost:8080/",
          "height": 317
        },
        "id": "W25cT5M2c5Li",
        "outputId": "e200fc64-c29b-462f-ee88-4f2e8ea88056"
      },
      "source": [
        "diabetes_df2.describe()"
      ],
      "execution_count": 37,
      "outputs": [
        {
          "output_type": "execute_result",
          "data": {
            "text/html": [
              "<div>\n",
              "<style scoped>\n",
              "    .dataframe tbody tr th:only-of-type {\n",
              "        vertical-align: middle;\n",
              "    }\n",
              "\n",
              "    .dataframe tbody tr th {\n",
              "        vertical-align: top;\n",
              "    }\n",
              "\n",
              "    .dataframe thead th {\n",
              "        text-align: right;\n",
              "    }\n",
              "</style>\n",
              "<table border=\"1\" class=\"dataframe\">\n",
              "  <thead>\n",
              "    <tr style=\"text-align: right;\">\n",
              "      <th></th>\n",
              "      <th>Pregnancies</th>\n",
              "      <th>Glucose</th>\n",
              "      <th>BloodPressure</th>\n",
              "      <th>SkinThickness</th>\n",
              "      <th>Insulin</th>\n",
              "      <th>BMI</th>\n",
              "      <th>DiabetesPedigreeFunction</th>\n",
              "      <th>Age</th>\n",
              "      <th>Outcome</th>\n",
              "    </tr>\n",
              "  </thead>\n",
              "  <tbody>\n",
              "    <tr>\n",
              "      <th>count</th>\n",
              "      <td>392.000000</td>\n",
              "      <td>392.000000</td>\n",
              "      <td>392.000000</td>\n",
              "      <td>392.000000</td>\n",
              "      <td>392.000000</td>\n",
              "      <td>392.000000</td>\n",
              "      <td>392.000000</td>\n",
              "      <td>392.000000</td>\n",
              "      <td>392.000000</td>\n",
              "    </tr>\n",
              "    <tr>\n",
              "      <th>mean</th>\n",
              "      <td>3.301020</td>\n",
              "      <td>122.627551</td>\n",
              "      <td>70.663265</td>\n",
              "      <td>29.145408</td>\n",
              "      <td>156.056122</td>\n",
              "      <td>33.086224</td>\n",
              "      <td>0.523046</td>\n",
              "      <td>30.864796</td>\n",
              "      <td>0.331633</td>\n",
              "    </tr>\n",
              "    <tr>\n",
              "      <th>std</th>\n",
              "      <td>3.211424</td>\n",
              "      <td>30.860781</td>\n",
              "      <td>12.496092</td>\n",
              "      <td>10.516424</td>\n",
              "      <td>118.841690</td>\n",
              "      <td>7.027659</td>\n",
              "      <td>0.345488</td>\n",
              "      <td>10.200777</td>\n",
              "      <td>0.471401</td>\n",
              "    </tr>\n",
              "    <tr>\n",
              "      <th>min</th>\n",
              "      <td>0.000000</td>\n",
              "      <td>56.000000</td>\n",
              "      <td>24.000000</td>\n",
              "      <td>7.000000</td>\n",
              "      <td>14.000000</td>\n",
              "      <td>18.200000</td>\n",
              "      <td>0.085000</td>\n",
              "      <td>21.000000</td>\n",
              "      <td>0.000000</td>\n",
              "    </tr>\n",
              "    <tr>\n",
              "      <th>25%</th>\n",
              "      <td>1.000000</td>\n",
              "      <td>99.000000</td>\n",
              "      <td>62.000000</td>\n",
              "      <td>21.000000</td>\n",
              "      <td>76.750000</td>\n",
              "      <td>28.400000</td>\n",
              "      <td>0.269750</td>\n",
              "      <td>23.000000</td>\n",
              "      <td>0.000000</td>\n",
              "    </tr>\n",
              "    <tr>\n",
              "      <th>50%</th>\n",
              "      <td>2.000000</td>\n",
              "      <td>119.000000</td>\n",
              "      <td>70.000000</td>\n",
              "      <td>29.000000</td>\n",
              "      <td>125.500000</td>\n",
              "      <td>33.200000</td>\n",
              "      <td>0.449500</td>\n",
              "      <td>27.000000</td>\n",
              "      <td>0.000000</td>\n",
              "    </tr>\n",
              "    <tr>\n",
              "      <th>75%</th>\n",
              "      <td>5.000000</td>\n",
              "      <td>143.000000</td>\n",
              "      <td>78.000000</td>\n",
              "      <td>37.000000</td>\n",
              "      <td>190.000000</td>\n",
              "      <td>37.100000</td>\n",
              "      <td>0.687000</td>\n",
              "      <td>36.000000</td>\n",
              "      <td>1.000000</td>\n",
              "    </tr>\n",
              "    <tr>\n",
              "      <th>max</th>\n",
              "      <td>17.000000</td>\n",
              "      <td>198.000000</td>\n",
              "      <td>110.000000</td>\n",
              "      <td>63.000000</td>\n",
              "      <td>846.000000</td>\n",
              "      <td>67.100000</td>\n",
              "      <td>2.420000</td>\n",
              "      <td>81.000000</td>\n",
              "      <td>1.000000</td>\n",
              "    </tr>\n",
              "  </tbody>\n",
              "</table>\n",
              "</div>"
            ],
            "text/plain": [
              "       Pregnancies     Glucose  ...         Age     Outcome\n",
              "count   392.000000  392.000000  ...  392.000000  392.000000\n",
              "mean      3.301020  122.627551  ...   30.864796    0.331633\n",
              "std       3.211424   30.860781  ...   10.200777    0.471401\n",
              "min       0.000000   56.000000  ...   21.000000    0.000000\n",
              "25%       1.000000   99.000000  ...   23.000000    0.000000\n",
              "50%       2.000000  119.000000  ...   27.000000    0.000000\n",
              "75%       5.000000  143.000000  ...   36.000000    1.000000\n",
              "max      17.000000  198.000000  ...   81.000000    1.000000\n",
              "\n",
              "[8 rows x 9 columns]"
            ]
          },
          "metadata": {},
          "execution_count": 37
        }
      ]
    },
    {
      "cell_type": "markdown",
      "metadata": {
        "id": "4VzTCjU5y1sH"
      },
      "source": [
        "Define datasets, features and the target variable"
      ]
    },
    {
      "cell_type": "code",
      "metadata": {
        "id": "Rzg2DsbxrVqR"
      },
      "source": [
        "# Import train_test_split from the sklearn.model_selection module\n",
        "from sklearn.model_selection import train_test_split\n",
        "\n",
        "# Split the dataset into train data and validation data\n",
        "df_train2, df_valid2 = train_test_split(diabetes_df2, test_size=0.25, random_state=12345)\n",
        "\n",
        "# Declare features and target variables\n",
        "features_train2 = df_train2.drop(['Outcome'], axis=1)\n",
        "target_train2 = df_train2['Outcome']\n",
        "features_valid2 = df_valid2.drop(['Outcome'], axis=1)\n",
        "target_valid2 = df_valid2['Outcome']"
      ],
      "execution_count": 39,
      "outputs": []
    },
    {
      "cell_type": "markdown",
      "metadata": {
        "id": "j6a7xXIwzEB2"
      },
      "source": [
        "### New model - Hyperparameter tuning and evaluation"
      ]
    },
    {
      "cell_type": "markdown",
      "metadata": {
        "id": "2SMOLo5se7mk"
      },
      "source": [
        "#### Decision tree model"
      ]
    },
    {
      "cell_type": "code",
      "metadata": {
        "colab": {
          "base_uri": "https://localhost:8080/"
        },
        "id": "Vy0hOWwgrVwa",
        "outputId": "8e8280d5-ebe5-4438-e6be-e44ee929dd35"
      },
      "source": [
        "for depth in range(1, 11):\n",
        "        model11 = DecisionTreeClassifier(random_state=12345, max_depth=depth) # Define the model\n",
        "\n",
        "        model11.fit(features_train2, target_train2) # Train the model\n",
        "\n",
        "        print(\"max_depth =\", depth, \": \", end='') # Loop through the different depths\n",
        "        print(model11.score(features_valid2, target_valid2)) # Display the accuracies"
      ],
      "execution_count": 40,
      "outputs": [
        {
          "output_type": "stream",
          "name": "stdout",
          "text": [
            "max_depth = 1 : 0.7346938775510204\n",
            "max_depth = 2 : 0.7653061224489796\n",
            "max_depth = 3 : 0.7857142857142857\n",
            "max_depth = 4 : 0.7142857142857143\n",
            "max_depth = 5 : 0.8061224489795918\n",
            "max_depth = 6 : 0.7448979591836735\n",
            "max_depth = 7 : 0.7755102040816326\n",
            "max_depth = 8 : 0.7551020408163265\n",
            "max_depth = 9 : 0.7857142857142857\n",
            "max_depth = 10 : 0.7653061224489796\n"
          ]
        }
      ]
    },
    {
      "cell_type": "markdown",
      "metadata": {
        "id": "lwxjKyW4fLy2"
      },
      "source": [
        "#### Random forest classifier model"
      ]
    },
    {
      "cell_type": "code",
      "metadata": {
        "colab": {
          "base_uri": "https://localhost:8080/"
        },
        "id": "7FuaZW56rV-9",
        "outputId": "6a80e918-a8c5-4ce8-e82e-d7a9a9fbab08"
      },
      "source": [
        "for estimator in range(1, 11):\n",
        "        model22 = RandomForestClassifier(random_state=12345, n_estimators=estimator) # Define the model\n",
        "\n",
        "        model22.fit(features_train2, target_train2) # Train the model\n",
        "\n",
        "        print(\"n_estimators =\", estimator, \": \", end='') # Loop through the different number of estimators\n",
        "        print(model22.score(features_valid2, target_valid2)) # Display the accuracies"
      ],
      "execution_count": 41,
      "outputs": [
        {
          "output_type": "stream",
          "name": "stdout",
          "text": [
            "n_estimators = 1 : 0.7653061224489796\n",
            "n_estimators = 2 : 0.8571428571428571\n",
            "n_estimators = 3 : 0.8061224489795918\n",
            "n_estimators = 4 : 0.8367346938775511\n",
            "n_estimators = 5 : 0.8163265306122449\n",
            "n_estimators = 6 : 0.8367346938775511\n",
            "n_estimators = 7 : 0.7959183673469388\n",
            "n_estimators = 8 : 0.8469387755102041\n",
            "n_estimators = 9 : 0.8367346938775511\n",
            "n_estimators = 10 : 0.826530612244898\n"
          ]
        }
      ]
    },
    {
      "cell_type": "markdown",
      "metadata": {
        "id": "j6dGxT-_fmv6"
      },
      "source": [
        "#### Logistic regression model"
      ]
    },
    {
      "cell_type": "code",
      "metadata": {
        "colab": {
          "base_uri": "https://localhost:8080/"
        },
        "id": "K_Q75EKTwSCf",
        "outputId": "e0a953d3-8959-4b84-f076-34965ccecaae"
      },
      "source": [
        "model33 = LogisticRegression(random_state=12345, solver='liblinear') # Define the model\n",
        "\n",
        "model33.fit(features_train2, target_train2) # Train the model\n",
        "\n",
        "print(model33.score(features_valid2, target_valid2)) # Display model accuracy"
      ],
      "execution_count": 42,
      "outputs": [
        {
          "output_type": "stream",
          "name": "stdout",
          "text": [
            "0.7755102040816326\n"
          ]
        }
      ]
    },
    {
      "cell_type": "markdown",
      "metadata": {
        "id": "fHkPXoB7qxcQ"
      },
      "source": [
        "### Findings\n",
        "\n",
        "* Dropping the values has significantly increased the accuracy score for the random forest classifier and the decision tress models,while reducing the accuracy for the logistic regression model\n",
        "* The best performing model is the random forest classifier with n_estimators = 2"
      ]
    },
    {
      "cell_type": "markdown",
      "metadata": {
        "id": "s9lWSNtAqno8"
      },
      "source": [
        "Let us now train the best performing model using the whole dataset and observe the changes in the prediction for new features. Will they be similar with the previous findings?"
      ]
    },
    {
      "cell_type": "code",
      "metadata": {
        "colab": {
          "base_uri": "https://localhost:8080/"
        },
        "id": "oG9KabVqpRCu",
        "outputId": "87c053d6-88c7-43d4-84cf-ef3857f02bc6"
      },
      "source": [
        "# Training the new best performing model using the whole train dataset for higher accuracy\n",
        "\n",
        "# Declare features and target variables\n",
        "features2 = diabetes_df2.drop(['Outcome'], axis=1)\n",
        "target2 = diabetes_df2['Outcome']\n",
        "\n",
        "model2 = RandomForestClassifier(random_state=12345, n_estimators=2) # Define the model\n",
        "\n",
        "model2.fit(features2, target2) # Train the model\n",
        "\n",
        "print(model2.score(features2, target2)) # Display model accuracy"
      ],
      "execution_count": 48,
      "outputs": [
        {
          "output_type": "stream",
          "name": "stdout",
          "text": [
            "0.8903061224489796\n"
          ]
        }
      ]
    },
    {
      "cell_type": "code",
      "metadata": {
        "colab": {
          "base_uri": "https://localhost:8080/"
        },
        "id": "eiOoponopu5A",
        "outputId": "429cb171-6a1e-44e5-bdfa-2cfe35507852"
      },
      "source": [
        "# Predict the target variable using the new observations\n",
        "answers2 = model2.predict(new_features)\n",
        "\n",
        "print(answers)\n",
        "print(answers2)"
      ],
      "execution_count": 49,
      "outputs": [
        {
          "output_type": "stream",
          "name": "stdout",
          "text": [
            "[0 0 1]\n",
            "[0 0 0]\n"
          ]
        }
      ]
    },
    {
      "cell_type": "markdown",
      "metadata": {
        "id": "qxX1xqpUqyku"
      },
      "source": [
        "### Summary\n",
        "* While the accuracy on the validation dataset has increased slightly from 0.81 to 0.85, the accuracy on the whole dataset has reduced from 0.98 to 0.89. The predictions also differ, with the new model predicting that none of the 3 new cases will be classified as diabetic\n",
        "\n",
        "* The company can provide guidance on which would be more feasible: whether the variable means are an accurate representation of the patient data or ignoring those data values altogether"
      ]
    },
    {
      "cell_type": "markdown",
      "metadata": {
        "id": "0Wq8JmVjwZIT"
      },
      "source": [
        "## 7. Follow up questions"
      ]
    },
    {
      "cell_type": "markdown",
      "metadata": {
        "id": "osSj5jemwZSe"
      },
      "source": [
        "### a). Did we have the right data?"
      ]
    },
    {
      "cell_type": "markdown",
      "metadata": {
        "id": "vX6o5SRSwZcC"
      },
      "source": [
        "Yes"
      ]
    },
    {
      "cell_type": "markdown",
      "metadata": {
        "id": "5DtAzHEBwZ41"
      },
      "source": [
        "### b). Do we need other data to answer our question?"
      ]
    },
    {
      "cell_type": "markdown",
      "metadata": {
        "id": "zjyL6HAlwnPF"
      },
      "source": [
        "The data provided had only 768 observations. When some of these observations have to be modified or dropped because of invalid data values, then this affects the model performance since the model will be trained with only limited data values.\n",
        "More accurate data is needed to ensure quality is maintained\n",
        "\n",
        "Additionaly, the data provided belonged only to female patients - which is biased and may not generalize well in the whole population. For instance, the variable 'pregnancies' will not be available for men, children or the older population"
      ]
    },
    {
      "cell_type": "markdown",
      "metadata": {
        "id": "XhjHmTsPwnfY"
      },
      "source": [
        "### c). Did we have the right question?"
      ]
    },
    {
      "cell_type": "markdown",
      "metadata": {
        "id": "3Q6VapCaw4gu"
      },
      "source": [
        "Yes we did"
      ]
    }
  ]
}