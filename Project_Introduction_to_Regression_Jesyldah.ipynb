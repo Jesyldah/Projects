{
  "nbformat": 4,
  "nbformat_minor": 0,
  "metadata": {
    "colab": {
      "name": "Project Introduction to Regression Jesyldah.ipynb",
      "provenance": [],
      "collapsed_sections": [],
      "toc_visible": true,
      "authorship_tag": "ABX9TyPn46SD4C5rB1ebK/HLgyAQ",
      "include_colab_link": true
    },
    "kernelspec": {
      "name": "python3",
      "display_name": "Python 3"
    },
    "language_info": {
      "name": "python"
    }
  },
  "cells": [
    {
      "cell_type": "markdown",
      "metadata": {
        "id": "view-in-github",
        "colab_type": "text"
      },
      "source": [
        "<a href=\"https://colab.research.google.com/github/Jesyldah/Projects/blob/main/Project_Introduction_to_Regression_Jesyldah.ipynb\" target=\"_parent\"><img src=\"https://colab.research.google.com/assets/colab-badge.svg\" alt=\"Open In Colab\"/></a>"
      ]
    },
    {
      "cell_type": "markdown",
      "metadata": {
        "id": "5rsuJFNzL2_i"
      },
      "source": [
        "# Introduction to Regression Project"
      ]
    },
    {
      "cell_type": "markdown",
      "metadata": {
        "id": "80rRdHccL9Kb"
      },
      "source": [
        "## 1. Defining the Question\n"
      ]
    },
    {
      "cell_type": "markdown",
      "metadata": {
        "id": "i738ch8vL9X6"
      },
      "source": [
        "### a) Specifying the Data Analysis Question"
      ]
    },
    {
      "cell_type": "markdown",
      "metadata": {
        "id": "Kjfl9wpBOT79"
      },
      "source": [
        "Recommend a new mobile plan for mobile subscribers using legacy plans"
      ]
    },
    {
      "cell_type": "markdown",
      "metadata": {
        "id": "pEB73eSyL9bf"
      },
      "source": [
        "### b) Defining the Metric for Success"
      ]
    },
    {
      "cell_type": "markdown",
      "metadata": {
        "id": "X0D_yIhZObOU"
      },
      "source": [
        "The analysis question will be answered by developing a model that would analyze subscribers' behavior and recommend\n",
        "one of Megaline's newer plans: Smart or Ultra."
      ]
    },
    {
      "cell_type": "markdown",
      "metadata": {
        "id": "NjcidHqjL9fX"
      },
      "source": [
        "### c) Understanding the context "
      ]
    },
    {
      "cell_type": "markdown",
      "metadata": {
        "id": "yShyG_a0L9j_"
      },
      "source": [
        "Mobile carrier Megaline has found out that many of their subscribers use legacy plans. They want to develop a model that would analyze subscribers' behavior and recommend\n",
        "one of Megaline's newer plans: Smart or Ultra.\n",
        "You have access to behavior data about subscribers who have already switched to the new plans \n",
        "\n",
        "\n"
      ]
    },
    {
      "cell_type": "markdown",
      "metadata": {
        "id": "avtlmOoXL9vv"
      },
      "source": [
        "### d) Recording the Experimental Design"
      ]
    },
    {
      "cell_type": "markdown",
      "metadata": {
        "id": "IP4ITpvoL97t"
      },
      "source": [
        "1. Reading in the data from the source so that it is available for analysis\n",
        "2. Explore the data in order to understand the structure of the data\n",
        "3. Prepare the data for analysis:\n",
        "* Checking for and handling missing values\n",
        "* Finding and removing duplicate records\n",
        "* Deleting null columns & rows\n",
        "* Renaming columns\n",
        "* Checking for uniformity of data in the columns, correcting errors in values and datatypes\n",
        "4. Modeling\n",
        "* Define and train the model\n",
        "* Hyparameter Tuning\n",
        "* Make predictions using the model\n",
        "5. Model Evaluation\n",
        "* Sanity check\n",
        "6. Findings and Recommendations\n",
        "\n"
      ]
    },
    {
      "cell_type": "markdown",
      "metadata": {
        "id": "ibxQ6tl5PyxA"
      },
      "source": [
        "### e) Data Relevance"
      ]
    },
    {
      "cell_type": "markdown",
      "metadata": {
        "id": "nCY15xMIPzMB"
      },
      "source": [
        "The dataset includes behavior data about subscribers who have already switched to the new plans and is therefore relevant in answering the research question\n"
      ]
    },
    {
      "cell_type": "markdown",
      "metadata": {
        "id": "-on4OF1VPzX6"
      },
      "source": [
        "## 2. Reading the Data"
      ]
    },
    {
      "cell_type": "code",
      "metadata": {
        "id": "Ktyc8nZoQQRI"
      },
      "source": [
        "# Importing our libraries\n",
        "\n",
        "import pandas as pd\n",
        "\n",
        "import numpy as np"
      ],
      "execution_count": 79,
      "outputs": []
    },
    {
      "cell_type": "code",
      "metadata": {
        "id": "1PlwTmH0QQkk"
      },
      "source": [
        "# Load the dataset\n",
        "\n",
        "# Dataset url = https://bit.ly/UsersBehaviourTelco\n",
        "\n",
        "mobile_df = pd.read_csv('https://bit.ly/UsersBehaviourTelco')"
      ],
      "execution_count": 80,
      "outputs": []
    },
    {
      "cell_type": "code",
      "metadata": {
        "colab": {
          "base_uri": "https://localhost:8080/",
          "height": 206
        },
        "id": "oVI0vTP0QQy4",
        "outputId": "5ffc65c1-fe79-4914-f553-3116f2d91064"
      },
      "source": [
        "# Checking the first 5 rows of data\n",
        "\n",
        "mobile_df.head()"
      ],
      "execution_count": 81,
      "outputs": [
        {
          "output_type": "execute_result",
          "data": {
            "text/html": [
              "<div>\n",
              "<style scoped>\n",
              "    .dataframe tbody tr th:only-of-type {\n",
              "        vertical-align: middle;\n",
              "    }\n",
              "\n",
              "    .dataframe tbody tr th {\n",
              "        vertical-align: top;\n",
              "    }\n",
              "\n",
              "    .dataframe thead th {\n",
              "        text-align: right;\n",
              "    }\n",
              "</style>\n",
              "<table border=\"1\" class=\"dataframe\">\n",
              "  <thead>\n",
              "    <tr style=\"text-align: right;\">\n",
              "      <th></th>\n",
              "      <th>calls</th>\n",
              "      <th>minutes</th>\n",
              "      <th>messages</th>\n",
              "      <th>mb_used</th>\n",
              "      <th>is_ultra</th>\n",
              "    </tr>\n",
              "  </thead>\n",
              "  <tbody>\n",
              "    <tr>\n",
              "      <th>0</th>\n",
              "      <td>40.0</td>\n",
              "      <td>311.90</td>\n",
              "      <td>83.0</td>\n",
              "      <td>19915.42</td>\n",
              "      <td>0</td>\n",
              "    </tr>\n",
              "    <tr>\n",
              "      <th>1</th>\n",
              "      <td>85.0</td>\n",
              "      <td>516.75</td>\n",
              "      <td>56.0</td>\n",
              "      <td>22696.96</td>\n",
              "      <td>0</td>\n",
              "    </tr>\n",
              "    <tr>\n",
              "      <th>2</th>\n",
              "      <td>77.0</td>\n",
              "      <td>467.66</td>\n",
              "      <td>86.0</td>\n",
              "      <td>21060.45</td>\n",
              "      <td>0</td>\n",
              "    </tr>\n",
              "    <tr>\n",
              "      <th>3</th>\n",
              "      <td>106.0</td>\n",
              "      <td>745.53</td>\n",
              "      <td>81.0</td>\n",
              "      <td>8437.39</td>\n",
              "      <td>1</td>\n",
              "    </tr>\n",
              "    <tr>\n",
              "      <th>4</th>\n",
              "      <td>66.0</td>\n",
              "      <td>418.74</td>\n",
              "      <td>1.0</td>\n",
              "      <td>14502.75</td>\n",
              "      <td>0</td>\n",
              "    </tr>\n",
              "  </tbody>\n",
              "</table>\n",
              "</div>"
            ],
            "text/plain": [
              "   calls  minutes  messages   mb_used  is_ultra\n",
              "0   40.0   311.90      83.0  19915.42         0\n",
              "1   85.0   516.75      56.0  22696.96         0\n",
              "2   77.0   467.66      86.0  21060.45         0\n",
              "3  106.0   745.53      81.0   8437.39         1\n",
              "4   66.0   418.74       1.0  14502.75         0"
            ]
          },
          "metadata": {},
          "execution_count": 81
        }
      ]
    },
    {
      "cell_type": "code",
      "metadata": {
        "colab": {
          "base_uri": "https://localhost:8080/",
          "height": 206
        },
        "id": "llxGXXw6QQ8h",
        "outputId": "97858949-d420-45a4-e94a-7dd3e13c1653"
      },
      "source": [
        "# Checking the last 5 rows of data\n",
        "\n",
        "mobile_df.tail()"
      ],
      "execution_count": 82,
      "outputs": [
        {
          "output_type": "execute_result",
          "data": {
            "text/html": [
              "<div>\n",
              "<style scoped>\n",
              "    .dataframe tbody tr th:only-of-type {\n",
              "        vertical-align: middle;\n",
              "    }\n",
              "\n",
              "    .dataframe tbody tr th {\n",
              "        vertical-align: top;\n",
              "    }\n",
              "\n",
              "    .dataframe thead th {\n",
              "        text-align: right;\n",
              "    }\n",
              "</style>\n",
              "<table border=\"1\" class=\"dataframe\">\n",
              "  <thead>\n",
              "    <tr style=\"text-align: right;\">\n",
              "      <th></th>\n",
              "      <th>calls</th>\n",
              "      <th>minutes</th>\n",
              "      <th>messages</th>\n",
              "      <th>mb_used</th>\n",
              "      <th>is_ultra</th>\n",
              "    </tr>\n",
              "  </thead>\n",
              "  <tbody>\n",
              "    <tr>\n",
              "      <th>3209</th>\n",
              "      <td>122.0</td>\n",
              "      <td>910.98</td>\n",
              "      <td>20.0</td>\n",
              "      <td>35124.90</td>\n",
              "      <td>1</td>\n",
              "    </tr>\n",
              "    <tr>\n",
              "      <th>3210</th>\n",
              "      <td>25.0</td>\n",
              "      <td>190.36</td>\n",
              "      <td>0.0</td>\n",
              "      <td>3275.61</td>\n",
              "      <td>0</td>\n",
              "    </tr>\n",
              "    <tr>\n",
              "      <th>3211</th>\n",
              "      <td>97.0</td>\n",
              "      <td>634.44</td>\n",
              "      <td>70.0</td>\n",
              "      <td>13974.06</td>\n",
              "      <td>0</td>\n",
              "    </tr>\n",
              "    <tr>\n",
              "      <th>3212</th>\n",
              "      <td>64.0</td>\n",
              "      <td>462.32</td>\n",
              "      <td>90.0</td>\n",
              "      <td>31239.78</td>\n",
              "      <td>0</td>\n",
              "    </tr>\n",
              "    <tr>\n",
              "      <th>3213</th>\n",
              "      <td>80.0</td>\n",
              "      <td>566.09</td>\n",
              "      <td>6.0</td>\n",
              "      <td>29480.52</td>\n",
              "      <td>1</td>\n",
              "    </tr>\n",
              "  </tbody>\n",
              "</table>\n",
              "</div>"
            ],
            "text/plain": [
              "      calls  minutes  messages   mb_used  is_ultra\n",
              "3209  122.0   910.98      20.0  35124.90         1\n",
              "3210   25.0   190.36       0.0   3275.61         0\n",
              "3211   97.0   634.44      70.0  13974.06         0\n",
              "3212   64.0   462.32      90.0  31239.78         0\n",
              "3213   80.0   566.09       6.0  29480.52         1"
            ]
          },
          "metadata": {},
          "execution_count": 82
        }
      ]
    },
    {
      "cell_type": "code",
      "metadata": {
        "colab": {
          "base_uri": "https://localhost:8080/"
        },
        "id": "-MkjLwaNQRH1",
        "outputId": "ee907c4e-6057-474d-b984-8b521bb49fba"
      },
      "source": [
        "# Determine the size of the dataset\n",
        "\n",
        "mobile_df.shape"
      ],
      "execution_count": 83,
      "outputs": [
        {
          "output_type": "execute_result",
          "data": {
            "text/plain": [
              "(3214, 5)"
            ]
          },
          "metadata": {},
          "execution_count": 83
        }
      ]
    },
    {
      "cell_type": "code",
      "metadata": {
        "colab": {
          "base_uri": "https://localhost:8080/"
        },
        "id": "_x4ce0XURCLZ",
        "outputId": "3bd74080-a385-4dfb-b8c5-877c83e2189b"
      },
      "source": [
        "# Checking variable datatypes\n",
        "\n",
        "mobile_df.dtypes"
      ],
      "execution_count": 84,
      "outputs": [
        {
          "output_type": "execute_result",
          "data": {
            "text/plain": [
              "calls       float64\n",
              "minutes     float64\n",
              "messages    float64\n",
              "mb_used     float64\n",
              "is_ultra      int64\n",
              "dtype: object"
            ]
          },
          "metadata": {},
          "execution_count": 84
        }
      ]
    },
    {
      "cell_type": "code",
      "metadata": {
        "colab": {
          "base_uri": "https://localhost:8080/"
        },
        "id": "N82wUBC8RCRd",
        "outputId": "7efcbb80-9c3a-47a0-e2cd-7812059070eb"
      },
      "source": [
        "# View the variables in the dataset\n",
        "\n",
        "mobile_df.columns"
      ],
      "execution_count": 85,
      "outputs": [
        {
          "output_type": "execute_result",
          "data": {
            "text/plain": [
              "Index(['calls', 'minutes', 'messages', 'mb_used', 'is_ultra'], dtype='object')"
            ]
          },
          "metadata": {},
          "execution_count": 85
        }
      ]
    },
    {
      "cell_type": "markdown",
      "metadata": {
        "id": "_CDgx9HMPzio"
      },
      "source": [
        "The dataset provided has a total of 3,214 observations and 5 variables. The variables are:\n",
        "* сalls — number of calls,\n",
        "* minutes — total call duration in minutes,\n",
        "* messages — number of text messages,\n",
        "* mb_used — Internet traffic used in MB,\n",
        "* is_ultra — plan for the current month (Ultra - 1, Smart - 0)."
      ]
    },
    {
      "cell_type": "markdown",
      "metadata": {
        "id": "-q3ITOo5Pzsk"
      },
      "source": [
        "## 3. External Data Source Validation"
      ]
    },
    {
      "cell_type": "markdown",
      "metadata": {
        "id": "9TzIdLSePz8-"
      },
      "source": [
        "The data provided is valid"
      ]
    },
    {
      "cell_type": "markdown",
      "metadata": {
        "id": "S55bkB9aUvy7"
      },
      "source": [
        "## 4. Data Preparation"
      ]
    },
    {
      "cell_type": "markdown",
      "metadata": {
        "id": "lpwFiEGhUwjW"
      },
      "source": [
        "### Performing Data Cleaning"
      ]
    },
    {
      "cell_type": "code",
      "metadata": {
        "colab": {
          "base_uri": "https://localhost:8080/"
        },
        "id": "npauCDu5U5Bj",
        "outputId": "239dd01f-1b1e-45a9-c739-276bd329e27b"
      },
      "source": [
        "# Checking for duplicate rows in the dataset\n",
        "\n",
        "sum(mobile_df.duplicated())"
      ],
      "execution_count": 86,
      "outputs": [
        {
          "output_type": "execute_result",
          "data": {
            "text/plain": [
              "0"
            ]
          },
          "metadata": {},
          "execution_count": 86
        }
      ]
    },
    {
      "cell_type": "markdown",
      "metadata": {
        "id": "m4HDQkt3qtKC"
      },
      "source": [
        "There are no duplicate observations in the dataset"
      ]
    },
    {
      "cell_type": "code",
      "metadata": {
        "colab": {
          "base_uri": "https://localhost:8080/"
        },
        "id": "XHW1-8CiU5LP",
        "outputId": "1ca2cda2-97a1-4eff-e536-42ceb0cc77a2"
      },
      "source": [
        "# Checking if any of the columns are all null\n",
        "\n",
        "mobile_df.isnull().all(1).any()"
      ],
      "execution_count": 87,
      "outputs": [
        {
          "output_type": "execute_result",
          "data": {
            "text/plain": [
              "False"
            ]
          },
          "metadata": {},
          "execution_count": 87
        }
      ]
    },
    {
      "cell_type": "code",
      "metadata": {
        "colab": {
          "base_uri": "https://localhost:8080/"
        },
        "id": "uulpcexvU5Rp",
        "outputId": "13a171b9-ccd1-4622-881a-e787a5e115fa"
      },
      "source": [
        "# Checking if any of the rows are all null\n",
        "\n",
        "mobile_df.isnull().all(0).any()"
      ],
      "execution_count": 88,
      "outputs": [
        {
          "output_type": "execute_result",
          "data": {
            "text/plain": [
              "False"
            ]
          },
          "metadata": {},
          "execution_count": 88
        }
      ]
    },
    {
      "cell_type": "markdown",
      "metadata": {
        "id": "NBJIEESxq1-z"
      },
      "source": [
        "None of the rows or columns are all null"
      ]
    },
    {
      "cell_type": "code",
      "metadata": {
        "colab": {
          "base_uri": "https://localhost:8080/"
        },
        "id": "dbb4JiccaYL8",
        "outputId": "a2664334-4639-44a9-a2af-63f59b6b4e0d"
      },
      "source": [
        "# Check for missing values\n",
        "\n",
        "print(mobile_df.isnull().values.any())\n",
        "\n",
        "mobile_df.isnull().sum()"
      ],
      "execution_count": 89,
      "outputs": [
        {
          "output_type": "stream",
          "name": "stdout",
          "text": [
            "False\n"
          ]
        },
        {
          "output_type": "execute_result",
          "data": {
            "text/plain": [
              "calls       0\n",
              "minutes     0\n",
              "messages    0\n",
              "mb_used     0\n",
              "is_ultra    0\n",
              "dtype: int64"
            ]
          },
          "metadata": {},
          "execution_count": 89
        }
      ]
    },
    {
      "cell_type": "markdown",
      "metadata": {
        "id": "yiwJyfmeq71B"
      },
      "source": [
        "The dataset does not contain missing values"
      ]
    },
    {
      "cell_type": "code",
      "metadata": {
        "colab": {
          "base_uri": "https://localhost:8080/",
          "height": 300
        },
        "id": "Et4QPN3sXY0E",
        "outputId": "a2bbc5ea-0a82-4407-828a-0d2995a7a089"
      },
      "source": [
        "# Obtain summary statistics for the dataset\n",
        "\n",
        "mobile_df.describe()"
      ],
      "execution_count": 90,
      "outputs": [
        {
          "output_type": "execute_result",
          "data": {
            "text/html": [
              "<div>\n",
              "<style scoped>\n",
              "    .dataframe tbody tr th:only-of-type {\n",
              "        vertical-align: middle;\n",
              "    }\n",
              "\n",
              "    .dataframe tbody tr th {\n",
              "        vertical-align: top;\n",
              "    }\n",
              "\n",
              "    .dataframe thead th {\n",
              "        text-align: right;\n",
              "    }\n",
              "</style>\n",
              "<table border=\"1\" class=\"dataframe\">\n",
              "  <thead>\n",
              "    <tr style=\"text-align: right;\">\n",
              "      <th></th>\n",
              "      <th>calls</th>\n",
              "      <th>minutes</th>\n",
              "      <th>messages</th>\n",
              "      <th>mb_used</th>\n",
              "      <th>is_ultra</th>\n",
              "    </tr>\n",
              "  </thead>\n",
              "  <tbody>\n",
              "    <tr>\n",
              "      <th>count</th>\n",
              "      <td>3214.000000</td>\n",
              "      <td>3214.000000</td>\n",
              "      <td>3214.000000</td>\n",
              "      <td>3214.000000</td>\n",
              "      <td>3214.000000</td>\n",
              "    </tr>\n",
              "    <tr>\n",
              "      <th>mean</th>\n",
              "      <td>63.038892</td>\n",
              "      <td>438.208787</td>\n",
              "      <td>38.281269</td>\n",
              "      <td>17207.673836</td>\n",
              "      <td>0.306472</td>\n",
              "    </tr>\n",
              "    <tr>\n",
              "      <th>std</th>\n",
              "      <td>33.236368</td>\n",
              "      <td>234.569872</td>\n",
              "      <td>36.148326</td>\n",
              "      <td>7570.968246</td>\n",
              "      <td>0.461100</td>\n",
              "    </tr>\n",
              "    <tr>\n",
              "      <th>min</th>\n",
              "      <td>0.000000</td>\n",
              "      <td>0.000000</td>\n",
              "      <td>0.000000</td>\n",
              "      <td>0.000000</td>\n",
              "      <td>0.000000</td>\n",
              "    </tr>\n",
              "    <tr>\n",
              "      <th>25%</th>\n",
              "      <td>40.000000</td>\n",
              "      <td>274.575000</td>\n",
              "      <td>9.000000</td>\n",
              "      <td>12491.902500</td>\n",
              "      <td>0.000000</td>\n",
              "    </tr>\n",
              "    <tr>\n",
              "      <th>50%</th>\n",
              "      <td>62.000000</td>\n",
              "      <td>430.600000</td>\n",
              "      <td>30.000000</td>\n",
              "      <td>16943.235000</td>\n",
              "      <td>0.000000</td>\n",
              "    </tr>\n",
              "    <tr>\n",
              "      <th>75%</th>\n",
              "      <td>82.000000</td>\n",
              "      <td>571.927500</td>\n",
              "      <td>57.000000</td>\n",
              "      <td>21424.700000</td>\n",
              "      <td>1.000000</td>\n",
              "    </tr>\n",
              "    <tr>\n",
              "      <th>max</th>\n",
              "      <td>244.000000</td>\n",
              "      <td>1632.060000</td>\n",
              "      <td>224.000000</td>\n",
              "      <td>49745.730000</td>\n",
              "      <td>1.000000</td>\n",
              "    </tr>\n",
              "  </tbody>\n",
              "</table>\n",
              "</div>"
            ],
            "text/plain": [
              "             calls      minutes     messages       mb_used     is_ultra\n",
              "count  3214.000000  3214.000000  3214.000000   3214.000000  3214.000000\n",
              "mean     63.038892   438.208787    38.281269  17207.673836     0.306472\n",
              "std      33.236368   234.569872    36.148326   7570.968246     0.461100\n",
              "min       0.000000     0.000000     0.000000      0.000000     0.000000\n",
              "25%      40.000000   274.575000     9.000000  12491.902500     0.000000\n",
              "50%      62.000000   430.600000    30.000000  16943.235000     0.000000\n",
              "75%      82.000000   571.927500    57.000000  21424.700000     1.000000\n",
              "max     244.000000  1632.060000   224.000000  49745.730000     1.000000"
            ]
          },
          "metadata": {},
          "execution_count": 90
        }
      ]
    },
    {
      "cell_type": "markdown",
      "metadata": {
        "id": "hkpDaViNliQo"
      },
      "source": [
        "## 5. Solution Implementation"
      ]
    },
    {
      "cell_type": "markdown",
      "metadata": {
        "id": "aMybVMRRlqpK"
      },
      "source": [
        "### Data Preparation"
      ]
    },
    {
      "cell_type": "markdown",
      "metadata": {
        "id": "siwF0DtXAKNr"
      },
      "source": [
        "The dataset is already preprocessed and ready for modelling"
      ]
    },
    {
      "cell_type": "markdown",
      "metadata": {
        "id": "__XlzGEMmpXV"
      },
      "source": [
        "### Defining and training the model"
      ]
    },
    {
      "cell_type": "markdown",
      "metadata": {
        "id": "Kc6XmtHRdb_I"
      },
      "source": [
        "#### Datasets, features and target selection"
      ]
    },
    {
      "cell_type": "code",
      "metadata": {
        "colab": {
          "base_uri": "https://localhost:8080/"
        },
        "id": "ztDU2CQQl2X7",
        "outputId": "8f358cbe-dc78-4ccf-8439-89e001cd0123"
      },
      "source": [
        "# Split the dataset into training, validation and test datasets\n",
        "\n",
        "# Import train_test_split from the sklearn.model_selection module\n",
        "from sklearn.model_selection import train_test_split\n",
        "\n",
        "# Use train_test_split function to split the dataset into training, validation and test datasets in the ratio 3:1:1\n",
        "df_train, df_valid= train_test_split(mobile_df, test_size=0.4,random_state=12345)\n",
        "df_valid, df_test= train_test_split(df_valid, test_size=0.5,random_state=12345)\n",
        "\n",
        "# Declare features and target variables for the different datasets\n",
        "features_train = df_train.drop(['is_ultra'], axis=1)\n",
        "target_train = df_train['is_ultra']\n",
        "features_valid = df_valid.drop(['is_ultra'], axis=1)\n",
        "target_valid = df_valid['is_ultra']\n",
        "features_test = df_valid.drop(['is_ultra'], axis=1)\n",
        "target_test = df_valid['is_ultra']\n",
        "\n",
        "# Display number of observations for each dataset\n",
        "print(df_train.shape)\n",
        "print(df_valid.shape)\n",
        "print(df_test.shape)"
      ],
      "execution_count": 91,
      "outputs": [
        {
          "output_type": "stream",
          "name": "stdout",
          "text": [
            "(1928, 5)\n",
            "(643, 5)\n",
            "(643, 5)\n"
          ]
        }
      ]
    },
    {
      "cell_type": "markdown",
      "metadata": {
        "id": "4ktSfO3xwIFy"
      },
      "source": [
        "### Hyperprameter tuning"
      ]
    },
    {
      "cell_type": "markdown",
      "metadata": {
        "id": "FNBvvz9Dm7YW"
      },
      "source": [
        "#### Decision tree classifier  model"
      ]
    },
    {
      "cell_type": "code",
      "metadata": {
        "colab": {
          "base_uri": "https://localhost:8080/"
        },
        "id": "RbaxZQ2PBwNT",
        "outputId": "5326dc87-51ff-41d6-ff5b-f138976ade83"
      },
      "source": [
        "# import decision tree from the sklearn library\n",
        "from sklearn.tree import DecisionTreeClassifier\n",
        "\n",
        "# Loop over the 'max_depth' hyperparameter to determine the one with highest accuracy score\n",
        "for depth in range(1, 21):\n",
        "        model1 = DecisionTreeClassifier(random_state=12345, max_depth=depth) # Define the model\n",
        "\n",
        "        model1.fit(features_train, target_train) # Train the model\n",
        "\n",
        "        print(\"max_depth =\", depth, \": \", end='') # Loop through the different depths\n",
        "        print(model1.score(features_valid, target_valid)) # Display the accuracies"
      ],
      "execution_count": 92,
      "outputs": [
        {
          "output_type": "stream",
          "name": "stdout",
          "text": [
            "max_depth = 1 : 0.7542768273716952\n",
            "max_depth = 2 : 0.7822706065318819\n",
            "max_depth = 3 : 0.7853810264385692\n",
            "max_depth = 4 : 0.7791601866251944\n",
            "max_depth = 5 : 0.7791601866251944\n",
            "max_depth = 6 : 0.7838258164852255\n",
            "max_depth = 7 : 0.7822706065318819\n",
            "max_depth = 8 : 0.7791601866251944\n",
            "max_depth = 9 : 0.7822706065318819\n",
            "max_depth = 10 : 0.7744945567651633\n",
            "max_depth = 11 : 0.7620528771384136\n",
            "max_depth = 12 : 0.7620528771384136\n",
            "max_depth = 13 : 0.7558320373250389\n",
            "max_depth = 14 : 0.7589424572317263\n",
            "max_depth = 15 : 0.7465007776049767\n",
            "max_depth = 16 : 0.7340590979782271\n",
            "max_depth = 17 : 0.7356143079315708\n",
            "max_depth = 18 : 0.7309486780715396\n",
            "max_depth = 19 : 0.7278382581648523\n",
            "max_depth = 20 : 0.7216174183514774\n"
          ]
        }
      ]
    },
    {
      "cell_type": "markdown",
      "metadata": {
        "id": "UTQp7cjzHez5"
      },
      "source": [
        "The decision tree classifier model has the highest accuracy of 0.785 when the hyperparameter 'max_depth' = 3 "
      ]
    },
    {
      "cell_type": "markdown",
      "metadata": {
        "id": "AI-p_I2QDi4y"
      },
      "source": [
        "#### Random Forest"
      ]
    },
    {
      "cell_type": "code",
      "metadata": {
        "colab": {
          "base_uri": "https://localhost:8080/"
        },
        "id": "XJCrcpSci3hH",
        "outputId": "6d413461-436d-42d0-fff3-a0e61c907226"
      },
      "source": [
        "# import random forest classifier from the sklearn library\n",
        "from sklearn.ensemble import RandomForestClassifier\n",
        "\n",
        "# Loop over the 'n_estimators' hyperparameter to determine the one with highest accuracy score\n",
        "for estimator in range(1, 21):\n",
        "        model2 = RandomForestClassifier(random_state=12345, n_estimators=estimator) # Define the model\n",
        "\n",
        "        model2.fit(features_train, target_train) # Train the model\n",
        "\n",
        "        print(\"n_estimators =\", estimator, \": \", end='') # Loop through the different number of estimators\n",
        "        print(model2.score(features_valid, target_valid)) # Display the accuracies"
      ],
      "execution_count": 93,
      "outputs": [
        {
          "output_type": "stream",
          "name": "stdout",
          "text": [
            "n_estimators = 1 : 0.7107309486780715\n",
            "n_estimators = 2 : 0.7636080870917574\n",
            "n_estimators = 3 : 0.7387247278382582\n",
            "n_estimators = 4 : 0.7713841368584758\n",
            "n_estimators = 5 : 0.749611197511664\n",
            "n_estimators = 6 : 0.7807153965785381\n",
            "n_estimators = 7 : 0.7682737169517885\n",
            "n_estimators = 8 : 0.7822706065318819\n",
            "n_estimators = 9 : 0.7729393468118196\n",
            "n_estimators = 10 : 0.7853810264385692\n",
            "n_estimators = 11 : 0.7838258164852255\n",
            "n_estimators = 12 : 0.7869362363919129\n",
            "n_estimators = 13 : 0.7822706065318819\n",
            "n_estimators = 14 : 0.7838258164852255\n",
            "n_estimators = 15 : 0.7838258164852255\n",
            "n_estimators = 16 : 0.7869362363919129\n",
            "n_estimators = 17 : 0.7869362363919129\n",
            "n_estimators = 18 : 0.7931570762052877\n",
            "n_estimators = 19 : 0.7884914463452566\n",
            "n_estimators = 20 : 0.7869362363919129\n"
          ]
        }
      ]
    },
    {
      "cell_type": "markdown",
      "metadata": {
        "id": "a_iz-GJiIDrv"
      },
      "source": [
        "The random forest classifier model has the highest accuracy of 0.793 when the hyperparameter 'n_estimators' = 18"
      ]
    },
    {
      "cell_type": "markdown",
      "metadata": {
        "id": "g6-wkMFZEMMJ"
      },
      "source": [
        "#### Logistic Regression"
      ]
    },
    {
      "cell_type": "code",
      "metadata": {
        "colab": {
          "base_uri": "https://localhost:8080/"
        },
        "id": "FqjdWFHeEQml",
        "outputId": "4d111412-93a1-42c4-9f2f-66d720c493b7"
      },
      "source": [
        "# import logistic regression from the sklearn library\n",
        "from sklearn.linear_model import LogisticRegression\n",
        "\n",
        "model3 = LogisticRegression(random_state=12345, solver='liblinear') # Define the model\n",
        "\n",
        "model3.fit(features_train, target_train) # Train the model\n",
        "\n",
        "print(model3.score(features_valid, target_valid)) # Display model accuracy"
      ],
      "execution_count": 94,
      "outputs": [
        {
          "output_type": "stream",
          "name": "stdout",
          "text": [
            "0.7589424572317263\n"
          ]
        }
      ]
    },
    {
      "cell_type": "markdown",
      "metadata": {
        "id": "rs17gRWLINkg"
      },
      "source": [
        "The logistic regression model has an accuracy of 0.759"
      ]
    },
    {
      "cell_type": "markdown",
      "metadata": {
        "id": "yQx-Il1qk418"
      },
      "source": [
        "### Model selection"
      ]
    },
    {
      "cell_type": "markdown",
      "metadata": {
        "id": "pKHHNeUuik8l"
      },
      "source": [
        "The random forest classifier model, with n_estimators = 18  attained the highest accuracy score of 0.79 on the validation dataset"
      ]
    },
    {
      "cell_type": "code",
      "metadata": {
        "colab": {
          "base_uri": "https://localhost:8080/"
        },
        "id": "ADPsge1Axeds",
        "outputId": "7eecc5f2-621d-4411-bb91-30b399badc6e"
      },
      "source": [
        "# Obtain the accuracy score on the test dataset\n",
        "\n",
        "model2 = RandomForestClassifier(random_state=12345, n_estimators=18) # Define the model\n",
        "model2.fit(features_train, target_train) # Train the model\n",
        "print(model2.score(features_test, target_test)) # Display the accuracies"
      ],
      "execution_count": 95,
      "outputs": [
        {
          "output_type": "stream",
          "name": "stdout",
          "text": [
            "0.7931570762052877\n"
          ]
        }
      ]
    },
    {
      "cell_type": "markdown",
      "metadata": {
        "id": "P_u1nns60a0R"
      },
      "source": [
        "The trained model then attains an accuracy store of 0.79 on the test dataset"
      ]
    },
    {
      "cell_type": "code",
      "metadata": {
        "colab": {
          "base_uri": "https://localhost:8080/"
        },
        "id": "YVRsjAnyhhJO",
        "outputId": "638e2dcd-3b4a-4f4a-cfd6-250ed5faaa8a"
      },
      "source": [
        "# Training the best performing model using the whole train dataset for higher accuracy\n",
        "\n",
        "# Declare features and target variables\n",
        "features = mobile_df.drop(['is_ultra'], axis=1)\n",
        "target = mobile_df['is_ultra']\n",
        "\n",
        "model = RandomForestClassifier(random_state=12345, n_estimators=18) # Define the model\n",
        "\n",
        "model.fit(features, target) # Train the model\n",
        "\n",
        "print(model.score(features, target)) # Display model accuracy"
      ],
      "execution_count": 96,
      "outputs": [
        {
          "output_type": "stream",
          "name": "stdout",
          "text": [
            "0.9928438083385189\n"
          ]
        }
      ]
    },
    {
      "cell_type": "markdown",
      "metadata": {
        "id": "1x9sGfRE31ZS"
      },
      "source": [
        "When we train the selected model (RandomForestClassifier(random_state=12345, n_estimators=18) with the entire dataset, we get an accuracy score of 0.99"
      ]
    },
    {
      "cell_type": "markdown",
      "metadata": {
        "id": "MGtBwDRQyAYM"
      },
      "source": [
        "#### Model sanity check"
      ]
    },
    {
      "cell_type": "code",
      "metadata": {
        "colab": {
          "base_uri": "https://localhost:8080/",
          "height": 334
        },
        "id": "ltgs93Ixzw2j",
        "outputId": "bd901f25-72de-4de2-e590-9ad4ce57cfb6"
      },
      "source": [
        "# Obtain sanity check by counting the target variable's class frequencies\n",
        "\n",
        "# Count classes in the target feature on the test dataset using value_counts() method\n",
        "test_class_frequency = target_test.value_counts(normalize = True) # Make the frequencies relative (from 0 to 1)\n",
        "\n",
        "print(test_class_frequency) # Print the frequencies on the screen\n",
        "\n",
        "test_class_frequency.plot(kind = 'bar') # Display using plot() method"
      ],
      "execution_count": 97,
      "outputs": [
        {
          "output_type": "stream",
          "name": "stdout",
          "text": [
            "0    0.706065\n",
            "1    0.293935\n",
            "Name: is_ultra, dtype: float64\n"
          ]
        },
        {
          "output_type": "execute_result",
          "data": {
            "text/plain": [
              "<matplotlib.axes._subplots.AxesSubplot at 0x7fd72c54a8d0>"
            ]
          },
          "metadata": {},
          "execution_count": 97
        },
        {
          "output_type": "display_data",
          "data": {
            "image/png": "[encoded data removed]",
            "text/plain": [
              "<Figure size 432x288 with 1 Axes>"
            ]
          },
          "metadata": {
            "needs_background": "light"
          }
        }
      ]
    },
    {
      "cell_type": "code",
      "metadata": {
        "colab": {
          "base_uri": "https://localhost:8080/",
          "height": 334
        },
        "id": "03ESLs2WyD1n",
        "outputId": "b1a290f1-4bd4-4af2-cd93-c1957f8a8747"
      },
      "source": [
        "# Analyze the class frequencies of the model predictions on the test dataset using the value_counts() method\n",
        "\n",
        "# Convert the predictions to pd.Series for value_counts() work\n",
        "predicted_test = pd.Series(model.predict(features_test))\n",
        "\n",
        "# Save the counts in the class_frequency variable\n",
        "model_class_frequency = predicted_test.value_counts(normalize = True) # Make the frequencies relative (from 0 to 1)\n",
        "\n",
        "print(model_class_frequency) # Print the frequencies on the screen\n",
        "\n",
        "model_class_frequency.plot(kind = 'bar') # Display using plot() method"
      ],
      "execution_count": 98,
      "outputs": [
        {
          "output_type": "stream",
          "name": "stdout",
          "text": [
            "0    0.715397\n",
            "1    0.284603\n",
            "dtype: float64\n"
          ]
        },
        {
          "output_type": "execute_result",
          "data": {
            "text/plain": [
              "<matplotlib.axes._subplots.AxesSubplot at 0x7fd72c4c8b50>"
            ]
          },
          "metadata": {},
          "execution_count": 98
        },
        {
          "output_type": "display_data",
          "data": {
            "image/png": "[encoded data removed]",
            "text/plain": [
              "<Figure size 432x288 with 1 Axes>"
            ]
          },
          "metadata": {
            "needs_background": "light"
          }
        }
      ]
    },
    {
      "cell_type": "markdown",
      "metadata": {
        "id": "hDRVQlBi0m3n"
      },
      "source": [
        "Class frequency for the test dataset is:\n",
        "1. **Class 0: 0.71** \n",
        "2. **Class 1: 0.29**\n",
        "\n",
        "Analyzing the class frequencies using the model predictions on the test data reveals a class frequency of:\n",
        "1. **Class 0: 0.72** \n",
        "2. **Class 1: 0.28**\n",
        "\n",
        "The classes are fairly balanced in both cases\n"
      ]
    },
    {
      "cell_type": "markdown",
      "metadata": {
        "id": "kSZ5MLv5nJqr"
      },
      "source": [
        "### Prediction using the trained model"
      ]
    },
    {
      "cell_type": "code",
      "metadata": {
        "colab": {
          "base_uri": "https://localhost:8080/",
          "height": 81
        },
        "id": "6PbW572MlaE-",
        "outputId": "80453113-57c2-4fde-c6fa-86d610717716"
      },
      "source": [
        "# Preview the dataset\n",
        "\n",
        "mobile_df.sample()"
      ],
      "execution_count": 99,
      "outputs": [
        {
          "output_type": "execute_result",
          "data": {
            "text/html": [
              "<div>\n",
              "<style scoped>\n",
              "    .dataframe tbody tr th:only-of-type {\n",
              "        vertical-align: middle;\n",
              "    }\n",
              "\n",
              "    .dataframe tbody tr th {\n",
              "        vertical-align: top;\n",
              "    }\n",
              "\n",
              "    .dataframe thead th {\n",
              "        text-align: right;\n",
              "    }\n",
              "</style>\n",
              "<table border=\"1\" class=\"dataframe\">\n",
              "  <thead>\n",
              "    <tr style=\"text-align: right;\">\n",
              "      <th></th>\n",
              "      <th>calls</th>\n",
              "      <th>minutes</th>\n",
              "      <th>messages</th>\n",
              "      <th>mb_used</th>\n",
              "      <th>is_ultra</th>\n",
              "    </tr>\n",
              "  </thead>\n",
              "  <tbody>\n",
              "    <tr>\n",
              "      <th>1867</th>\n",
              "      <td>114.0</td>\n",
              "      <td>758.19</td>\n",
              "      <td>0.0</td>\n",
              "      <td>33038.2</td>\n",
              "      <td>1</td>\n",
              "    </tr>\n",
              "  </tbody>\n",
              "</table>\n",
              "</div>"
            ],
            "text/plain": [
              "      calls  minutes  messages  mb_used  is_ultra\n",
              "1867  114.0   758.19       0.0  33038.2         1"
            ]
          },
          "metadata": {},
          "execution_count": 99
        }
      ]
    },
    {
      "cell_type": "code",
      "metadata": {
        "colab": {
          "base_uri": "https://localhost:8080/",
          "height": 144
        },
        "id": "39sNB3VifbHr",
        "outputId": "63cc7c49-ff85-4ab3-f4e1-c76842da4696"
      },
      "source": [
        "# Create new observations to be used in the model\n",
        "\n",
        "new_features = pd.DataFrame(\n",
        "    [\n",
        "        [100, 500, 80, 10000],\n",
        "        [30, 100, 20, 300],\n",
        "        [1500, 600, 100, 30000],\n",
        "     \n",
        "    ],\n",
        "    columns=features.columns,\n",
        ")\n",
        "\n",
        "new_features"
      ],
      "execution_count": 100,
      "outputs": [
        {
          "output_type": "execute_result",
          "data": {
            "text/html": [
              "<div>\n",
              "<style scoped>\n",
              "    .dataframe tbody tr th:only-of-type {\n",
              "        vertical-align: middle;\n",
              "    }\n",
              "\n",
              "    .dataframe tbody tr th {\n",
              "        vertical-align: top;\n",
              "    }\n",
              "\n",
              "    .dataframe thead th {\n",
              "        text-align: right;\n",
              "    }\n",
              "</style>\n",
              "<table border=\"1\" class=\"dataframe\">\n",
              "  <thead>\n",
              "    <tr style=\"text-align: right;\">\n",
              "      <th></th>\n",
              "      <th>calls</th>\n",
              "      <th>minutes</th>\n",
              "      <th>messages</th>\n",
              "      <th>mb_used</th>\n",
              "    </tr>\n",
              "  </thead>\n",
              "  <tbody>\n",
              "    <tr>\n",
              "      <th>0</th>\n",
              "      <td>100</td>\n",
              "      <td>500</td>\n",
              "      <td>80</td>\n",
              "      <td>10000</td>\n",
              "    </tr>\n",
              "    <tr>\n",
              "      <th>1</th>\n",
              "      <td>30</td>\n",
              "      <td>100</td>\n",
              "      <td>20</td>\n",
              "      <td>300</td>\n",
              "    </tr>\n",
              "    <tr>\n",
              "      <th>2</th>\n",
              "      <td>1500</td>\n",
              "      <td>600</td>\n",
              "      <td>100</td>\n",
              "      <td>30000</td>\n",
              "    </tr>\n",
              "  </tbody>\n",
              "</table>\n",
              "</div>"
            ],
            "text/plain": [
              "   calls  minutes  messages  mb_used\n",
              "0    100      500        80    10000\n",
              "1     30      100        20      300\n",
              "2   1500      600       100    30000"
            ]
          },
          "metadata": {},
          "execution_count": 100
        }
      ]
    },
    {
      "cell_type": "code",
      "metadata": {
        "colab": {
          "base_uri": "https://localhost:8080/"
        },
        "id": "3_hnNF-vfbQJ",
        "outputId": "97488728-3fc9-405f-e636-6c0b580c4917"
      },
      "source": [
        "# Predict the target variable using the new observations\n",
        "\n",
        "answers = model.predict(new_features)\n",
        "\n",
        "print(answers)"
      ],
      "execution_count": 101,
      "outputs": [
        {
          "output_type": "stream",
          "name": "stdout",
          "text": [
            "[0 0 1]\n"
          ]
        }
      ]
    },
    {
      "cell_type": "markdown",
      "metadata": {
        "id": "KyP1CEYanybE"
      },
      "source": [
        "### Recommendations"
      ]
    },
    {
      "cell_type": "markdown",
      "metadata": {
        "id": "_qPjW6SZnyzV"
      },
      "source": [
        "The final model is fairly accurate and can be adopted by the company to recommend a new mobile plan to customers, using their historical data on usage\n"
      ]
    },
    {
      "cell_type": "markdown",
      "metadata": {
        "id": "tuFamvfoqxKY"
      },
      "source": [
        "## Challenging your Solution"
      ]
    },
    {
      "cell_type": "markdown",
      "metadata": {
        "id": "gTtqMqeicY-7"
      },
      "source": [
        "What if we standardized the features. Would this improve the model accuracy?"
      ]
    },
    {
      "cell_type": "code",
      "metadata": {
        "id": "8XTisZqXKOD9"
      },
      "source": [
        "# Import the dataset\n",
        "mobile_df2 = pd.read_csv('https://bit.ly/UsersBehaviourTelco')\n",
        "\n",
        "# Use the StandardScaler module to standardize the numeric features\n",
        "# Import StandardScaler from the library\n",
        "from sklearn.preprocessing import StandardScaler\n",
        "\n",
        "from sklearn.model_selection import train_test_split\n",
        "\n",
        "# Use train_test_split function to split the dataset into training, validation and test datasets in the ratio 3:1:1\n",
        "df_train2, df_valid2= train_test_split(mobile_df2, test_size=0.4,random_state=12345)\n",
        "df_valid2, df_test2= train_test_split(df_valid2, test_size=0.5,random_state=12345)\n",
        "\n",
        "# Declare features and target variables\n",
        "features_train2 = df_train2.drop(['is_ultra'], axis=1)\n",
        "target_train2 = df_train2['is_ultra']\n",
        "features_valid2 = df_valid2.drop(['is_ultra'], axis=1)\n",
        "target_valid2 = df_valid2['is_ultra']\n",
        "features_test2 = df_valid2.drop(['is_ultra'], axis=1)\n",
        "target_test2 = df_valid2['is_ultra']\n",
        "\n",
        "#Create an instance of the StandardScaler() class \n",
        "scaler = StandardScaler()\n",
        "\n",
        "# Tune the instance using data\n",
        "scaler.fit(features_train2)\n",
        "scaler.fit(features_valid2)\n",
        "scaler.fit(features_test2)\n",
        "\n",
        "# Transform the datasets\n",
        "features_train2_scaled = scaler.transform(features_train2)\n",
        "features_valid2_scaled = scaler.transform(features_valid2)\n",
        "features_test2_scaled = scaler.transform(features_test2)"
      ],
      "execution_count": 102,
      "outputs": []
    },
    {
      "cell_type": "code",
      "metadata": {
        "colab": {
          "base_uri": "https://localhost:8080/"
        },
        "id": "S0k4-0T2F2nK",
        "outputId": "e512044b-21a6-4e33-92d1-c819939c3822"
      },
      "source": [
        "# Preview the scaled features\n",
        "\n",
        "features_train2_scaled"
      ],
      "execution_count": 103,
      "outputs": [
        {
          "output_type": "execute_result",
          "data": {
            "text/plain": [
              "array([[-0.1061352 , -0.05431147, -0.31868684, -0.36844583],\n",
              "       [-0.93167875, -0.77515286,  0.61532089, -0.02177348],\n",
              "       [-0.3507407 , -0.44304335,  0.87005028, -0.2753034 ],\n",
              "       ...,\n",
              "       [ 2.46222252,  2.00185624, -1.05457171,  0.97425265],\n",
              "       [-0.77880032, -0.618759  , -0.00735093,  1.4866198 ],\n",
              "       [ 2.95143352,  2.77243175,  1.63423842,  2.52524845]])"
            ]
          },
          "metadata": {},
          "execution_count": 103
        }
      ]
    },
    {
      "cell_type": "markdown",
      "metadata": {
        "id": "j6a7xXIwzEB2"
      },
      "source": [
        "### New model - Hyperparameter tuning and evaluation"
      ]
    },
    {
      "cell_type": "markdown",
      "metadata": {
        "id": "2SMOLo5se7mk"
      },
      "source": [
        "#### Decision tree model"
      ]
    },
    {
      "cell_type": "code",
      "metadata": {
        "colab": {
          "base_uri": "https://localhost:8080/"
        },
        "id": "Vy0hOWwgrVwa",
        "outputId": "b0cd48d5-1454-4421-b45f-0a91fa7da0a0"
      },
      "source": [
        "# Loop to get accuracy scores using different 'max_depth' values\n",
        "\n",
        "for depth in range(1, 21):\n",
        "        model11 = DecisionTreeClassifier(random_state=12345, max_depth=depth) # Define the model\n",
        "\n",
        "        model11.fit(features_train2_scaled, target_train2) # Train the model\n",
        "\n",
        "        print(\"max_depth =\", depth, \": \", end='') # Loop through the different depths\n",
        "        print(model11.score(features_valid2_scaled, target_valid2)) # Display the accuracies on validation dataset predictions"
      ],
      "execution_count": 104,
      "outputs": [
        {
          "output_type": "stream",
          "name": "stdout",
          "text": [
            "max_depth = 1 : 0.7542768273716952\n",
            "max_depth = 2 : 0.7822706065318819\n",
            "max_depth = 3 : 0.7838258164852255\n",
            "max_depth = 4 : 0.7776049766718507\n",
            "max_depth = 5 : 0.7776049766718507\n",
            "max_depth = 6 : 0.7807153965785381\n",
            "max_depth = 7 : 0.7791601866251944\n",
            "max_depth = 8 : 0.776049766718507\n",
            "max_depth = 9 : 0.7807153965785381\n",
            "max_depth = 10 : 0.7713841368584758\n",
            "max_depth = 11 : 0.7589424572317263\n",
            "max_depth = 12 : 0.76049766718507\n",
            "max_depth = 13 : 0.7542768273716952\n",
            "max_depth = 14 : 0.7542768273716952\n",
            "max_depth = 15 : 0.7433903576982893\n",
            "max_depth = 16 : 0.7293934681181959\n",
            "max_depth = 17 : 0.7325038880248833\n",
            "max_depth = 18 : 0.7278382581648523\n",
            "max_depth = 19 : 0.7262830482115086\n",
            "max_depth = 20 : 0.71850699844479\n"
          ]
        }
      ]
    },
    {
      "cell_type": "markdown",
      "metadata": {
        "id": "lwxjKyW4fLy2"
      },
      "source": [
        "#### Random forest classifier model"
      ]
    },
    {
      "cell_type": "code",
      "metadata": {
        "colab": {
          "base_uri": "https://localhost:8080/"
        },
        "id": "7FuaZW56rV-9",
        "outputId": "a3a66bcb-3a42-4d34-e753-93d1e6870766"
      },
      "source": [
        "# Loop to get accuracy scores using different 'n_estimators' values\n",
        "\n",
        "for estimator in range(1, 21):\n",
        "        model22 = RandomForestClassifier(random_state=12345, n_estimators=estimator) # Define the model\n",
        "\n",
        "        model22.fit(features_train2_scaled, target_train2) # Train the model\n",
        "\n",
        "        print(\"n_estimators =\", estimator, \": \", end='') # Loop through the different number of estimators\n",
        "        print(model22.score(features_valid2_scaled, target_valid2)) # Display the accuracies on validation dataset predictions"
      ],
      "execution_count": 105,
      "outputs": [
        {
          "output_type": "stream",
          "name": "stdout",
          "text": [
            "n_estimators = 1 : 0.7091757387247278\n",
            "n_estimators = 2 : 0.76049766718507\n",
            "n_estimators = 3 : 0.7402799377916018\n",
            "n_estimators = 4 : 0.7698289269051322\n",
            "n_estimators = 5 : 0.749611197511664\n",
            "n_estimators = 6 : 0.7807153965785381\n",
            "n_estimators = 7 : 0.7698289269051322\n",
            "n_estimators = 8 : 0.7822706065318819\n",
            "n_estimators = 9 : 0.7744945567651633\n",
            "n_estimators = 10 : 0.7869362363919129\n",
            "n_estimators = 11 : 0.7838258164852255\n",
            "n_estimators = 12 : 0.7884914463452566\n",
            "n_estimators = 13 : 0.7853810264385692\n",
            "n_estimators = 14 : 0.7853810264385692\n",
            "n_estimators = 15 : 0.7838258164852255\n",
            "n_estimators = 16 : 0.7900466562986003\n",
            "n_estimators = 17 : 0.7853810264385692\n",
            "n_estimators = 18 : 0.7916018662519441\n",
            "n_estimators = 19 : 0.7869362363919129\n",
            "n_estimators = 20 : 0.7884914463452566\n"
          ]
        }
      ]
    },
    {
      "cell_type": "markdown",
      "metadata": {
        "id": "j6dGxT-_fmv6"
      },
      "source": [
        "#### Logistic regression model"
      ]
    },
    {
      "cell_type": "code",
      "metadata": {
        "colab": {
          "base_uri": "https://localhost:8080/"
        },
        "id": "K_Q75EKTwSCf",
        "outputId": "98fa242e-9103-419e-f27e-edb757f7bf1e"
      },
      "source": [
        "# get accuracy for the logistic regression model\n",
        "\n",
        "model33 = LogisticRegression(random_state=12345, solver='liblinear') # Define the model\n",
        "\n",
        "model33.fit(features_train2_scaled, target_train2) # Train the model\n",
        "\n",
        "print(model33.score(features_valid2_scaled, target_valid2)) # Display the accuracies on validation dataset predictions"
      ],
      "execution_count": 106,
      "outputs": [
        {
          "output_type": "stream",
          "name": "stdout",
          "text": [
            "0.7558320373250389\n"
          ]
        }
      ]
    },
    {
      "cell_type": "markdown",
      "metadata": {
        "id": "fHkPXoB7qxcQ"
      },
      "source": [
        "### Findings\n",
        "\n",
        "Scaling the features has had a minimal decrease in the accuracy of the model predictions on the validation data set across all the models as shown;\n",
        "Accuracy decreases:\n",
        "1. Decision tree model: From 0.785 to 0.784, with max_depth = 3\n",
        "2. Random forest model: From 0.793 to 0.792, with n_estimators = 18\n",
        "3. Logistic regression model: From 0.759 to 0.756"
      ]
    },
    {
      "cell_type": "code",
      "metadata": {
        "colab": {
          "base_uri": "https://localhost:8080/"
        },
        "id": "xIAP-9u5LHXu",
        "outputId": "ce6ef208-24f0-44db-c675-ae01871bfe89"
      },
      "source": [
        "# Get accuracy of the best performing model using the test dataset\n",
        "\n",
        "model2 = RandomForestClassifier(random_state=12345, n_estimators=18) # Define the model\n",
        "\n",
        "model2.fit(features_train2_scaled, target_train2) # Train the model\n",
        "\n",
        "print(model2.score(features_test2_scaled, target_test2)) # Display the accuracies"
      ],
      "execution_count": 107,
      "outputs": [
        {
          "output_type": "stream",
          "name": "stdout",
          "text": [
            "0.7916018662519441\n"
          ]
        }
      ]
    },
    {
      "cell_type": "markdown",
      "metadata": {
        "id": "SUca8E8wMk7u"
      },
      "source": [
        "Accuracy of the best performing model (RandomForestClassifier(random_state=12345, n_estimators=18)), in test dataset has also reduced slighlty from 0.793 to 0.792"
      ]
    },
    {
      "cell_type": "markdown",
      "metadata": {
        "id": "s9lWSNtAqno8"
      },
      "source": [
        "Let us now train the best performing model using the whole dataset and observe the changes in the prediction for new features. Will they be similar with the previous findings?"
      ]
    },
    {
      "cell_type": "code",
      "metadata": {
        "colab": {
          "base_uri": "https://localhost:8080/"
        },
        "id": "oG9KabVqpRCu",
        "outputId": "65218d78-7aba-4f1a-ae31-3e059fc8e099"
      },
      "source": [
        "# Training the new best performing model using the whole train dataset for higher accuracy\n",
        "\n",
        "# Declare features and target variables\n",
        "features2 = mobile_df2.drop(['is_ultra'], axis=1)\n",
        "target2 = mobile_df2['is_ultra']\n",
        "\n",
        "# Tune the instance using data\n",
        "scaler.fit(features2)\n",
        "\n",
        "# Transform the datasets\n",
        "features2_scaled = scaler.transform(features2)\n",
        "\n",
        "model2 = RandomForestClassifier(random_state=12345, n_estimators=18) # Define the model\n",
        "\n",
        "model2.fit(features2_scaled, target2) # Train the model\n",
        "\n",
        "print(model2.score(features2_scaled, target2)) # Display model accuracy"
      ],
      "execution_count": 108,
      "outputs": [
        {
          "output_type": "stream",
          "name": "stdout",
          "text": [
            "0.9928438083385189\n"
          ]
        }
      ]
    },
    {
      "cell_type": "code",
      "metadata": {
        "colab": {
          "base_uri": "https://localhost:8080/"
        },
        "id": "eiOoponopu5A",
        "outputId": "f4257ea7-e090-47cf-9f61-23b6aabe6d79"
      },
      "source": [
        "# Predict the target variable using the new observations\n",
        "# Tune the instance using data\n",
        "scaler.fit(new_features)\n",
        "\n",
        "# Transform the dataset\n",
        "new_features_scaled = scaler.transform(new_features)\n",
        "\n",
        "# Obtain model predictions\n",
        "answers2 = model2.predict(new_features_scaled)\n",
        "\n",
        "print(answers)\n",
        "print(answers2)"
      ],
      "execution_count": 109,
      "outputs": [
        {
          "output_type": "stream",
          "name": "stdout",
          "text": [
            "[0 0 1]\n",
            "[0 0 1]\n"
          ]
        }
      ]
    },
    {
      "cell_type": "markdown",
      "metadata": {
        "id": "qxX1xqpUqyku"
      },
      "source": [
        "### Summary\n",
        "* While the accuracy on the test dataset has decreased slightly from 0.793 to 0.792, the accuracy on the whole dataset is 0.993 on both. The predictions on the 3 new features are is also the same for both models\n",
        "\n",
        "* The company can adopt either model as the results are similar"
      ]
    },
    {
      "cell_type": "markdown",
      "metadata": {
        "id": "0Wq8JmVjwZIT"
      },
      "source": [
        "## 7. Follow up questions"
      ]
    },
    {
      "cell_type": "markdown",
      "metadata": {
        "id": "osSj5jemwZSe"
      },
      "source": [
        "### a). Did we have the right data?"
      ]
    },
    {
      "cell_type": "markdown",
      "metadata": {
        "id": "vX6o5SRSwZcC"
      },
      "source": [
        "Yes"
      ]
    },
    {
      "cell_type": "markdown",
      "metadata": {
        "id": "5DtAzHEBwZ41"
      },
      "source": [
        "### b). Do we need other data to answer our question?"
      ]
    },
    {
      "cell_type": "markdown",
      "metadata": {
        "id": "zjyL6HAlwnPF"
      },
      "source": [
        "If the total cost of the monthly usage is different from the plan subscription cost, then the data on 'total charges' per month could be useful in providing additional insights on customer preference"
      ]
    },
    {
      "cell_type": "markdown",
      "metadata": {
        "id": "XhjHmTsPwnfY"
      },
      "source": [
        "### c). Did we have the right question?"
      ]
    },
    {
      "cell_type": "markdown",
      "metadata": {
        "id": "3Q6VapCaw4gu"
      },
      "source": [
        "Yes we did"
      ]
    }
  ]
}